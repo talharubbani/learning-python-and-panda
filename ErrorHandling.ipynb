{
 "cells": [
  {
   "cell_type": "code",
   "execution_count": null,
   "id": "6f49f392-7db3-4661-b730-54f44a6c7647",
   "metadata": {},
   "outputs": [],
   "source": [
    "5/0"
   ]
  },
  {
   "cell_type": "code",
   "execution_count": 6,
   "id": "3a9219c8-95c7-44c1-bc5a-874608352536",
   "metadata": {},
   "outputs": [
    {
     "name": "stdout",
     "output_type": "stream",
     "text": [
      "division by zero\n",
      "My name is Talha\n"
     ]
    }
   ],
   "source": [
    "try:\n",
    "    5 / 0\n",
    "except Exception as e:\n",
    "    print(e)\n",
    "    print(\"My name is Talha\")"
   ]
  },
  {
   "cell_type": "markdown",
   "id": "8c21c1ad-a068-4ff3-b6c9-b7d0a022f22a",
   "metadata": {},
   "source": [
    "Write a function that takes two integers divide first integer with 0 and then return the sum of two integer."
   ]
  },
  {
   "cell_type": "code",
   "execution_count": 7,
   "id": "621fcad9-a0f6-4ec5-805a-218e03bc6369",
   "metadata": {},
   "outputs": [],
   "source": [
    "a = 5\n",
    "b = 10"
   ]
  },
  {
   "cell_type": "code",
   "execution_count": 10,
   "id": "7ccd4edd-4234-4fb0-8d6c-47bfa423b852",
   "metadata": {},
   "outputs": [
    {
     "name": "stdout",
     "output_type": "stream",
     "text": [
      "15\n"
     ]
    }
   ],
   "source": [
    "def sum_int(int):\n",
    "    try:\n",
    "        a / 0\n",
    "    except Exception as e:\n",
    "        return a + b\n",
    "print(sum_int(int))\n",
    "    "
   ]
  },
  {
   "cell_type": "code",
   "execution_count": null,
   "id": "dfb59dfe-339f-4c00-baf2-44c5f503ad17",
   "metadata": {},
   "outputs": [],
   "source": []
  }
 ],
 "metadata": {
  "kernelspec": {
   "display_name": "Python 3 (ipykernel)",
   "language": "python",
   "name": "python3"
  },
  "language_info": {
   "codemirror_mode": {
    "name": "ipython",
    "version": 3
   },
   "file_extension": ".py",
   "mimetype": "text/x-python",
   "name": "python",
   "nbconvert_exporter": "python",
   "pygments_lexer": "ipython3",
   "version": "3.10.18"
  }
 },
 "nbformat": 4,
 "nbformat_minor": 5
}
