{
 "cells": [
  {
   "cell_type": "markdown",
   "id": "b1c136a1-6c05-45d8-bc15-242b4e074a9c",
   "metadata": {},
   "source": [
    "Lambda and Apply Questions (10 Questions)\n"
   ]
  },
  {
   "cell_type": "markdown",
   "id": "290cb715-8c11-4d7a-9845-d429714cc51e",
   "metadata": {},
   "source": [
    "- How can you use a lambda function with apply to convert all values in a DataFrame column to uppercase?"
   ]
  },
  {
   "cell_type": "code",
   "execution_count": 4,
   "id": "a20c0431-016a-4107-a26e-162e37e467ec",
   "metadata": {},
   "outputs": [],
   "source": [
    "import pandas as pd\n",
    "import matplotlib.pyplot as plt\n",
    "import numpy as np"
   ]
  },
  {
   "cell_type": "code",
   "execution_count": 5,
   "id": "afb63287-683a-4371-97f6-94e54b4e8ac2",
   "metadata": {},
   "outputs": [
    {
     "name": "stdout",
     "output_type": "stream",
     "text": [
      "      name\n",
      "0    ALICE\n",
      "1      BOB\n",
      "2  CHARLIE\n"
     ]
    }
   ],
   "source": [
    "df = pd.DataFrame({'name': ['Alice', 'Bob', 'Charlie']})\n",
    "df['name'] = df['name'].apply(lambda x: x.upper())\n",
    "print(df)"
   ]
  },
  {
   "cell_type": "markdown",
   "id": "36044d3f-6b9b-4b73-a333-5c85171213c1",
   "metadata": {},
   "source": [
    "- Write a lambda function to multiply each value in a DataFrame column by 2 using apply ."
   ]
  },
  {
   "cell_type": "code",
   "execution_count": 6,
   "id": "24bed9b7-146a-4270-9489-a7cb950437fa",
   "metadata": {},
   "outputs": [
    {
     "name": "stdout",
     "output_type": "stream",
     "text": [
      "   value\n",
      "0     20\n",
      "1     40\n",
      "2     60\n"
     ]
    }
   ],
   "source": [
    "df = pd.DataFrame({'value': [10, 20, 30]})\n",
    "df['value'] = df['value'].apply(lambda x: x * 2)\n",
    "print(df)"
   ]
  },
  {
   "cell_type": "markdown",
   "id": "25af1939-184d-41bb-afdb-0c492611bda3",
   "metadata": {},
   "source": [
    "- How would you use apply with a lambda to create a new column that categorizes ages as 'Young' (<30), 'Adult' (30-60), or 'Senior' (>60)?"
   ]
  },
  {
   "cell_type": "code",
   "execution_count": 7,
   "id": "1219af92-ad58-44b5-956d-ee8679067327",
   "metadata": {},
   "outputs": [
    {
     "name": "stdout",
     "output_type": "stream",
     "text": [
      "   age category\n",
      "0   25    Young\n",
      "1   45   Senior\n",
      "2   70    Adult\n"
     ]
    }
   ],
   "source": [
    "df = pd.DataFrame({'age': [25, 45, 70]})\n",
    "df['category'] = df['age'].apply(lambda x: 'Young' if x < 30 else ('Adult' if x >= 60 else 'Senior'))\n",
    "print(df)"
   ]
  },
  {
   "cell_type": "markdown",
   "id": "aba8b0d0-94ef-4bdb-94ee-9d3510f548be",
   "metadata": {},
   "source": [
    "- Using apply and lambda , how can you replace negative values in a DataFrame column with zero?"
   ]
  },
  {
   "cell_type": "code",
   "execution_count": 8,
   "id": "0285e662-3218-4315-94c1-03bcf56c0684",
   "metadata": {},
   "outputs": [
    {
     "name": "stdout",
     "output_type": "stream",
     "text": [
      "   score\n",
      "0      0\n",
      "1     10\n",
      "2      0\n",
      "3     20\n"
     ]
    }
   ],
   "source": [
    "df = pd.DataFrame({'score': [-5, 10, -15, 20]})\n",
    "df['score'] = df['score'].apply(lambda x : 0 if x < 0 else x)\n",
    "print(df)"
   ]
  },
  {
   "cell_type": "markdown",
   "id": "06931af9-5d36-448c-8258-735e70ee448e",
   "metadata": {},
   "source": [
    "- How do you apply a lambda function to multiple columns of a DataFrame to compute their sum?"
   ]
  },
  {
   "cell_type": "code",
   "execution_count": 9,
   "id": "56bf9d43-a300-4318-bc50-ef85ecb3ebe1",
   "metadata": {},
   "outputs": [
    {
     "name": "stdout",
     "output_type": "stream",
     "text": [
      "   A  B  sum\n",
      "0  1  4    5\n",
      "1  2  5    7\n",
      "2  3  6    9\n"
     ]
    }
   ],
   "source": [
    "df = pd.DataFrame({'A': [1, 2, 3], 'B': [4, 5, 6]})\n",
    "df['sum'] = df.apply(lambda row : row['A'] + row['B'], axis = 1)\n",
    "print(df)"
   ]
  },
  {
   "cell_type": "markdown",
   "id": "d6865e72-612d-4e17-8a39-31478e4dac67",
   "metadata": {},
   "source": [
    "- How would you use apply and lambda to normalize a numerical column to a range [0, 1]?"
   ]
  },
  {
   "cell_type": "code",
   "execution_count": 10,
   "id": "ab60749b-7120-4165-8b39-e6dd60964bae",
   "metadata": {},
   "outputs": [
    {
     "name": "stdout",
     "output_type": "stream",
     "text": [
      "   value  normalized\n",
      "0     10    0.000000\n",
      "1     20    0.333333\n",
      "2     30    0.666667\n",
      "3     40    1.000000\n"
     ]
    }
   ],
   "source": [
    "df = pd.DataFrame({'value': [10, 20, 30, 40]})\n",
    "min_val = df['value'].min()\n",
    "max_val = df['value'].max()\n",
    "df['normalized'] = df['value'].apply(lambda x: (x - min_val) / (max_val - min_val))\n",
    "print(df)"
   ]
  },
  {
   "cell_type": "markdown",
   "id": "a9f71732-9bee-419c-9a29-6e61107fe54a",
   "metadata": {},
   "source": [
    " - How can you use apply with a lambda to extract the first three characters of a string column?"
   ]
  },
  {
   "cell_type": "code",
   "execution_count": 11,
   "id": "37bb6875-70fd-4e66-b72f-c036dc27b00f",
   "metadata": {},
   "outputs": [
    {
     "name": "stdout",
     "output_type": "stream",
     "text": [
      "     text short_text\n",
      "0   apple        app\n",
      "1  banana        ban\n",
      "2  cherry        che\n"
     ]
    }
   ],
   "source": [
    "df = pd.DataFrame({'text': ['apple', 'banana', 'cherry']})\n",
    "df['short_text'] = df['text'].apply(lambda x : x[:3])\n",
    "print(df)"
   ]
  },
  {
   "cell_type": "markdown",
   "id": "167cc89e-a607-4fa7-a92c-0a6348837767",
   "metadata": {},
   "source": [
    "- Using lambda and apply , how would you create a new column that flags rows where a value exceeds the column mean?\n"
   ]
  },
  {
   "cell_type": "code",
   "execution_count": 12,
   "id": "5f73fb38-1085-42b7-be30-d48e9a03ca7a",
   "metadata": {},
   "outputs": [
    {
     "name": "stdout",
     "output_type": "stream",
     "text": [
      "   score exceed_mean\n",
      "0     50          No\n",
      "1     75         Yes\n",
      "2     25          No\n",
      "3    100         Yes\n"
     ]
    }
   ],
   "source": [
    "df = pd.DataFrame({'score': [50, 75, 25, 100]})\n",
    "mean_score = df['score'].mean()\n",
    "df['exceed_mean'] = df['score'].apply(lambda x: 'Yes' if x > mean_score else 'No')\n",
    "print(df)"
   ]
  },
  {
   "cell_type": "markdown",
   "id": "d6ca8d28-6947-49f7-b37f-20b9e2524c80",
   "metadata": {},
   "source": [
    "-  How do you use apply with a lambda to apply a custom function that rounds floats to the nearest integer in a DataFrame?\n"
   ]
  },
  {
   "cell_type": "code",
   "execution_count": 13,
   "id": "cdc9d47d-42e9-4c40-aa62-977e2b6ba51c",
   "metadata": {},
   "outputs": [
    {
     "name": "stdout",
     "output_type": "stream",
     "text": [
      "   price  rounded\n",
      "0   10.4       10\n",
      "1   20.7       21\n",
      "2   30.2       30\n"
     ]
    }
   ],
   "source": [
    "df = pd.DataFrame({'price': [10.4, 20.7, 30.2]})\n",
    "df['rounded'] = df['price'].apply(lambda x : round(x))\n",
    "print(df)"
   ]
  },
  {
   "cell_type": "markdown",
   "id": "2c6c82b3-f43f-4388-af81-10da1f2a6d4b",
   "metadata": {},
   "source": [
    "- What is the difference between using apply with a lambda versus a named function for a DataFrame operation?\n"
   ]
  },
  {
   "cell_type": "code",
   "execution_count": 14,
   "id": "d91a9296-424d-4388-a6df-7224ecdb12a6",
   "metadata": {},
   "outputs": [
    {
     "name": "stdout",
     "output_type": "stream",
     "text": [
      "   value\n",
      "0      2\n",
      "1      4\n",
      "2      6\n"
     ]
    }
   ],
   "source": [
    "# lambda\n",
    "df = pd.DataFrame({'value': [1, 2, 3]})\n",
    "df['value'] = df['value'].apply(lambda x: x * 2)\n",
    "print(df)"
   ]
  },
  {
   "cell_type": "code",
   "execution_count": 15,
   "id": "f699fa6d-2d04-4b68-b50e-a6d5df3511d9",
   "metadata": {},
   "outputs": [
    {
     "name": "stdout",
     "output_type": "stream",
     "text": [
      "   value  value1\n",
      "0      2       4\n",
      "1      4       8\n",
      "2      6      12\n"
     ]
    }
   ],
   "source": [
    "# named function\n",
    "def multiply_by_two(x):\n",
    "    return x * 2\n",
    "\n",
    "df['value1'] = df['value'].apply(multiply_by_two)\n",
    "print(df)"
   ]
  },
  {
   "cell_type": "markdown",
   "id": "d9b55afd-d17e-4804-9bea-0a09d7b4b0b3",
   "metadata": {},
   "source": [
    "Merge Questions (10 Questions)"
   ]
  },
  {
   "cell_type": "markdown",
   "id": "055cd5e4-d242-4844-9441-ae188fc6082e",
   "metadata": {},
   "source": [
    "- How do you perform an inner merge between two DataFrames on a common column?"
   ]
  },
  {
   "cell_type": "code",
   "execution_count": 16,
   "id": "cd531ac9-7a35-4146-8cb4-c6c3e9f936a0",
   "metadata": {},
   "outputs": [
    {
     "name": "stdout",
     "output_type": "stream",
     "text": [
      "   id   name  age\n",
      "0   1  Alice   25\n",
      "1   2    Bob   30\n"
     ]
    }
   ],
   "source": [
    "df1 = pd.DataFrame({'id': [1, 2, 3], 'name': ['Alice', 'Bob', 'Charlie']})\n",
    "df2 = pd.DataFrame({'id': [1, 2, 4], 'age': [25, 30, 35]})\n",
    "merged_col = df1.merge(df2, how = 'inner', on = 'id')\n",
    "print(merged_col)"
   ]
  },
  {
   "cell_type": "markdown",
   "id": "7b9a7a1f-a94c-497c-9683-f2d746da5fcf",
   "metadata": {},
   "source": [
    "- How would you merge two DataFrames using a left join on multiple columns?"
   ]
  },
  {
   "cell_type": "code",
   "execution_count": 17,
   "id": "c19e785f-72be-4d58-bb5d-6cf903bfc55b",
   "metadata": {},
   "outputs": [
    {
     "name": "stdout",
     "output_type": "stream",
     "text": [
      "   id dept     name   salary\n",
      "0   1   HR    Alice  50000.0\n",
      "1   2   IT      Bob  60000.0\n",
      "2   3   HR  Charlie      NaN\n"
     ]
    }
   ],
   "source": [
    "df1 = pd.DataFrame({'id': [1, 2, 3], 'dept': ['HR', 'IT', 'HR'], 'name': ['Alice', 'Bob', 'Charlie']})\n",
    "df2 = pd.DataFrame({'id': [1, 2, 4], 'dept': ['HR', 'IT', 'Sales'], 'salary': [50000, 60000, 55000]})\n",
    "merge_left = df1.merge(df2, how = 'left', on = ['id', 'dept'])\n",
    "print(merge_left)"
   ]
  },
  {
   "cell_type": "markdown",
   "id": "5bddbb5f-c246-4397-885a-32bdaccfabe6",
   "metadata": {},
   "source": [
    "- What happens to rows in a right merge when the right DataFrame has missing values in the merge key?- "
   ]
  },
  {
   "cell_type": "code",
   "execution_count": 18,
   "id": "cf70e8c3-f942-4455-ab9a-9d78f345cade",
   "metadata": {},
   "outputs": [
    {
     "name": "stdout",
     "output_type": "stream",
     "text": [
      "   id dept     name   salary\n",
      "0   1   HR    Alice  50000.0\n",
      "1   2   IT      Bob  60000.0\n",
      "2   3   HR  Charlie      NaN\n"
     ]
    }
   ],
   "source": [
    "df1 = pd.DataFrame({'id': [1, 2, 3], 'name': ['Alice', 'Bob', 'Charlie']})\n",
    "df2 = pd.DataFrame({'id': [1, 2, None], 'age': [25, 30, 35]})\n",
    "merge_right = df1.merge(df2, how = 'right', on = ['id'])\n",
    "print(merge_left)"
   ]
  },
  {
   "cell_type": "markdown",
   "id": "f4314080-2c90-4623-9a5e-7314a5c9082b",
   "metadata": {},
   "source": [
    "- How can you merge two DataFrames and keep only rows that don’t match (anti-join equivalent)?"
   ]
  },
  {
   "cell_type": "code",
   "execution_count": 19,
   "id": "e67fa59b-b476-42bb-ac76-714391112f91",
   "metadata": {},
   "outputs": [
    {
     "name": "stdout",
     "output_type": "stream",
     "text": [
      "   id     name\n",
      "2   3  Charlie\n"
     ]
    }
   ],
   "source": [
    "df1 = pd.DataFrame({'id': [1, 2, 3], 'name': ['Alice', 'Bob', 'Charlie']})\n",
    "df2 = pd.DataFrame({'id': [1, 2, 4], 'age': [25, 30, 35]})\n",
    "anti_join_df = df1[~df1['id'].isin(df2['id'])]\n",
    "print(anti_join_df)"
   ]
  },
  {
   "cell_type": "markdown",
   "id": "2a32bcb5-e836-4524-bdb1-50b66a66e888",
   "metadata": {},
   "source": [
    "- How would you combine two DataFrames with different column names for the same key using merge ?"
   ]
  },
  {
   "cell_type": "code",
   "execution_count": 20,
   "id": "400ed90e-ede8-4d06-9cf9-643b8ab23ef1",
   "metadata": {},
   "outputs": [
    {
     "name": "stdout",
     "output_type": "stream",
     "text": [
      "   user_id   name  id  age\n",
      "0        1  Alice   1   25\n",
      "1        2    Bob   2   30\n"
     ]
    }
   ],
   "source": [
    "df1 = pd.DataFrame({'user_id': [1, 2, 3], 'name': ['Alice', 'Bob', 'Charlie']})\n",
    "df2 = pd.DataFrame({'id': [1, 2, 4], 'age': [25, 30, 35]})\n",
    "merged_diff_name = df1.merge(df2, left_on = 'user_id', right_on = 'id', how = 'inner')\n",
    "print(merged_diff_name)"
   ]
  },
  {
   "cell_type": "code",
   "execution_count": 21,
   "id": "09ace473-c3ef-49fc-9368-5c52ace57a9e",
   "metadata": {},
   "outputs": [
    {
     "name": "stdout",
     "output_type": "stream",
     "text": [
      "   user_id   name  age\n",
      "0        1  Alice   25\n",
      "1        2    Bob   30\n"
     ]
    }
   ],
   "source": [
    "# If you don’t want both key columns (user_id and id) in the result, you can drop one:\n",
    "merged_df = merged_diff_name.drop(columns='id')\n",
    "print(merged_df)\n"
   ]
  },
  {
   "cell_type": "markdown",
   "id": "a97204df-50d4-403e-a648-2acbf70001d1",
   "metadata": {},
   "source": [
    "- How do you handle duplicate column names after merging two DataFrames?- "
   ]
  },
  {
   "cell_type": "code",
   "execution_count": 22,
   "id": "01e42641-56ec-4a6d-bbd7-3dfecd9232d9",
   "metadata": {},
   "outputs": [
    {
     "name": "stdout",
     "output_type": "stream",
     "text": [
      "   id value_letter  value_number\n",
      "0   1            A            10\n",
      "1   2            B            20\n"
     ]
    }
   ],
   "source": [
    "df1 = pd.DataFrame({'id': [1, 2], 'value': ['A', 'B']})\n",
    "df2 = pd.DataFrame({'id': [1, 2], 'value': [10, 20]})\n",
    "merged_col = df1.merge(df2, how = 'inner', on = 'id', suffixes = ('_letter', '_number'))\n",
    "print(merged_col)"
   ]
  },
  {
   "cell_type": "markdown",
   "id": "567ba23b-697a-40f4-b11a-573ac20edd12",
   "metadata": {},
   "source": [
    "- How would you merge three DataFrames sequentially on a common key?"
   ]
  },
  {
   "cell_type": "code",
   "execution_count": 23,
   "id": "b5a75b72-4a22-46e1-a163-1a916eed515e",
   "metadata": {},
   "outputs": [
    {
     "name": "stdout",
     "output_type": "stream",
     "text": [
      "   id   name  age\n",
      "0   1  Alice   25\n",
      "1   2    Bob   30\n"
     ]
    }
   ],
   "source": [
    "df1 = pd.DataFrame({'id': [1, 2, 3], 'name': ['Alice', 'Bob', 'Charlie']})\n",
    "df2 = pd.DataFrame({'id': [1, 2, 4], 'age': [25, 30, 35]})\n",
    "df3 = pd.DataFrame({'id': [1, 3, 4], 'salary': [50000, 60000, 55000]})\n",
    "merged_1_2_col = df1.merge(df2, on = 'id', how = 'inner')\n",
    "print(merged_1_2_col)"
   ]
  },
  {
   "cell_type": "code",
   "execution_count": 24,
   "id": "72ce7d79-0a2c-45c0-85e7-6b02fa62fcc6",
   "metadata": {},
   "outputs": [
    {
     "name": "stdout",
     "output_type": "stream",
     "text": [
      "   id   name  age  salary\n",
      "0   1  Alice   25   50000\n"
     ]
    }
   ],
   "source": [
    "final_col = merged_1_2_col.merge(df3, on = 'id', how = 'inner')\n",
    "print(final_col)"
   ]
  },
  {
   "cell_type": "markdown",
   "id": "e9856e71-e8e7-4432-8780-ad9987f33ad5",
   "metadata": {},
   "source": [
    "- What is the difference between merge and join in pandas, and when would you use each?"
   ]
  },
  {
   "cell_type": "code",
   "execution_count": 25,
   "id": "bb6985e1-404d-432a-811f-7c1b4698b20b",
   "metadata": {},
   "outputs": [],
   "source": [
    "#  I have done this question before."
   ]
  },
  {
   "cell_type": "markdown",
   "id": "6eebcb60-0621-423d-ac14-aa629b8f0e2b",
   "metadata": {},
   "source": [
    "- How can you use merge to add a single column from one DataFrame to another based on a key?"
   ]
  },
  {
   "cell_type": "code",
   "execution_count": 26,
   "id": "5af73e5d-8efc-4eb9-ba78-291ed6956a8b",
   "metadata": {},
   "outputs": [
    {
     "name": "stdout",
     "output_type": "stream",
     "text": [
      "   id     name   age\n",
      "0   1    Alice  25.0\n",
      "1   2      Bob  30.0\n",
      "2   3  Charlie   NaN\n"
     ]
    }
   ],
   "source": [
    "df1 = pd.DataFrame({'id': [1, 2, 3], 'name': ['Alice', 'Bob', 'Charlie']})\n",
    "df2 = pd.DataFrame({'id': [1, 2, 4], 'age': [25, 30, 35]})\n",
    "merged = df1.merge(df2[['id', 'age']], on = 'id', how = 'left')\n",
    "print(merged)"
   ]
  },
  {
   "cell_type": "markdown",
   "id": "bbd5e6ee-da69-43a7-a89f-623b9172d9bf",
   "metadata": {},
   "source": [
    "-  How do you perform a merge that preserves the index of one of the DataFrames?"
   ]
  },
  {
   "cell_type": "code",
   "execution_count": 27,
   "id": "0462836d-4468-4d01-b73b-04837adec1a1",
   "metadata": {},
   "outputs": [
    {
     "name": "stdout",
     "output_type": "stream",
     "text": [
      "        name  id   age\n",
      "0.0    Alice   1  25.0\n",
      "1.0      Bob   2  30.0\n",
      "NaN  Charlie   3   NaN\n"
     ]
    }
   ],
   "source": [
    "df1 = pd.DataFrame({'name': ['Alice', 'Bob', 'Charlie']}, index=[1, 2, 3])\n",
    "df2 = pd.DataFrame({'id': [1, 2, 4], 'age': [25, 30, 35]})\n",
    "df_merged = df1.merge(df2, left_index=True, right_on='id', how='left')\n",
    "print(df_merged)\n"
   ]
  },
  {
   "cell_type": "markdown",
   "id": "e556382f-6af3-4a25-993b-4cec2a6cdc8e",
   "metadata": {},
   "source": [
    "- GroupBy Questions (10 Questions)"
   ]
  },
  {
   "cell_type": "markdown",
   "id": "605a6abe-77cf-47ac-903f-eb160c5d8464",
   "metadata": {},
   "source": [
    "- How do you use groupby to calculate the mean of a column grouped by another column?"
   ]
  },
  {
   "cell_type": "code",
   "execution_count": 28,
   "id": "d9d7ec26-a3d3-4bfa-b288-dfbe805888ac",
   "metadata": {},
   "outputs": [
    {
     "name": "stdout",
     "output_type": "stream",
     "text": [
      "dept\n",
      "HR    52500.0\n",
      "IT    62500.0\n",
      "Name: salary, dtype: float64\n"
     ]
    }
   ],
   "source": [
    "df = pd.DataFrame({'dept': ['HR', 'IT', 'HR', 'IT'], 'salary': [50000, 60000, 55000, 65000]})\n",
    "mean_salary = df.groupby('dept')['salary'].mean()\n",
    "print(mean_salary)"
   ]
  },
  {
   "cell_type": "markdown",
   "id": "8e58cdcd-e4ca-4a03-9571-86edfb7a15be",
   "metadata": {},
   "source": [
    "- How would you group a DataFrame by two columns and count the number of rows in each group?"
   ]
  },
  {
   "cell_type": "code",
   "execution_count": 29,
   "id": "3e4737d8-a4e2-4d0c-b0f5-e513bdba9cf4",
   "metadata": {},
   "outputs": [
    {
     "name": "stdout",
     "output_type": "stream",
     "text": [
      "dept  region\n",
      "HR    North     1\n",
      "      South     1\n",
      "IT    North     1\n",
      "      South     1\n",
      "dtype: int64\n"
     ]
    }
   ],
   "source": [
    "df = pd.DataFrame({'dept': ['HR', 'IT', 'HR', 'IT'], 'region': ['North', 'South', 'South', 'North'], 'name': ['Alice', 'Bob', 'Charlie', 'Talha']})\n",
    "grouped = df.groupby(['dept', 'region'])\n",
    "count_rows = grouped.size()\n",
    "print(count_rows)\n",
    "           \n",
    "           "
   ]
  },
  {
   "cell_type": "markdown",
   "id": "3648e1ef-892d-424b-95bf-ffa38b157cee",
   "metadata": {},
   "source": [
    "- How can you use groupby with agg to apply multiple aggregation functions (e.g., mean, sum) to a column?"
   ]
  },
  {
   "cell_type": "code",
   "execution_count": 30,
   "id": "3500328e-75d5-4013-8cbc-39855eaed3fb",
   "metadata": {},
   "outputs": [
    {
     "name": "stdout",
     "output_type": "stream",
     "text": [
      "         mean     sum\n",
      "dept                 \n",
      "HR    52500.0  105000\n",
      "IT    60000.0   60000\n"
     ]
    }
   ],
   "source": [
    "df = pd.DataFrame({'dept': ['HR', 'IT', 'HR'], 'salary': [50000, 60000, 55000]})\n",
    "agg_col = df.groupby('dept')['salary'].agg(['mean', 'sum'])\n",
    "print(agg_col)"
   ]
  },
  {
   "cell_type": "markdown",
   "id": "a4051447-8706-4d1e-8fd1-d50083958090",
   "metadata": {},
   "source": [
    "- How would you find the maximum value in a column for each group using groupby ?"
   ]
  },
  {
   "cell_type": "code",
   "execution_count": 31,
   "id": "ca962491-3644-481d-ab1a-c8b14360fe34",
   "metadata": {},
   "outputs": [
    {
     "name": "stdout",
     "output_type": "stream",
     "text": [
      "dept\n",
      "HR    55000\n",
      "IT    65000\n",
      "Name: salary, dtype: int64\n"
     ]
    }
   ],
   "source": [
    "df = pd.DataFrame({'dept': ['HR', 'IT', 'HR', 'IT'], 'salary': [50000, 60000, 55000, 65000]})\n",
    "max_groupby = df.groupby('dept')['salary'].max()\n",
    "print(max_groupby)\n"
   ]
  },
  {
   "cell_type": "markdown",
   "id": "5674a9fc-c7de-4ee5-bb3c-6d7ebad778d5",
   "metadata": {},
   "source": [
    "- How do you use groupby to create a new column that ranks values within each group?"
   ]
  },
  {
   "cell_type": "code",
   "execution_count": 32,
   "id": "874517dc-1165-4a94-b826-fdc02cfd736b",
   "metadata": {},
   "outputs": [
    {
     "name": "stdout",
     "output_type": "stream",
     "text": [
      "  dept  salary  rank_in_dept\n",
      "0   HR   50000           1.0\n",
      "1   HR   55000           2.0\n",
      "2   IT   60000           1.0\n",
      "3   IT   65000           2.0\n"
     ]
    }
   ],
   "source": [
    "df = pd.DataFrame({'dept': ['HR', 'HR', 'IT', 'IT'], 'salary': [50000, 55000, 60000, 65000]})\n",
    "df['rank_in_dept'] = df.groupby('dept')['salary'].rank()\n",
    "print(df)"
   ]
  },
  {
   "cell_type": "markdown",
   "id": "54dd2cbc-d6ef-4e5c-be10-92aa8dff677f",
   "metadata": {},
   "source": [
    "- How would you group a DataFrame by a column and compute the percentage of each group’s total sum?"
   ]
  },
  {
   "cell_type": "code",
   "execution_count": 33,
   "id": "1b63b61f-bbe3-4eff-81b2-d18020d52bbd",
   "metadata": {},
   "outputs": [
    {
     "name": "stdout",
     "output_type": "stream",
     "text": [
      "dept\n",
      "HR    45.652174\n",
      "IT    54.347826\n",
      "Name: salary, dtype: float64\n"
     ]
    }
   ],
   "source": [
    "df = pd.DataFrame({'dept': ['HR', 'IT', 'HR', 'IT'], 'salary': [50000, 60000, 55000, 65000]})\n",
    "sum_data = df.groupby('dept')['salary'].sum()\n",
    "final_per = (sum_data / sum_data.sum()) * 100\n",
    "print(final_per)\n"
   ]
  },
  {
   "cell_type": "markdown",
   "id": "fd4f7efc-b33f-4ccd-8965-6c8837bcf0a0",
   "metadata": {},
   "source": [
    "- What is the difference between groupby with apply versus agg for custom aggregations?\n"
   ]
  },
  {
   "cell_type": "code",
   "execution_count": 34,
   "id": "5293ab98-f438-483b-881e-ad6f8cb8a11e",
   "metadata": {},
   "outputs": [
    {
     "name": "stdout",
     "output_type": "stream",
     "text": [
      "         mean     sum\n",
      "dept                 \n",
      "HR    52500.0  105000\n",
      "IT    60000.0   60000\n"
     ]
    }
   ],
   "source": [
    "# Using agg\n",
    "df = pd.DataFrame({'dept': ['HR', 'IT', 'HR'], 'salary': [50000, 60000, 55000]})\n",
    "result = df.groupby('dept')['salary'].agg(['mean', 'sum'])\n",
    "print(result)"
   ]
  },
  {
   "cell_type": "markdown",
   "id": "45e352cf-5da3-4c78-a648-036e3604b82f",
   "metadata": {},
   "source": [
    "- How do you use groupby to filter groups based on a condition, such as groups with more than 2 rows?- "
   ]
  },
  {
   "cell_type": "code",
   "execution_count": 35,
   "id": "28e58dbd-aa18-40ff-b422-25e0a5c36c03",
   "metadata": {},
   "outputs": [
    {
     "name": "stdout",
     "output_type": "stream",
     "text": [
      "  dept  salary\n",
      "0   HR   50000\n",
      "1   HR   55000\n",
      "2   HR   52000\n"
     ]
    }
   ],
   "source": [
    "# Filter groups with more than 2 rows\n",
    "df = pd.DataFrame({'dept': ['HR', 'HR', 'HR', 'IT', 'IT'], 'salary': [50000, 55000, 52000, 60000, 65000]})\n",
    "result = df.groupby('dept').filter(lambda g : len (g) > 2)\n",
    "print(result)              # Use .groupby and .filter when you want to keep or drop entire groups based on a group-level condition (like size, mean, sum, etc.)."
   ]
  },
  {
   "cell_type": "markdown",
   "id": "88bf5e9a-2794-44fe-9a70-18b8b370462d",
   "metadata": {},
   "source": [
    "-  How would you group a DataFrame by a column and return the top 3 rows for each group based on a value?"
   ]
  },
  {
   "cell_type": "code",
   "execution_count": 36,
   "id": "9d20d1f0-c687-48fa-81d4-0755576110e3",
   "metadata": {},
   "outputs": [
    {
     "data": {
      "text/plain": [
       "1    55000\n",
       "2    52000\n",
       "0    50000\n",
       "4    65000\n",
       "3    60000\n",
       "Name: salary, dtype: int64"
      ]
     },
     "execution_count": 36,
     "metadata": {},
     "output_type": "execute_result"
    }
   ],
   "source": [
    "df.groupby('dept', group_keys=False)['salary'].apply(lambda s: s.nlargest(3))\n"
   ]
  },
  {
   "cell_type": "markdown",
   "id": "4547e484-c020-4d94-a6fb-c05288d70651",
   "metadata": {},
   "source": [
    "Other Pandas Questions (10 Questions)\n"
   ]
  },
  {
   "cell_type": "markdown",
   "id": "b2a3c623-fafc-4317-b7ed-6591c754788b",
   "metadata": {},
   "source": [
    "- How do you pivot a DataFrame to reshape it from long to wide format?\n"
   ]
  },
  {
   "cell_type": "code",
   "execution_count": 37,
   "id": "1fb51e78-91b2-46d2-b5cb-a9d25866d00d",
   "metadata": {},
   "outputs": [
    {
     "data": {
      "text/html": [
       "<div>\n",
       "<style scoped>\n",
       "    .dataframe tbody tr th:only-of-type {\n",
       "        vertical-align: middle;\n",
       "    }\n",
       "\n",
       "    .dataframe tbody tr th {\n",
       "        vertical-align: top;\n",
       "    }\n",
       "\n",
       "    .dataframe thead th {\n",
       "        text-align: right;\n",
       "    }\n",
       "</style>\n",
       "<table border=\"1\" class=\"dataframe\">\n",
       "  <thead>\n",
       "    <tr style=\"text-align: right;\">\n",
       "      <th></th>\n",
       "      <th>date</th>\n",
       "      <th>category</th>\n",
       "      <th>value</th>\n",
       "    </tr>\n",
       "  </thead>\n",
       "  <tbody>\n",
       "    <tr>\n",
       "      <th>0</th>\n",
       "      <td>2023-01</td>\n",
       "      <td>A</td>\n",
       "      <td>10</td>\n",
       "    </tr>\n",
       "    <tr>\n",
       "      <th>1</th>\n",
       "      <td>2023-01</td>\n",
       "      <td>B</td>\n",
       "      <td>20</td>\n",
       "    </tr>\n",
       "    <tr>\n",
       "      <th>2</th>\n",
       "      <td>2023-02</td>\n",
       "      <td>A</td>\n",
       "      <td>15</td>\n",
       "    </tr>\n",
       "    <tr>\n",
       "      <th>3</th>\n",
       "      <td>2023-02</td>\n",
       "      <td>B</td>\n",
       "      <td>25</td>\n",
       "    </tr>\n",
       "  </tbody>\n",
       "</table>\n",
       "</div>"
      ],
      "text/plain": [
       "      date category  value\n",
       "0  2023-01        A     10\n",
       "1  2023-01        B     20\n",
       "2  2023-02        A     15\n",
       "3  2023-02        B     25"
      ]
     },
     "execution_count": 37,
     "metadata": {},
     "output_type": "execute_result"
    }
   ],
   "source": [
    "df = pd.DataFrame({'date': ['2023-01', '2023-01', '2023-02', '2023-02'], 'category': ['A', 'B', 'A', 'B'], 'value': [10, 20, 15, 25]})\n",
    "df"
   ]
  },
  {
   "cell_type": "code",
   "execution_count": 38,
   "id": "94ce50e3-16c4-48f9-b6ed-808333539ab4",
   "metadata": {},
   "outputs": [
    {
     "name": "stdout",
     "output_type": "stream",
     "text": [
      "category   A   B\n",
      "date            \n",
      "2023-01   10  20\n",
      "2023-02   15  25\n"
     ]
    }
   ],
   "source": [
    "# pivot means “turn around” or “rotate.”\n",
    "# Use pivot() (when each (index, column) pair is unique)\n",
    "# pivot() rearranges rows into columns.\n",
    "# If values are the same but in different (index, column) pairs, it works\n",
    "pivot_wide = df.pivot(index = 'date', columns = 'category', values = 'value')\n",
    "print(pivot_wide)"
   ]
  },
  {
   "cell_type": "markdown",
   "id": "01ccd013-e407-46a9-8276-d87d15765fe0",
   "metadata": {},
   "source": [
    "- How would you stack a DataFrame to convert it from wide to long format?\n"
   ]
  },
  {
   "cell_type": "code",
   "execution_count": 39,
   "id": "521ca7e2-a4d8-4d9e-a86f-20229831ad8b",
   "metadata": {},
   "outputs": [
    {
     "data": {
      "text/html": [
       "<div>\n",
       "<style scoped>\n",
       "    .dataframe tbody tr th:only-of-type {\n",
       "        vertical-align: middle;\n",
       "    }\n",
       "\n",
       "    .dataframe tbody tr th {\n",
       "        vertical-align: top;\n",
       "    }\n",
       "\n",
       "    .dataframe thead th {\n",
       "        text-align: right;\n",
       "    }\n",
       "</style>\n",
       "<table border=\"1\" class=\"dataframe\">\n",
       "  <thead>\n",
       "    <tr style=\"text-align: right;\">\n",
       "      <th></th>\n",
       "      <th>date</th>\n",
       "      <th>A</th>\n",
       "      <th>B</th>\n",
       "    </tr>\n",
       "  </thead>\n",
       "  <tbody>\n",
       "    <tr>\n",
       "      <th>0</th>\n",
       "      <td>2023-01</td>\n",
       "      <td>10</td>\n",
       "      <td>20</td>\n",
       "    </tr>\n",
       "    <tr>\n",
       "      <th>1</th>\n",
       "      <td>2023-02</td>\n",
       "      <td>15</td>\n",
       "      <td>25</td>\n",
       "    </tr>\n",
       "  </tbody>\n",
       "</table>\n",
       "</div>"
      ],
      "text/plain": [
       "      date   A   B\n",
       "0  2023-01  10  20\n",
       "1  2023-02  15  25"
      ]
     },
     "execution_count": 39,
     "metadata": {},
     "output_type": "execute_result"
    }
   ],
   "source": [
    "df = pd.DataFrame({'date': ['2023-01', '2023-02'], 'A': [10, 15], 'B': [20, 25]})\n",
    "df"
   ]
  },
  {
   "cell_type": "code",
   "execution_count": 40,
   "id": "a9099429-ba88-4f8b-b8cd-349f257eb3bf",
   "metadata": {},
   "outputs": [
    {
     "name": "stdout",
     "output_type": "stream",
     "text": [
      "date      \n",
      "2023-01  A    10\n",
      "         B    20\n",
      "2023-02  A    15\n",
      "         B    25\n",
      "dtype: int64\n"
     ]
    }
   ],
   "source": [
    "stacked = df.set_index('date').stack()\n",
    "print(stacked)"
   ]
  },
  {
   "cell_type": "markdown",
   "id": "7eb8f0bb-8e45-42b4-9329-0b0d86526e1c",
   "metadata": {},
   "source": [
    "- How can you use cut to bin a numerical column into discrete intervals?"
   ]
  },
  {
   "cell_type": "code",
   "execution_count": 41,
   "id": "d986dcc8-8bdc-451f-9a6d-17b1e77cc312",
   "metadata": {},
   "outputs": [
    {
     "name": "stdout",
     "output_type": "stream",
     "text": [
      "   score grades\n",
      "0     55   Fail\n",
      "1     75      C\n",
      "2     85      B\n",
      "3     95      A\n",
      "4     65      D\n"
     ]
    }
   ],
   "source": [
    "df = pd.DataFrame({'score': [55, 75, 85, 95, 65]})\n",
    "bins = [0, 59, 69, 79, 89, 100]\n",
    "labels = ['Fail', 'D', 'C', 'B', 'A']\n",
    "df['grades'] = pd.cut(df['score'], bins=bins, labels=labels)\n",
    "print(df)"
   ]
  },
  {
   "cell_type": "markdown",
   "id": "d8dccc6d-a66b-4858-b618-97cef88ebf80",
   "metadata": {},
   "source": [
    "- What is the purpose of pd.concat , and how does it differ from merge ?"
   ]
  },
  {
   "cell_type": "code",
   "execution_count": 42,
   "id": "5a5afd23-83e9-4aee-8411-e84e54ad6789",
   "metadata": {},
   "outputs": [
    {
     "data": {
      "text/html": [
       "<div>\n",
       "<style scoped>\n",
       "    .dataframe tbody tr th:only-of-type {\n",
       "        vertical-align: middle;\n",
       "    }\n",
       "\n",
       "    .dataframe tbody tr th {\n",
       "        vertical-align: top;\n",
       "    }\n",
       "\n",
       "    .dataframe thead th {\n",
       "        text-align: right;\n",
       "    }\n",
       "</style>\n",
       "<table border=\"1\" class=\"dataframe\">\n",
       "  <thead>\n",
       "    <tr style=\"text-align: right;\">\n",
       "      <th></th>\n",
       "      <th>name</th>\n",
       "      <th>age</th>\n",
       "    </tr>\n",
       "  </thead>\n",
       "  <tbody>\n",
       "    <tr>\n",
       "      <th>0</th>\n",
       "      <td>Alice</td>\n",
       "      <td>25</td>\n",
       "    </tr>\n",
       "    <tr>\n",
       "      <th>1</th>\n",
       "      <td>Bob</td>\n",
       "      <td>30</td>\n",
       "    </tr>\n",
       "    <tr>\n",
       "      <th>0</th>\n",
       "      <td>Charlie</td>\n",
       "      <td>35</td>\n",
       "    </tr>\n",
       "    <tr>\n",
       "      <th>1</th>\n",
       "      <td>David</td>\n",
       "      <td>40</td>\n",
       "    </tr>\n",
       "  </tbody>\n",
       "</table>\n",
       "</div>"
      ],
      "text/plain": [
       "      name  age\n",
       "0    Alice   25\n",
       "1      Bob   30\n",
       "0  Charlie   35\n",
       "1    David   40"
      ]
     },
     "execution_count": 42,
     "metadata": {},
     "output_type": "execute_result"
    }
   ],
   "source": [
    "# pd.concat is for stacking DataFrames (just combining, no key matching).\n",
    "# merge is for joining DataFrames (matches rows using one or more keys, like SQL).\n",
    "\n",
    "df1 = pd.DataFrame({'name': ['Alice', 'Bob'], 'age': [25, 30]})\n",
    "df2 = pd.DataFrame({'name': ['Charlie', 'David'], 'age': [35, 40]})\n",
    "pd.concat([df1, df2])"
   ]
  },
  {
   "cell_type": "markdown",
   "id": "1c8e3157-867d-43a9-b064-db723dd41eea",
   "metadata": {},
   "source": [
    "- How do you handle missing values in a DataFrame using fillna and dropna ?"
   ]
  },
  {
   "cell_type": "code",
   "execution_count": 43,
   "id": "a6a40f5a-0873-4a3d-ac75-c22f74e9b4a1",
   "metadata": {},
   "outputs": [
    {
     "data": {
      "text/html": [
       "<div>\n",
       "<style scoped>\n",
       "    .dataframe tbody tr th:only-of-type {\n",
       "        vertical-align: middle;\n",
       "    }\n",
       "\n",
       "    .dataframe tbody tr th {\n",
       "        vertical-align: top;\n",
       "    }\n",
       "\n",
       "    .dataframe thead th {\n",
       "        text-align: right;\n",
       "    }\n",
       "</style>\n",
       "<table border=\"1\" class=\"dataframe\">\n",
       "  <thead>\n",
       "    <tr style=\"text-align: right;\">\n",
       "      <th></th>\n",
       "      <th>name</th>\n",
       "      <th>age</th>\n",
       "    </tr>\n",
       "  </thead>\n",
       "  <tbody>\n",
       "    <tr>\n",
       "      <th>0</th>\n",
       "      <td>Alice</td>\n",
       "      <td>25.0</td>\n",
       "    </tr>\n",
       "    <tr>\n",
       "      <th>1</th>\n",
       "      <td>Bob</td>\n",
       "      <td>NaN</td>\n",
       "    </tr>\n",
       "    <tr>\n",
       "      <th>2</th>\n",
       "      <td>None</td>\n",
       "      <td>35.0</td>\n",
       "    </tr>\n",
       "  </tbody>\n",
       "</table>\n",
       "</div>"
      ],
      "text/plain": [
       "    name   age\n",
       "0  Alice  25.0\n",
       "1    Bob   NaN\n",
       "2   None  35.0"
      ]
     },
     "execution_count": 43,
     "metadata": {},
     "output_type": "execute_result"
    }
   ],
   "source": [
    "df = pd.DataFrame({'name': ['Alice', 'Bob', None], 'age': [25, None, 35]})\n",
    "df"
   ]
  },
  {
   "cell_type": "code",
   "execution_count": 44,
   "id": "e3296f41-f0a6-4431-9098-abd2b88ea1fb",
   "metadata": {},
   "outputs": [],
   "source": [
    "# Handling missing values with fillna\n",
    "# df.ffill()\n",
    "# df.bfill"
   ]
  },
  {
   "cell_type": "code",
   "execution_count": 45,
   "id": "9cceafe8-0c86-4cf9-b1a4-2627a8433e2f",
   "metadata": {},
   "outputs": [],
   "source": [
    "# Drop any row with at least one NaN\n",
    "#df.dropna()\n",
    "# Drop rows where ALL values are NaN\n",
    "#df.dropna(how='all'\n",
    "# Drop columns with any NaN\n",
    "#df.dropna(axis=1)"
   ]
  },
  {
   "cell_type": "code",
   "execution_count": 46,
   "id": "08acb960-d1ea-4b9b-bccf-caef71c4d0be",
   "metadata": {},
   "outputs": [],
   "source": [
    "#fillna→ keep the data, but replace missing values.\n",
    "#dropna → remove rows/columns that have missing values."
   ]
  },
  {
   "cell_type": "markdown",
   "id": "6d2169b8-d976-4c01-bd69-d5958fddc41a",
   "metadata": {},
   "source": [
    "- How would you sort a DataFrame by multiple columns in different orders (ascending and descending)?"
   ]
  },
  {
   "cell_type": "code",
   "execution_count": 47,
   "id": "cbb3a1a3-375e-4b38-bb05-b8782b9bc89a",
   "metadata": {},
   "outputs": [
    {
     "data": {
      "text/html": [
       "<div>\n",
       "<style scoped>\n",
       "    .dataframe tbody tr th:only-of-type {\n",
       "        vertical-align: middle;\n",
       "    }\n",
       "\n",
       "    .dataframe tbody tr th {\n",
       "        vertical-align: top;\n",
       "    }\n",
       "\n",
       "    .dataframe thead th {\n",
       "        text-align: right;\n",
       "    }\n",
       "</style>\n",
       "<table border=\"1\" class=\"dataframe\">\n",
       "  <thead>\n",
       "    <tr style=\"text-align: right;\">\n",
       "      <th></th>\n",
       "      <th>dept</th>\n",
       "      <th>salary</th>\n",
       "    </tr>\n",
       "  </thead>\n",
       "  <tbody>\n",
       "    <tr>\n",
       "      <th>0</th>\n",
       "      <td>HR</td>\n",
       "      <td>50000</td>\n",
       "    </tr>\n",
       "    <tr>\n",
       "      <th>1</th>\n",
       "      <td>IT</td>\n",
       "      <td>60000</td>\n",
       "    </tr>\n",
       "    <tr>\n",
       "      <th>2</th>\n",
       "      <td>HR</td>\n",
       "      <td>55000</td>\n",
       "    </tr>\n",
       "    <tr>\n",
       "      <th>3</th>\n",
       "      <td>IT</td>\n",
       "      <td>65000</td>\n",
       "    </tr>\n",
       "  </tbody>\n",
       "</table>\n",
       "</div>"
      ],
      "text/plain": [
       "  dept  salary\n",
       "0   HR   50000\n",
       "1   IT   60000\n",
       "2   HR   55000\n",
       "3   IT   65000"
      ]
     },
     "execution_count": 47,
     "metadata": {},
     "output_type": "execute_result"
    }
   ],
   "source": [
    "df = pd.DataFrame({'dept': ['HR', 'IT', 'HR', 'IT'], 'salary': [50000, 60000, 55000, 65000]})\n",
    "df"
   ]
  },
  {
   "cell_type": "code",
   "execution_count": 48,
   "id": "47ae06f3-c546-4df8-9e3c-a8ddfcd71817",
   "metadata": {},
   "outputs": [
    {
     "data": {
      "text/html": [
       "<div>\n",
       "<style scoped>\n",
       "    .dataframe tbody tr th:only-of-type {\n",
       "        vertical-align: middle;\n",
       "    }\n",
       "\n",
       "    .dataframe tbody tr th {\n",
       "        vertical-align: top;\n",
       "    }\n",
       "\n",
       "    .dataframe thead th {\n",
       "        text-align: right;\n",
       "    }\n",
       "</style>\n",
       "<table border=\"1\" class=\"dataframe\">\n",
       "  <thead>\n",
       "    <tr style=\"text-align: right;\">\n",
       "      <th></th>\n",
       "      <th>dept</th>\n",
       "      <th>salary</th>\n",
       "    </tr>\n",
       "  </thead>\n",
       "  <tbody>\n",
       "    <tr>\n",
       "      <th>0</th>\n",
       "      <td>HR</td>\n",
       "      <td>50000</td>\n",
       "    </tr>\n",
       "    <tr>\n",
       "      <th>2</th>\n",
       "      <td>HR</td>\n",
       "      <td>55000</td>\n",
       "    </tr>\n",
       "    <tr>\n",
       "      <th>1</th>\n",
       "      <td>IT</td>\n",
       "      <td>60000</td>\n",
       "    </tr>\n",
       "    <tr>\n",
       "      <th>3</th>\n",
       "      <td>IT</td>\n",
       "      <td>65000</td>\n",
       "    </tr>\n",
       "  </tbody>\n",
       "</table>\n",
       "</div>"
      ],
      "text/plain": [
       "  dept  salary\n",
       "0   HR   50000\n",
       "2   HR   55000\n",
       "1   IT   60000\n",
       "3   IT   65000"
      ]
     },
     "execution_count": 48,
     "metadata": {},
     "output_type": "execute_result"
    }
   ],
   "source": [
    "df.sort_values(by = 'salary')"
   ]
  },
  {
   "cell_type": "code",
   "execution_count": 49,
   "id": "04a42cb4-b283-44a9-b166-59d3baad3a2c",
   "metadata": {},
   "outputs": [
    {
     "data": {
      "text/html": [
       "<div>\n",
       "<style scoped>\n",
       "    .dataframe tbody tr th:only-of-type {\n",
       "        vertical-align: middle;\n",
       "    }\n",
       "\n",
       "    .dataframe tbody tr th {\n",
       "        vertical-align: top;\n",
       "    }\n",
       "\n",
       "    .dataframe thead th {\n",
       "        text-align: right;\n",
       "    }\n",
       "</style>\n",
       "<table border=\"1\" class=\"dataframe\">\n",
       "  <thead>\n",
       "    <tr style=\"text-align: right;\">\n",
       "      <th></th>\n",
       "      <th>dept</th>\n",
       "      <th>salary</th>\n",
       "    </tr>\n",
       "  </thead>\n",
       "  <tbody>\n",
       "    <tr>\n",
       "      <th>2</th>\n",
       "      <td>HR</td>\n",
       "      <td>55000</td>\n",
       "    </tr>\n",
       "    <tr>\n",
       "      <th>0</th>\n",
       "      <td>HR</td>\n",
       "      <td>50000</td>\n",
       "    </tr>\n",
       "    <tr>\n",
       "      <th>3</th>\n",
       "      <td>IT</td>\n",
       "      <td>65000</td>\n",
       "    </tr>\n",
       "    <tr>\n",
       "      <th>1</th>\n",
       "      <td>IT</td>\n",
       "      <td>60000</td>\n",
       "    </tr>\n",
       "  </tbody>\n",
       "</table>\n",
       "</div>"
      ],
      "text/plain": [
       "  dept  salary\n",
       "2   HR   55000\n",
       "0   HR   50000\n",
       "3   IT   65000\n",
       "1   IT   60000"
      ]
     },
     "execution_count": 49,
     "metadata": {},
     "output_type": "execute_result"
    }
   ],
   "source": [
    "df.sort_values(by = ['dept', 'salary'], ascending = [True, False])"
   ]
  },
  {
   "cell_type": "code",
   "execution_count": 50,
   "id": "e3f29a78-df74-4904-94fe-3b38d734d13a",
   "metadata": {},
   "outputs": [
    {
     "data": {
      "text/html": [
       "<div>\n",
       "<style scoped>\n",
       "    .dataframe tbody tr th:only-of-type {\n",
       "        vertical-align: middle;\n",
       "    }\n",
       "\n",
       "    .dataframe tbody tr th {\n",
       "        vertical-align: top;\n",
       "    }\n",
       "\n",
       "    .dataframe thead th {\n",
       "        text-align: right;\n",
       "    }\n",
       "</style>\n",
       "<table border=\"1\" class=\"dataframe\">\n",
       "  <thead>\n",
       "    <tr style=\"text-align: right;\">\n",
       "      <th></th>\n",
       "      <th>dept</th>\n",
       "      <th>salary</th>\n",
       "    </tr>\n",
       "  </thead>\n",
       "  <tbody>\n",
       "    <tr>\n",
       "      <th>3</th>\n",
       "      <td>IT</td>\n",
       "      <td>65000</td>\n",
       "    </tr>\n",
       "    <tr>\n",
       "      <th>1</th>\n",
       "      <td>IT</td>\n",
       "      <td>60000</td>\n",
       "    </tr>\n",
       "    <tr>\n",
       "      <th>2</th>\n",
       "      <td>HR</td>\n",
       "      <td>55000</td>\n",
       "    </tr>\n",
       "    <tr>\n",
       "      <th>0</th>\n",
       "      <td>HR</td>\n",
       "      <td>50000</td>\n",
       "    </tr>\n",
       "  </tbody>\n",
       "</table>\n",
       "</div>"
      ],
      "text/plain": [
       "  dept  salary\n",
       "3   IT   65000\n",
       "1   IT   60000\n",
       "2   HR   55000\n",
       "0   HR   50000"
      ]
     },
     "execution_count": 50,
     "metadata": {},
     "output_type": "execute_result"
    }
   ],
   "source": [
    "df.sort_values(by = ['dept', 'salary'], ascending = [False, False])"
   ]
  },
  {
   "cell_type": "markdown",
   "id": "f7dcb3ae-6813-4bc2-a814-11449a5ce906",
   "metadata": {},
   "source": [
    "-  How can you use query to filter rows in a DataFrame based on a condition?"
   ]
  },
  {
   "cell_type": "code",
   "execution_count": 51,
   "id": "a2f3745a-6f30-43dd-81a5-b73d2a178348",
   "metadata": {},
   "outputs": [
    {
     "data": {
      "text/html": [
       "<div>\n",
       "<style scoped>\n",
       "    .dataframe tbody tr th:only-of-type {\n",
       "        vertical-align: middle;\n",
       "    }\n",
       "\n",
       "    .dataframe tbody tr th {\n",
       "        vertical-align: top;\n",
       "    }\n",
       "\n",
       "    .dataframe thead th {\n",
       "        text-align: right;\n",
       "    }\n",
       "</style>\n",
       "<table border=\"1\" class=\"dataframe\">\n",
       "  <thead>\n",
       "    <tr style=\"text-align: right;\">\n",
       "      <th></th>\n",
       "      <th>name</th>\n",
       "      <th>age</th>\n",
       "      <th>salary</th>\n",
       "    </tr>\n",
       "  </thead>\n",
       "  <tbody>\n",
       "    <tr>\n",
       "      <th>1</th>\n",
       "      <td>Bob</td>\n",
       "      <td>30</td>\n",
       "      <td>20000</td>\n",
       "    </tr>\n",
       "    <tr>\n",
       "      <th>2</th>\n",
       "      <td>Charlie</td>\n",
       "      <td>35</td>\n",
       "      <td>30000</td>\n",
       "    </tr>\n",
       "  </tbody>\n",
       "</table>\n",
       "</div>"
      ],
      "text/plain": [
       "      name  age  salary\n",
       "1      Bob   30   20000\n",
       "2  Charlie   35   30000"
      ]
     },
     "execution_count": 51,
     "metadata": {},
     "output_type": "execute_result"
    }
   ],
   "source": [
    "# Inside query(), conditions are written as a string.\n",
    "# Use and, or, not instead of &, |, ~.\n",
    "df = pd.DataFrame({'name': ['Alice', 'Bob', 'Charlie'], 'age': [25, 30, 35], 'salary': [10000 , 20000 ,30000]})\n",
    "df.query('age > 25' and 'salary > 10000')"
   ]
  },
  {
   "cell_type": "markdown",
   "id": "ca0e3850-1b5a-4d8f-8f38-ece15c1e55bc",
   "metadata": {},
   "source": [
    "- What is the difference between loc and iloc for DataFrame indexing?\n"
   ]
  },
  {
   "cell_type": "code",
   "execution_count": 52,
   "id": "63b31f3c-e961-472f-8850-f7c869133dcc",
   "metadata": {},
   "outputs": [
    {
     "data": {
      "text/plain": [
       "np.int64(25)"
      ]
     },
     "execution_count": 52,
     "metadata": {},
     "output_type": "execute_result"
    }
   ],
   "source": [
    "df = pd.DataFrame({'name': ['Alice', 'Bob', 'Charlie'], 'age': [25, 30, 35]})\n",
    "df.loc[0, 'age']\n"
   ]
  },
  {
   "cell_type": "code",
   "execution_count": 53,
   "id": "d86ed577-c3fe-4f7f-941d-9dafcce1965f",
   "metadata": {},
   "outputs": [
    {
     "data": {
      "text/plain": [
       "'Bob'"
      ]
     },
     "execution_count": 53,
     "metadata": {},
     "output_type": "execute_result"
    }
   ],
   "source": [
    "df.loc[1, 'name']\n"
   ]
  },
  {
   "cell_type": "code",
   "execution_count": 54,
   "id": "8e3247b2-aa4c-434b-ae04-a47179787852",
   "metadata": {},
   "outputs": [
    {
     "data": {
      "text/plain": [
       "np.int64(25)"
      ]
     },
     "execution_count": 54,
     "metadata": {},
     "output_type": "execute_result"
    }
   ],
   "source": [
    "df.iloc[0, 1]\n"
   ]
  },
  {
   "cell_type": "code",
   "execution_count": 55,
   "id": "17a66a18-5301-4f97-9dd7-e49b0f3b7a58",
   "metadata": {},
   "outputs": [],
   "source": [
    "# Use .loc when your rows/columns have meaningful labels (names, IDs, dates).\n",
    "\n",
    "# Use .iloc when you want to pick by number positions.\n",
    "\n",
    "# In practice, most people use .loc more because it’s easier to read and understand.\n",
    "# But .iloc is very useful in loops or when you only know the positions."
   ]
  },
  {
   "cell_type": "markdown",
   "id": "7c99579d-aec2-41a4-91ef-d4a867188822",
   "metadata": {},
   "source": [
    "- How do you create a new column based on a condition using np.where ?\n"
   ]
  },
  {
   "cell_type": "code",
   "execution_count": 56,
   "id": "faeac092-43f5-4ba8-a27f-9bec34f13a9d",
   "metadata": {},
   "outputs": [
    {
     "name": "stdout",
     "output_type": "stream",
     "text": [
      "   score result\n",
      "0     55   Fail\n",
      "1     75   Pass\n",
      "2     85   Pass\n",
      "3     95   Pass\n"
     ]
    }
   ],
   "source": [
    "df = pd.DataFrame({'score': [55, 75, 85, 95]})\n",
    "df['result'] = np.where(df['score'] >= 60, 'Pass', 'Fail')\n",
    "print(df)"
   ]
  },
  {
   "cell_type": "code",
   "execution_count": 57,
   "id": "b22356ab-bf2a-40e9-bf24-b01340287a0d",
   "metadata": {},
   "outputs": [
    {
     "name": "stdout",
     "output_type": "stream",
     "text": [
      "   score result grade\n",
      "0     55   Fail     C\n",
      "1     75   Pass     B\n",
      "2     85   Pass     A\n",
      "3     95   Pass     A\n"
     ]
    }
   ],
   "source": [
    "df['grade'] = np.where(df['score'] > 80, 'A', np.where(df['score'] >= 70, 'B', 'C'))\n",
    "print(df)"
   ]
  },
  {
   "cell_type": "markdown",
   "id": "07f426ec-589c-41e9-8c6f-dd83cd23ca67",
   "metadata": {},
   "source": [
    "- How would you compute a rolling mean for a column with a window size of 3?"
   ]
  },
  {
   "cell_type": "code",
   "execution_count": 58,
   "id": "ef4361a9-b681-4ce7-8579-c35aa3ce0b81",
   "metadata": {},
   "outputs": [
    {
     "name": "stdout",
     "output_type": "stream",
     "text": [
      "   value  rolling_mean\n",
      "0     10           NaN\n",
      "1     20           NaN\n",
      "2     30          20.0\n",
      "3     40          30.0\n",
      "4     50          40.0\n"
     ]
    }
   ],
   "source": [
    "df = pd.DataFrame({'value': [10, 20, 30, 40, 50]})\n",
    "df['rolling_mean'] = df['value'].rolling(window = 3).mean()\n",
    "print(df)"
   ]
  }
 ],
 "metadata": {
  "kernelspec": {
   "display_name": "Python 3 (ipykernel)",
   "language": "python",
   "name": "python3"
  },
  "language_info": {
   "codemirror_mode": {
    "name": "ipython",
    "version": 3
   },
   "file_extension": ".py",
   "mimetype": "text/x-python",
   "name": "python",
   "nbconvert_exporter": "python",
   "pygments_lexer": "ipython3",
   "version": "3.10.18"
  }
 },
 "nbformat": 4,
 "nbformat_minor": 5
}
