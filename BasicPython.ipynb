{
 "cells": [
  {
   "cell_type": "code",
   "execution_count": 1,
   "id": "f8ca44fb-6962-475c-a036-aea884fbc385",
   "metadata": {
    "editable": true,
    "slideshow": {
     "slide_type": ""
    },
    "tags": []
   },
   "outputs": [],
   "source": [
    "variable_name = 1"
   ]
  },
  {
   "cell_type": "code",
   "execution_count": 2,
   "id": "1bf082bb-ce7d-47da-8de6-edd337923d60",
   "metadata": {},
   "outputs": [
    {
     "name": "stdout",
     "output_type": "stream",
     "text": [
      "1\n"
     ]
    }
   ],
   "source": [
    "print(variable_name)"
   ]
  },
  {
   "cell_type": "code",
   "execution_count": 3,
   "id": "fe5dc452-6aa5-45c0-8f2c-c2bb1bc1b232",
   "metadata": {},
   "outputs": [],
   "source": [
    "variable_name = \"My name is Talha Rubbani\""
   ]
  },
  {
   "cell_type": "code",
   "execution_count": 4,
   "id": "8b626e7c-802b-41f6-bb4e-d90f8578aa59",
   "metadata": {},
   "outputs": [
    {
     "name": "stdout",
     "output_type": "stream",
     "text": [
      "My name is Talha Rubbani\n"
     ]
    }
   ],
   "source": [
    "print(variable_name)"
   ]
  },
  {
   "cell_type": "code",
   "execution_count": 5,
   "id": "98290d26-be4b-4cb2-8320-d90e1c2b54fc",
   "metadata": {},
   "outputs": [],
   "source": [
    "Variable_1 = 2"
   ]
  },
  {
   "cell_type": "code",
   "execution_count": 6,
   "id": "6058e40c-c2cd-4ba4-9367-82000c787e03",
   "metadata": {},
   "outputs": [],
   "source": [
    "Variable_2 = 4"
   ]
  },
  {
   "cell_type": "code",
   "execution_count": 21,
   "id": "4ba6fcba-bbd5-4f98-992b-2eca95188786",
   "metadata": {},
   "outputs": [
    {
     "data": {
      "text/plain": [
       "6"
      ]
     },
     "execution_count": 21,
     "metadata": {},
     "output_type": "execute_result"
    }
   ],
   "source": [
    " Variable_1+Variable_2"
   ]
  },
  {
   "cell_type": "code",
   "execution_count": 22,
   "id": "07c8b624-b043-449c-ab32-0b7b4888d614",
   "metadata": {},
   "outputs": [],
   "source": [
    "Multiply_1 = \"My name is Talha\""
   ]
  },
  {
   "cell_type": "code",
   "execution_count": 23,
   "id": "4d3bb30f-f32b-45fe-b165-b5d98b452692",
   "metadata": {},
   "outputs": [],
   "source": [
    "Multiply_2 = 2"
   ]
  },
  {
   "cell_type": "code",
   "execution_count": 26,
   "id": "d2721c19-78bb-4eba-ab68-314ded1ee0e6",
   "metadata": {},
   "outputs": [
    {
     "data": {
      "text/plain": [
       "'My name is TalhaMy name is Talha'"
      ]
     },
     "execution_count": 26,
     "metadata": {},
     "output_type": "execute_result"
    }
   ],
   "source": [
    "Multiply_1*Multiply_2"
   ]
  },
  {
   "cell_type": "code",
   "execution_count": 31,
   "id": "de407697-15fa-4506-aad4-7ec5b0dff4a7",
   "metadata": {},
   "outputs": [],
   "source": [
    "a = \"Talha\""
   ]
  },
  {
   "cell_type": "code",
   "execution_count": 32,
   "id": "eb9ce34b-2375-43d8-bedb-dafa9c049011",
   "metadata": {},
   "outputs": [
    {
     "name": "stdout",
     "output_type": "stream",
     "text": [
      "<class 'str'>\n"
     ]
    }
   ],
   "source": [
    "print(type(a))"
   ]
  },
  {
   "cell_type": "code",
   "execution_count": 33,
   "id": "a3bee484-8902-4147-acbc-2448913a99be",
   "metadata": {},
   "outputs": [
    {
     "name": "stdout",
     "output_type": "stream",
     "text": [
      "5\n"
     ]
    }
   ],
   "source": [
    "print(len(a))"
   ]
  },
  {
   "cell_type": "code",
   "execution_count": 34,
   "id": "32c0645f-dffe-466f-a35d-48131097056e",
   "metadata": {},
   "outputs": [],
   "source": [
    "b = \"My name is Talha rubbani\""
   ]
  },
  {
   "cell_type": "code",
   "execution_count": 36,
   "id": "5576fa18-1d5f-4c12-84bf-d5312a75ec5b",
   "metadata": {},
   "outputs": [
    {
     "data": {
      "text/plain": [
       "24"
      ]
     },
     "execution_count": 36,
     "metadata": {},
     "output_type": "execute_result"
    }
   ],
   "source": [
    "len(b)"
   ]
  },
  {
   "cell_type": "code",
   "execution_count": 39,
   "id": "77918139-0df7-47a8-b72e-743ceba2e0fa",
   "metadata": {},
   "outputs": [
    {
     "data": {
      "text/plain": [
       "'i'"
      ]
     },
     "execution_count": 39,
     "metadata": {},
     "output_type": "execute_result"
    }
   ],
   "source": [
    "b[23]"
   ]
  },
  {
   "cell_type": "code",
   "execution_count": 40,
   "id": "a29df964-1bcb-4816-bacd-ff2a835b5d6a",
   "metadata": {},
   "outputs": [],
   "source": [
    "c = \"My name is Talha rubbani\""
   ]
  },
  {
   "cell_type": "code",
   "execution_count": 42,
   "id": "beb19e19-f140-4561-ac98-a9bffa4695d1",
   "metadata": {},
   "outputs": [
    {
     "data": {
      "text/plain": [
       "'My na'"
      ]
     },
     "execution_count": 42,
     "metadata": {},
     "output_type": "execute_result"
    }
   ],
   "source": [
    "c[0:5]"
   ]
  },
  {
   "cell_type": "code",
   "execution_count": 43,
   "id": "cc8477c9-7e5c-4aad-951d-2a16df367a6d",
   "metadata": {},
   "outputs": [],
   "source": [
    "d = \"My name is Talha Rubbani\""
   ]
  },
  {
   "cell_type": "code",
   "execution_count": 44,
   "id": "53595bdb-2ca9-4606-aec0-88361e01296f",
   "metadata": {},
   "outputs": [
    {
     "data": {
      "text/plain": [
       "'MY NAME IS TALHA RUBBANI'"
      ]
     },
     "execution_count": 44,
     "metadata": {},
     "output_type": "execute_result"
    }
   ],
   "source": [
    "d.upper()"
   ]
  },
  {
   "cell_type": "code",
   "execution_count": 45,
   "id": "4cda01e8-655a-4003-8e5b-c9cd653a78ed",
   "metadata": {},
   "outputs": [
    {
     "data": {
      "text/plain": [
       "'my name is talha rubbani'"
      ]
     },
     "execution_count": 45,
     "metadata": {},
     "output_type": "execute_result"
    }
   ],
   "source": [
    "d.lower()"
   ]
  },
  {
   "cell_type": "code",
   "execution_count": 52,
   "id": "3e07af27-f401-432c-97d8-40f9895d120d",
   "metadata": {},
   "outputs": [],
   "source": [
    "e = \"My name is Talha\""
   ]
  },
  {
   "cell_type": "code",
   "execution_count": 53,
   "id": "05475e73-500a-406c-8e81-8b85c29350d7",
   "metadata": {},
   "outputs": [
    {
     "data": {
      "text/plain": [
       "'My name is Maryam'"
      ]
     },
     "execution_count": 53,
     "metadata": {},
     "output_type": "execute_result"
    }
   ],
   "source": [
    "e.replace(\"Talha\", \"Maryam\")"
   ]
  },
  {
   "cell_type": "code",
   "execution_count": 54,
   "id": "1c362e48-380a-4248-9cfc-336a955840b3",
   "metadata": {},
   "outputs": [],
   "source": [
    "one = \"My name is Talha\""
   ]
  },
  {
   "cell_type": "code",
   "execution_count": 55,
   "id": "2b375270-b7ea-4fa6-9432-5ee6500a3a4c",
   "metadata": {},
   "outputs": [
    {
     "data": {
      "text/plain": [
       "['My', 'name', 'is', 'Talha']"
      ]
     },
     "execution_count": 55,
     "metadata": {},
     "output_type": "execute_result"
    }
   ],
   "source": [
    "one.split()"
   ]
  },
  {
   "cell_type": "code",
   "execution_count": 60,
   "id": "cdca4106-d53f-45a0-b989-3819c770d6aa",
   "metadata": {},
   "outputs": [],
   "source": [
    "two = \"My-name-is-Talha\""
   ]
  },
  {
   "cell_type": "code",
   "execution_count": 61,
   "id": "7b9ad3b8-4d52-43e3-a1a2-de4e92418e25",
   "metadata": {},
   "outputs": [
    {
     "data": {
      "text/plain": [
       "['My', 'name', 'is', 'Talha']"
      ]
     },
     "execution_count": 61,
     "metadata": {},
     "output_type": "execute_result"
    }
   ],
   "source": [
    "two.split(\"-\")"
   ]
  },
  {
   "cell_type": "code",
   "execution_count": 62,
   "id": "4448270d-0b18-4e06-9a7c-a1fd8628742f",
   "metadata": {},
   "outputs": [],
   "source": [
    "three = \"My name is Talha\""
   ]
  },
  {
   "cell_type": "code",
   "execution_count": 65,
   "id": "5e795120-3b8b-4451-9af6-f0bd469dc665",
   "metadata": {},
   "outputs": [
    {
     "data": {
      "text/plain": [
       "['My', 'name', 'is Talha']"
      ]
     },
     "execution_count": 65,
     "metadata": {},
     "output_type": "execute_result"
    }
   ],
   "source": [
    "three.split(maxsplit = 2)"
   ]
  },
  {
   "cell_type": "code",
   "execution_count": 1,
   "id": "4a26c667-7617-439b-9219-d698cac9f9a4",
   "metadata": {},
   "outputs": [],
   "source": [
    "a = 10"
   ]
  },
  {
   "cell_type": "code",
   "execution_count": 3,
   "id": "41c3e11c-efd3-4c58-86ad-074df7a66377",
   "metadata": {},
   "outputs": [
    {
     "name": "stdout",
     "output_type": "stream",
     "text": [
      "It is less than 5.\n"
     ]
    }
   ],
   "source": [
    "if a<5:\n",
    "    print(\"It is greater than 5.\")\n",
    "else:\n",
    "    print(\"It is less than 5.\")"
   ]
  },
  {
   "cell_type": "code",
   "execution_count": 4,
   "id": "096b23e9-b3ef-4971-8466-967010fbaec3",
   "metadata": {},
   "outputs": [],
   "source": [
    "b = 10"
   ]
  },
  {
   "cell_type": "code",
   "execution_count": 9,
   "id": "7ded878e-ddaf-4f10-aea5-68511743f29b",
   "metadata": {},
   "outputs": [
    {
     "name": "stdout",
     "output_type": "stream",
     "text": [
      "It is greater than 5.\n"
     ]
    }
   ],
   "source": [
    "if a>5:\n",
    "    print(\"It is greater than 5.\")\n",
    "elif a==10:\n",
    "    print(\"It is equal to 10.\")\n",
    "else:\n",
    "    print(\"It is less than 5.\")"
   ]
  },
  {
   "cell_type": "code",
   "execution_count": 10,
   "id": "4782794b-9c35-4046-92f0-5f9e536d30dd",
   "metadata": {},
   "outputs": [],
   "source": [
    "a = 10\n",
    "b = 20"
   ]
  },
  {
   "cell_type": "code",
   "execution_count": 16,
   "id": "e45cb021-1694-4aa0-9988-1779d816e7da",
   "metadata": {},
   "outputs": [
    {
     "name": "stdout",
     "output_type": "stream",
     "text": [
      "Condition Matched\n"
     ]
    }
   ],
   "source": [
    "if (a>5) and (b>10):\n",
    "    print(\"Condition Matched\")\n",
    "else:\n",
    "    print(\"Not Matched\")"
   ]
  },
  {
   "cell_type": "code",
   "execution_count": null,
   "id": "e1430304-5fd0-4ee8-a230-43ae0ae69f3c",
   "metadata": {},
   "outputs": [],
   "source": []
  }
 ],
 "metadata": {
  "kernelspec": {
   "display_name": "Python 3 (ipykernel)",
   "language": "python",
   "name": "python3"
  },
  "language_info": {
   "codemirror_mode": {
    "name": "ipython",
    "version": 3
   },
   "file_extension": ".py",
   "mimetype": "text/x-python",
   "name": "python",
   "nbconvert_exporter": "python",
   "pygments_lexer": "ipython3",
   "version": "3.10.18"
  }
 },
 "nbformat": 4,
 "nbformat_minor": 5
}
