{
 "cells": [
  {
   "cell_type": "code",
   "execution_count": 7,
   "id": "d5ecd8a9-73a8-47b8-86a9-3521f305370a",
   "metadata": {},
   "outputs": [
    {
     "name": "stdout",
     "output_type": "stream",
     "text": [
      "0\n",
      "1\n",
      "2\n",
      "3\n",
      "4\n",
      "5\n"
     ]
    }
   ],
   "source": [
    "for i in range(6):\n",
    "    print(i)"
   ]
  },
  {
   "cell_type": "code",
   "execution_count": 10,
   "id": "1b68f622-a547-440e-890d-5ff62dc2d428",
   "metadata": {},
   "outputs": [
    {
     "name": "stdout",
     "output_type": "stream",
     "text": [
      "1\n",
      "3\n",
      "5\n"
     ]
    }
   ],
   "source": [
    "for i in range(1,6,2):\n",
    "    print(i)"
   ]
  },
  {
   "cell_type": "code",
   "execution_count": 17,
   "id": "d2a3000e-12de-4075-ae78-b39efbfc330b",
   "metadata": {},
   "outputs": [],
   "source": [
    "a = [1,2,3,4]"
   ]
  },
  {
   "cell_type": "code",
   "execution_count": 18,
   "id": "2832ecde-9eb0-440c-8aa8-b35f67e80353",
   "metadata": {},
   "outputs": [],
   "source": [
    "a.append(5)"
   ]
  },
  {
   "cell_type": "code",
   "execution_count": 19,
   "id": "f8061317-f441-4319-b034-2c562d376cfe",
   "metadata": {},
   "outputs": [
    {
     "data": {
      "text/plain": [
       "[1, 2, 3, 4, 5]"
      ]
     },
     "execution_count": 19,
     "metadata": {},
     "output_type": "execute_result"
    }
   ],
   "source": [
    "a"
   ]
  },
  {
   "cell_type": "code",
   "execution_count": 20,
   "id": "e18ab8d2-4696-4835-8dbf-6b93d69bb00d",
   "metadata": {},
   "outputs": [],
   "source": [
    "a.insert(2,7)"
   ]
  },
  {
   "cell_type": "code",
   "execution_count": 21,
   "id": "dfec6b70-5ecf-4dac-877f-53570bd4325f",
   "metadata": {},
   "outputs": [
    {
     "data": {
      "text/plain": [
       "[1, 2, 7, 3, 4, 5]"
      ]
     },
     "execution_count": 21,
     "metadata": {},
     "output_type": "execute_result"
    }
   ],
   "source": [
    "a"
   ]
  },
  {
   "cell_type": "code",
   "execution_count": null,
   "id": "05759377-2131-489e-88e3-f8dc06ceb758",
   "metadata": {},
   "outputs": [],
   "source": [
    "a = [1,2,3,4,5,6,7,8,9,10]"
   ]
  },
  {
   "cell_type": "code",
   "execution_count": 26,
   "id": "ee9f9b2c-59f6-4578-81c2-1e01bacdf5e2",
   "metadata": {
    "scrolled": true
   },
   "outputs": [
    {
     "name": "stdout",
     "output_type": "stream",
     "text": [
      "10\n"
     ]
    }
   ],
   "source": [
    "for i in a:\n",
    "    multiply = i*2\n",
    "print(i)\n",
    "    "
   ]
  },
  {
   "cell_type": "markdown",
   "id": "19e6353a-3de6-4be3-9245-809e83ccc9cb",
   "metadata": {},
   "source": [
    "Write a for loop that iterates over every element of a list, multiplies every element by 2, and prints the answer."
   ]
  },
  {
   "cell_type": "code",
   "execution_count": 8,
   "id": "b593d319-7877-445f-bef5-688a065259a1",
   "metadata": {},
   "outputs": [
    {
     "name": "stdout",
     "output_type": "stream",
     "text": [
      "2\n",
      "4\n",
      "6\n",
      "8\n",
      "10\n",
      "12\n",
      "14\n",
      "16\n",
      "18\n",
      "20\n"
     ]
    }
   ],
   "source": [
    "numbers = [1,2,3,4,5,6,7,8,9,10]\n",
    "for num in numbers:\n",
    "    result = num * 2\n",
    "    print(result)"
   ]
  },
  {
   "cell_type": "markdown",
   "id": "f539593a-f51d-4139-b7af-a23b70c6c7c0",
   "metadata": {},
   "source": [
    "Write a code that combines two list."
   ]
  },
  {
   "cell_type": "code",
   "execution_count": 9,
   "id": "6666b250-36a7-4994-b32a-7ba2b9d933de",
   "metadata": {},
   "outputs": [],
   "source": [
    "a = [1,2,3,4]\n",
    "b = [5,6,7,8]"
   ]
  },
  {
   "cell_type": "code",
   "execution_count": 10,
   "id": "e37fa952-20cc-4341-8b85-3c317fca318e",
   "metadata": {},
   "outputs": [
    {
     "data": {
      "text/plain": [
       "[1, 2, 3, 4, 5, 6, 7, 8]"
      ]
     },
     "execution_count": 10,
     "metadata": {},
     "output_type": "execute_result"
    }
   ],
   "source": [
    "c = a + b\n",
    "c"
   ]
  },
  {
   "cell_type": "markdown",
   "id": "b22078d8-359e-41e0-8e1d-bc4c8d719d40",
   "metadata": {},
   "source": [
    "Write a code that checks if the element 5 exists in the list; print \"Yes, it exists,\" otherwise \"No, it is not in the list.\""
   ]
  },
  {
   "cell_type": "code",
   "execution_count": 11,
   "id": "80048ed2-8175-47a4-a1f9-0b00f9f2cb0e",
   "metadata": {},
   "outputs": [],
   "source": [
    "a = [1,2,3,4,5,6,7,8,9,10,11,12,13,14,15,16,17,18,19,20]"
   ]
  },
  {
   "cell_type": "code",
   "execution_count": 13,
   "id": "3847e14c-cbd1-4315-a0a3-e69519f7a51f",
   "metadata": {},
   "outputs": [
    {
     "name": "stdout",
     "output_type": "stream",
     "text": [
      "No, it is not in the list\n"
     ]
    }
   ],
   "source": [
    "if 44 in a:\n",
    "    print(\"Yes, it exists.\")\n",
    "else:\n",
    "    print(\"No, it is not in the list\")"
   ]
  },
  {
   "cell_type": "markdown",
   "id": "7ddb2918-95af-4ab2-912d-93650818b504",
   "metadata": {},
   "source": [
    "Write a code that multiplies every element of one list with each and every element of another list."
   ]
  },
  {
   "cell_type": "code",
   "execution_count": 20,
   "id": "4d973bf3-4d2b-43ef-aa91-c4892558ffc3",
   "metadata": {},
   "outputs": [],
   "source": [
    "list_one = [1,2,3,4]\n",
    "list_two = [5,6,7,8]"
   ]
  },
  {
   "cell_type": "code",
   "execution_count": 21,
   "id": "b0edc590-f72f-4f1e-92e8-d6a2896febb0",
   "metadata": {},
   "outputs": [
    {
     "name": "stdout",
     "output_type": "stream",
     "text": [
      "5\n",
      "6\n",
      "7\n",
      "8\n",
      "10\n",
      "12\n",
      "14\n",
      "16\n",
      "15\n",
      "18\n",
      "21\n",
      "24\n",
      "20\n",
      "24\n",
      "28\n",
      "32\n"
     ]
    }
   ],
   "source": [
    "for a in list_one:\n",
    "    for b in list_two:\n",
    "        result = a * b\n",
    "        print(result)"
   ]
  },
  {
   "cell_type": "markdown",
   "id": "8c80686f-ede4-4191-8a49-c994027cf62c",
   "metadata": {},
   "source": [
    "Write a code that prints whether the element in the list is even or not. "
   ]
  },
  {
   "cell_type": "code",
   "execution_count": 22,
   "id": "c9283037-b292-4035-821b-fa5d2cebf130",
   "metadata": {},
   "outputs": [],
   "source": [
    "a = [1,2,3,4,5,6,7,7,8,9,10]"
   ]
  },
  {
   "cell_type": "code",
   "execution_count": 27,
   "id": "2adbe697-f38b-4155-a9d8-d639704311d8",
   "metadata": {},
   "outputs": [
    {
     "name": "stdout",
     "output_type": "stream",
     "text": [
      "2\n",
      "4\n",
      "6\n",
      "8\n",
      "10\n"
     ]
    }
   ],
   "source": [
    "for i in a:\n",
    "    if i % 2 == 0:\n",
    "        print(i)"
   ]
  },
  {
   "cell_type": "markdown",
   "id": "0f0d92bf-07d7-4273-b9f1-18d0d7563992",
   "metadata": {},
   "source": [
    "Write a code that checks if the element in the list is greater than 5, then multiply the element by 2 and save in another list, if it less than 5 then save the number as it is another list."
   ]
  },
  {
   "cell_type": "code",
   "execution_count": 32,
   "id": "f618474b-bb25-40a9-b4c7-e85e05e6c60c",
   "metadata": {},
   "outputs": [],
   "source": [
    "a = [1,2,3,4,5,6,7,8,9,10,11,12,13,14,15,16,17,18,19,20]\n",
    "empty_list_multiply_5 = []\n",
    "empty_list_less_5 = []"
   ]
  },
  {
   "cell_type": "code",
   "execution_count": 33,
   "id": "1fdf1a02-c379-4bc3-9f9b-a01f92626f15",
   "metadata": {},
   "outputs": [
    {
     "name": "stdout",
     "output_type": "stream",
     "text": [
      "Greater than 5 [12, 14, 16, 18, 20, 22, 24, 26, 28, 30, 32, 34, 36, 38, 40]\n",
      "Less than 5 [1, 2, 3, 4, 5]\n"
     ]
    }
   ],
   "source": [
    "for i in a:\n",
    "    if i > 5:\n",
    "        empty_list_multiply_5.append(i *2)\n",
    "    else:\n",
    "        empty_list_less_5.append(i)\n",
    "print(\"Greater than 5\", empty_list_multiply_5)\n",
    "print(\"Less than 5\", empty_list_less_5)"
   ]
  },
  {
   "cell_type": "markdown",
   "id": "caed7c18-7ee5-4d3c-a75f-c7e2592a83ab",
   "metadata": {},
   "source": [
    "Reversed the entire list without using reversed keyword."
   ]
  },
  {
   "cell_type": "code",
   "execution_count": 34,
   "id": "940a2982-5800-4bba-80c8-fe735ddd0b5e",
   "metadata": {},
   "outputs": [],
   "source": [
    "a = [1,2,3,4,5,6,7,8,9,10]"
   ]
  },
  {
   "cell_type": "code",
   "execution_count": 35,
   "id": "0d7f03c6-bc24-44d7-8ea7-4c43fe2419e2",
   "metadata": {},
   "outputs": [
    {
     "name": "stdout",
     "output_type": "stream",
     "text": [
      "[10, 9, 8, 7, 6, 5, 4, 3, 2, 1]\n"
     ]
    }
   ],
   "source": [
    "reversed_without_reversedkeyword = a[::-1]\n",
    "print(reversed_without_reversedkeyword)"
   ]
  },
  {
   "cell_type": "markdown",
   "id": "1b41c4a9-6b84-4ad6-914a-d230b2e0e341",
   "metadata": {},
   "source": [
    "Write a code that finds the sum of all element in a list."
   ]
  },
  {
   "cell_type": "code",
   "execution_count": 37,
   "id": "2389cbc5-88f7-4f6a-9390-4e7c288417dd",
   "metadata": {},
   "outputs": [
    {
     "name": "stdout",
     "output_type": "stream",
     "text": [
      "55\n"
     ]
    }
   ],
   "source": [
    "a = [1,2,3,4,5,6,7,8,9,10]\n",
    "res = sum(a)\n",
    "print(res)"
   ]
  },
  {
   "cell_type": "markdown",
   "id": "dbe6720a-80e7-45b1-b422-605a4b895eac",
   "metadata": {},
   "source": [
    "List"
   ]
  },
  {
   "cell_type": "code",
   "execution_count": 1,
   "id": "8476e4a0-a74e-4452-bc3c-a3077a507312",
   "metadata": {},
   "outputs": [
    {
     "data": {
      "text/plain": [
       "[1, 2, 3, 4, 11, 6, 7, 8, 9, 10]"
      ]
     },
     "execution_count": 1,
     "metadata": {},
     "output_type": "execute_result"
    }
   ],
   "source": [
    "a = [1,2,3,4,5,6,7,8,9,10]\n",
    "a[4] = 11\n",
    "a"
   ]
  },
  {
   "cell_type": "markdown",
   "id": "eeb105d3-ffcd-4ca0-9b7f-d0a7f467623c",
   "metadata": {},
   "source": [
    "Tuple"
   ]
  },
  {
   "cell_type": "code",
   "execution_count": null,
   "id": "2ead8170-b2d8-4422-87be-67eec37945d5",
   "metadata": {},
   "outputs": [],
   "source": [
    "a = (1,2,3,4,5,6,7,8,9,10)\n",
    "a[2] = 11\n",
    "a"
   ]
  },
  {
   "cell_type": "code",
   "execution_count": 9,
   "id": "9fce557a-7fa9-4148-ad79-eaaaddc5bbe3",
   "metadata": {},
   "outputs": [
    {
     "data": {
      "text/plain": [
       "[1, 2, 3, 4, 5, 6, 7, 8, (11, 10, 14)]"
      ]
     },
     "execution_count": 9,
     "metadata": {},
     "output_type": "execute_result"
    }
   ],
   "source": [
    "a = [1,2,3,4,5,6,7,8,(9,10)]\n",
    "a[8] = (11,10,14)\n",
    "a"
   ]
  },
  {
   "cell_type": "code",
   "execution_count": null,
   "id": "e2c6aa68-b90b-414d-abab-a48fc92ba05a",
   "metadata": {},
   "outputs": [],
   "source": [
    "a = (1,2,3,4,5,6,7,8,[9,10])\n",
    "a[8] = (12)\n",
    "a"
   ]
  },
  {
   "cell_type": "markdown",
   "id": "547bbffb-8f18-4425-9525-03f8fbdd82bc",
   "metadata": {},
   "source": [
    "Sets"
   ]
  },
  {
   "cell_type": "code",
   "execution_count": 11,
   "id": "64e18b1b-9477-4f2f-bc36-69f6c06610d7",
   "metadata": {},
   "outputs": [
    {
     "data": {
      "text/plain": [
       "{'Apple', 'Banana', 'Mango', 'Orange'}"
      ]
     },
     "execution_count": 11,
     "metadata": {},
     "output_type": "execute_result"
    }
   ],
   "source": [
    "myset = {\"Apple\", \"Banana\", \"Orange\"}\n",
    "myset.add(\"Mango\")\n",
    "myset"
   ]
  },
  {
   "cell_type": "markdown",
   "id": "71e4a561-0d6a-47fb-9055-19f518624720",
   "metadata": {},
   "source": [
    "Dictionary"
   ]
  },
  {
   "cell_type": "code",
   "execution_count": 14,
   "id": "215b64f6-c744-44bb-843d-69026a8260a6",
   "metadata": {},
   "outputs": [
    {
     "data": {
      "text/plain": [
       "{'Brand': 'Ford',\n",
       " 'Model': 'Mustang',\n",
       " 'Year': 1988,\n",
       " 'Colour': ['red', 'Blue', 'White']}"
      ]
     },
     "execution_count": 14,
     "metadata": {},
     "output_type": "execute_result"
    }
   ],
   "source": [
    "thisdict = {\n",
    "    \"Brand\": \"Ford\",\n",
    "    \"Model\": \"Mustang\",\n",
    "    \"Year\": 1988,\n",
    "    \"Colour\": [\"red\", \"Blue\", \"White\"]\n",
    "}\n",
    "thisdict"
   ]
  },
  {
   "cell_type": "code",
   "execution_count": 15,
   "id": "3ddcef13-0d62-40a9-b41a-b13f934156b0",
   "metadata": {},
   "outputs": [
    {
     "data": {
      "text/plain": [
       "['red', 'Blue', 'White']"
      ]
     },
     "execution_count": 15,
     "metadata": {},
     "output_type": "execute_result"
    }
   ],
   "source": [
    "thisdict[\"Colour\"]"
   ]
  },
  {
   "cell_type": "markdown",
   "id": "052a3730-63ea-4485-92a2-1e0c0dc5b074",
   "metadata": {},
   "source": [
    "Questions"
   ]
  },
  {
   "cell_type": "markdown",
   "id": "f3f711c8-8984-4fd7-8e9d-61560117a33a",
   "metadata": {},
   "source": [
    "1. Write a function that takes a list and returns a tuple containing all even numbers."
   ]
  },
  {
   "cell_type": "code",
   "execution_count": 25,
   "id": "bbb61e64-96cb-4baa-9de3-caf31ed2f310",
   "metadata": {},
   "outputs": [
    {
     "name": "stdout",
     "output_type": "stream",
     "text": [
      "(2, 4, 6, 8, 10)\n"
     ]
    }
   ],
   "source": [
    "a = [1,2,3,4,5,6,7,8,9,10]\n",
    "even = []\n",
    "def ret_tup():\n",
    "    for i in a:\n",
    "        if i % 2 == 0:\n",
    "            even.append(i)\n",
    "    return tuple(even)\n",
    "print(ret_tup())"
   ]
  },
  {
   "cell_type": "markdown",
   "id": "e42c9775-4563-4943-8ed0-1523363abdeb",
   "metadata": {},
   "source": [
    "2.Write a function that takes a dictionary and prints each key-value pair using a loop."
   ]
  },
  {
   "cell_type": "code",
   "execution_count": 26,
   "id": "adbfece0-8e4a-4480-a697-1a13ff0ea0b3",
   "metadata": {},
   "outputs": [],
   "source": [
    "mydict = {\n",
    "    \"Brand\": \"Ford\",\n",
    "    \"Model\": \"mustang\",\n",
    "    \"Year\": 1988\n",
    "}"
   ]
  },
  {
   "cell_type": "code",
   "execution_count": 31,
   "id": "b006bc0c-e4b9-4a21-9a7a-d208f8d6aade",
   "metadata": {},
   "outputs": [
    {
     "name": "stdout",
     "output_type": "stream",
     "text": [
      "Brand: Ford\n",
      "Model: mustang\n",
      "Year: 1988\n"
     ]
    }
   ],
   "source": [
    "for key, value in mydict.items():\n",
    "    print(f\"{key}: {value}\")"
   ]
  },
  {
   "cell_type": "markdown",
   "id": "95c68d6d-0a35-48d9-bed1-b18e63e30fa7",
   "metadata": {},
   "source": [
    "3. Write a fuction that take a tuple and return a list of all the element multiply by 2"
   ]
  },
  {
   "cell_type": "code",
   "execution_count": 47,
   "id": "c9bfa710-574f-46d0-88f2-6081da461509",
   "metadata": {},
   "outputs": [],
   "source": [
    "a = (1,2,3,4,5,6,7,8,9,10)\n",
    "result = []"
   ]
  },
  {
   "cell_type": "code",
   "execution_count": 48,
   "id": "8f34918a-088b-444e-ad20-7020ebc43da2",
   "metadata": {},
   "outputs": [
    {
     "name": "stdout",
     "output_type": "stream",
     "text": [
      "[2, 4, 6, 8, 10, 12, 14, 16, 18, 20]\n"
     ]
    }
   ],
   "source": [
    "def ele_mul_2(t):\n",
    "    for i in t:\n",
    "        result.append(i * 2)\n",
    "    return result\n",
    "print(ele_mul_2(a))"
   ]
  },
  {
   "cell_type": "markdown",
   "id": "8b259f3a-e0f7-462d-8285-fadc214a34d5",
   "metadata": {},
   "source": [
    "4. Write a function that takes two lists and returns a dictionary where the first list is the key and the second is the value."
   ]
  },
  {
   "cell_type": "code",
   "execution_count": 49,
   "id": "f8fcc3d9-4b6f-4ce8-9a26-ead4056b1f63",
   "metadata": {},
   "outputs": [],
   "source": [
    "a = (\"Brand\", \"Model\", \"Year\")\n",
    "b = (\"Ford\", \"Mustang\", 1988)"
   ]
  },
  {
   "cell_type": "code",
   "execution_count": 50,
   "id": "ffb65e23-f635-4694-8191-2ed59a728fb3",
   "metadata": {},
   "outputs": [
    {
     "name": "stdout",
     "output_type": "stream",
     "text": [
      "{'Brand': 'Ford', 'Model': 'Mustang', 'Year': 1988}\n"
     ]
    }
   ],
   "source": [
    "res = dict(zip(a, b))\n",
    "print(res)"
   ]
  },
  {
   "cell_type": "markdown",
   "id": "0a5fafc8-54f9-4c05-b071-84656d3689ba",
   "metadata": {},
   "source": [
    "Write a function that takes a list and returns the count of element greater than 10."
   ]
  },
  {
   "cell_type": "code",
   "execution_count": 65,
   "id": "f7a4d1ae-b189-4aa7-838f-0f6186868f51",
   "metadata": {},
   "outputs": [],
   "source": [
    "a = [1,2,3,4,5,6,7,8,9,10,11,12,13,14,15]"
   ]
  },
  {
   "cell_type": "code",
   "execution_count": 66,
   "id": "701cead3-c02e-467e-8db6-02fd85fe767a",
   "metadata": {},
   "outputs": [
    {
     "name": "stdout",
     "output_type": "stream",
     "text": [
      "5\n"
     ]
    }
   ],
   "source": [
    "def cou_ele_gre_10(lst):\n",
    "    count = 0\n",
    "    for i in lst:\n",
    "        if i > 10:\n",
    "            count += 1\n",
    "    return count\n",
    "print(cou_ele_gre_10(a))"
   ]
  },
  {
   "cell_type": "code",
   "execution_count": null,
   "id": "1d85a088-4dce-4b21-a88e-3503a1fe1318",
   "metadata": {},
   "outputs": [],
   "source": []
  }
 ],
 "metadata": {
  "kernelspec": {
   "display_name": "Python 3 (ipykernel)",
   "language": "python",
   "name": "python3"
  },
  "language_info": {
   "codemirror_mode": {
    "name": "ipython",
    "version": 3
   },
   "file_extension": ".py",
   "mimetype": "text/x-python",
   "name": "python",
   "nbconvert_exporter": "python",
   "pygments_lexer": "ipython3",
   "version": "3.10.18"
  }
 },
 "nbformat": 4,
 "nbformat_minor": 5
}
