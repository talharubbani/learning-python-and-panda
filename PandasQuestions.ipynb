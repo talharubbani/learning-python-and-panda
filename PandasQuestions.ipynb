{
 "cells": [
  {
   "cell_type": "code",
   "execution_count": 1,
   "id": "edcdd611-1231-43b7-969d-1bd27cb0ed87",
   "metadata": {},
   "outputs": [],
   "source": [
    "import pandas as pd\n",
    "import numpy as np"
   ]
  },
  {
   "cell_type": "markdown",
   "id": "777cfa7f-d60e-45b7-8f99-4ade210cbe09",
   "metadata": {},
   "source": [
    "- How do you handle reading a large CSV file in chunks to mange memory using in pandas"
   ]
  },
  {
   "cell_type": "code",
   "execution_count": 2,
   "id": "dff8a88e-01a8-4cc0-a5db-077c7a8d731a",
   "metadata": {},
   "outputs": [],
   "source": [
    "df1 = pd.DataFrame({\n",
    "    'emp_id': [1,2,3,4,5],\n",
    "    'name': ['Alice', 'Bob', 'Charlie', 'David', 'Emma'],\n",
    "    'age': [25,34,54,18,32],\n",
    "    'city': ['New York', 'London', 'Paris', 'Tokyo', 'Sydney'],\n",
    "    'dept': ['HR', 'IT', 'Finance', 'HR', 'IT'],\n",
    "    'join_date': ['2020-6-18', '2024-8-12', '2025-5-17', '2020-6-20', '2018-9-30']\n",
    "})"
   ]
  },
  {
   "cell_type": "code",
   "execution_count": 3,
   "id": "de527243-fbed-4037-9007-5edc011ae7a4",
   "metadata": {},
   "outputs": [],
   "source": [
    "# Save it as a CSV file\n",
    "df1.to_csv('handle_lar_csv', index = 'False')"
   ]
  },
  {
   "cell_type": "code",
   "execution_count": 4,
   "id": "009dd569-2fba-420c-a928-917990b80f0a",
   "metadata": {},
   "outputs": [
    {
     "name": "stdout",
     "output_type": "stream",
     "text": [
      "   Unnamed: 0  emp_id   name  age      city dept  join_date\n",
      "0           0       1  Alice   25  New York   HR  2020-6-18\n",
      "1           1       2    Bob   34    London   IT  2024-8-12\n",
      "----\n",
      "   Unnamed: 0  emp_id     name  age   city     dept  join_date\n",
      "2           2       3  Charlie   54  Paris  Finance  2025-5-17\n",
      "3           3       4    David   18  Tokyo       HR  2020-6-20\n",
      "----\n",
      "   Unnamed: 0  emp_id  name  age    city dept  join_date\n",
      "4           4       5  Emma   32  Sydney   IT  2018-9-30\n",
      "----\n"
     ]
    }
   ],
   "source": [
    "# Read the CSV in Chunks\n",
    "for chunk in pd.read_csv('handle_lar_csv', chunksize = 2):\n",
    "    print(chunk)\n",
    "    print('----')"
   ]
  },
  {
   "cell_type": "markdown",
   "id": "f791d192-21b3-499b-9244-686a27efe58e",
   "metadata": {},
   "source": [
    " - What is the difference between merge, join and concat in pandas? And when should you use each?\n",
    " - What do prefer a left, right, inner, outer join between two dataframe?"
   ]
  },
  {
   "cell_type": "code",
   "execution_count": 5,
   "id": "c03d53cc-1b44-432b-998f-f830fc194c3b",
   "metadata": {},
   "outputs": [
    {
     "name": "stdout",
     "output_type": "stream",
     "text": [
      "   index    name\n",
      "0      1   Talha\n",
      "1      2   Qasim\n",
      "2      3  Hammad\n",
      "3      4     Ali\n",
      "4      5   Arham\n"
     ]
    }
   ],
   "source": [
    "# Concat\n",
    "df1 = pd.DataFrame({\n",
    "    'index': [1, 2, 3],\n",
    "    'name': ['Talha', 'Qasim', 'Hammad']\n",
    "})\n",
    "df2 = pd.DataFrame({\n",
    "    'index': [4, 5],\n",
    "    'name': ['Ali', 'Arham']\n",
    "})\n",
    "result = pd.concat([df1, df2], ignore_index=True)\n",
    "print(result)"
   ]
  },
  {
   "cell_type": "code",
   "execution_count": 6,
   "id": "c7dfabb4-e0e1-425a-bc92-904e49e867be",
   "metadata": {},
   "outputs": [
    {
     "name": "stdout",
     "output_type": "stream",
     "text": [
      "   index   name  number\n",
      "0      1  Talha      55\n",
      "1      2  Qasim       9\n"
     ]
    }
   ],
   "source": [
    "# Inner Join\n",
    "df1 = pd.DataFrame({\n",
    "    'index': [1, 2, 3],\n",
    "    'name': ['Talha', 'Qasim', 'Hammad']\n",
    "})\n",
    "df2 = pd.DataFrame({\n",
    "    'index': [1, 2, 4, 5],\n",
    "    'number': [55, 9, 6, 8]\n",
    "})\n",
    "result = pd.merge(df1, df2, on = 'index', how = 'inner')\n",
    "print(result)"
   ]
  },
  {
   "cell_type": "code",
   "execution_count": 7,
   "id": "a1a7a99a-71c7-4f35-bda3-ea4a2d99888d",
   "metadata": {},
   "outputs": [
    {
     "name": "stdout",
     "output_type": "stream",
     "text": [
      "   index    name  number\n",
      "0      1   Talha    55.0\n",
      "1      2   Qasim     9.0\n",
      "2      3  Hammad     NaN\n"
     ]
    }
   ],
   "source": [
    "# Left Join    All rows from df1, scores added if id matches, else NaN.\n",
    "df1 = pd.DataFrame({\n",
    "    'index': [1, 2, 3],\n",
    "    'name': ['Talha', 'Qasim', 'Hammad']\n",
    "})\n",
    "df2 = pd.DataFrame({\n",
    "    'index': [1, 2, 4],\n",
    "    'number': [55, 9, 6]\n",
    "})\n",
    "result = pd.merge(df1, df2, on = 'index', how = 'left')\n",
    "print(result)"
   ]
  },
  {
   "cell_type": "code",
   "execution_count": 8,
   "id": "68ec3f3d-2ec6-40f7-a22e-ef6b5e59814a",
   "metadata": {},
   "outputs": [
    {
     "name": "stdout",
     "output_type": "stream",
     "text": [
      "   index   name  number\n",
      "0      1  Talha      55\n",
      "1      2  Qasim       9\n",
      "2      4    NaN       6\n"
     ]
    }
   ],
   "source": [
    "# RIGHT JOIN  All rows from df2, names added if id matches, else NaN.\n",
    "df1 = pd.DataFrame({\n",
    "    'index': [1, 2, 3],\n",
    "    'name': ['Talha', 'Qasim', 'Hammad']\n",
    "})\n",
    "df2 = pd.DataFrame({\n",
    "    'index': [1, 2, 4],\n",
    "    'number': [55, 9, 6]\n",
    "})\n",
    "result = pd.merge(df1, df2, on = 'index', how = 'right')\n",
    "print(result)"
   ]
  },
  {
   "cell_type": "code",
   "execution_count": 9,
   "id": "74c82847-d803-43f7-9ca0-d9bdf31982a8",
   "metadata": {},
   "outputs": [
    {
     "name": "stdout",
     "output_type": "stream",
     "text": [
      "   index    name  number\n",
      "0      1   Talha    55.0\n",
      "1      2   Qasim     9.0\n",
      "2      3  Hammad     NaN\n",
      "3      4     NaN     6.0\n"
     ]
    }
   ],
   "source": [
    "# OUTER JOIN  All rows from both DataFrames (1, 2, 3, 4, 5, 6).\n",
    "df1 = pd.DataFrame({\n",
    "    'index': [1, 2, 3],\n",
    "    'name': ['Talha', 'Qasim', 'Hammad']\n",
    "})\n",
    "df2 = pd.DataFrame({\n",
    "    'index': [1, 2, 4],\n",
    "    'number': [55, 9, 6]\n",
    "})\n",
    "result = pd.merge(df1, df2, on = 'index', how = 'outer')\n",
    "print(result)"
   ]
  },
  {
   "cell_type": "markdown",
   "id": "db3fea03-835c-4c29-8c0a-21ea158c7e47",
   "metadata": {},
   "source": [
    "- How can you pivot a dataframe to reshape it from long to wide format?"
   ]
  },
  {
   "cell_type": "code",
   "execution_count": 10,
   "id": "8e305096-1e80-4028-b870-50e489fc9484",
   "metadata": {},
   "outputs": [
    {
     "name": "stdout",
     "output_type": "stream",
     "text": [
      "subject  Ai  Data Science\n",
      "student                  \n",
      "Alishba  40            20\n",
      "Sara     30            10\n"
     ]
    }
   ],
   "source": [
    "# Pivot a DataFrame\n",
    "data = pd.DataFrame({\n",
    "    'student': ['Sara', 'Alishba', 'Sara', 'Alishba'],\n",
    "    'subject': ['Data Science', 'Data Science', 'Ai', 'Ai'],\n",
    "    'marks': [10, 20,30,40]\n",
    "})\n",
    "result = data.pivot(index = 'student', columns = 'subject', values = 'marks')\n",
    "print(result)"
   ]
  },
  {
   "cell_type": "markdown",
   "id": "7dc62efd-539a-48ca-bf2b-5cbaef9a2040",
   "metadata": {},
   "source": [
    "- Use melt to transform a dataframe from wide to long format."
   ]
  },
  {
   "cell_type": "code",
   "execution_count": 11,
   "id": "79251880-1697-4188-b937-aab88fcdd4b2",
   "metadata": {},
   "outputs": [
    {
     "name": "stdout",
     "output_type": "stream",
     "text": [
      "  student  subject  marks\n",
      "0     Ali     Math     90\n",
      "1    Sara     Math     88\n",
      "2     Ali  Science     85\n",
      "3    Sara  Science     92\n"
     ]
    }
   ],
   "source": [
    "data = pd.DataFrame({\n",
    "    \"student\": [\"Ali\", \"Sara\"],\n",
    "    \"Math\": [90, 88],\n",
    "    \"Science\": [85, 92]\n",
    "})\n",
    "melted = data.melt(id_vars=[\"student\"], \n",
    "                 value_vars=[\"Math\", \"Science\"], \n",
    "                 var_name=\"subject\", \n",
    "                 value_name=\"marks\")\n",
    "print(melted)"
   ]
  },
  {
   "cell_type": "markdown",
   "id": "2b957ba4-785a-4f04-b8e2-cecb12ffc2f6",
   "metadata": {},
   "source": [
    "- How do you handle categorical data in a dataframe, and what are the benifit of using the categorical dtypes."
   ]
  },
  {
   "cell_type": "code",
   "execution_count": 12,
   "id": "b962ca63-dc9a-4691-ab50-2c85c5ea22ea",
   "metadata": {},
   "outputs": [
    {
     "name": "stdout",
     "output_type": "stream",
     "text": [
      "Product       object\n",
      "Category    category\n",
      "Price          int64\n",
      "dtype: object\n"
     ]
    }
   ],
   "source": [
    "data = pd.DataFrame ({\n",
    "    'Product': ['shirts', 'jeans', 'mobile', 'laptop', 'shoes', 'tablets'],\n",
    "    'Category': ['clothes', 'clothes', 'electronics', 'electronics', 'clothes', 'electronics'],\n",
    "    'Price': [2000,3000, 4000,5000,6000,7000]\n",
    "})\n",
    "data['Category'] = data['Category'].astype('category')\n",
    "print(data.dtypes)"
   ]
  },
  {
   "cell_type": "markdown",
   "id": "f575d7a4-3544-48d9-be5a-f0b91d5edb13",
   "metadata": {},
   "source": [
    "- Apply a function to every element in a dataframe using applymap.\n",
    "- applymap is deprecated use only map"
   ]
  },
  {
   "cell_type": "code",
   "execution_count": 13,
   "id": "9252ca15-af4b-4884-a8df-8628752f85ef",
   "metadata": {},
   "outputs": [
    {
     "name": "stdout",
     "output_type": "stream",
     "text": [
      "    a   b\n",
      "0   1  25\n",
      "1   4  36\n",
      "2   9  49\n",
      "3  16  64\n"
     ]
    }
   ],
   "source": [
    "data = pd.DataFrame({\n",
    "    'a': [1,2,3,4],\n",
    "    'b': [5,6,7,8]\n",
    "})\n",
    "result = data.map(lambda x: x ** 2)\n",
    "print(result)"
   ]
  },
  {
   "cell_type": "markdown",
   "id": "385ad9b7-2a39-46e8-934f-28cfbedefd7d",
   "metadata": {},
   "source": [
    "- How do use groupby with multiple column and agg using different function for each column."
   ]
  },
  {
   "cell_type": "code",
   "execution_count": 14,
   "id": "2375b61f-0dd4-474e-8096-bfc51f720e98",
   "metadata": {},
   "outputs": [
    {
     "name": "stdout",
     "output_type": "stream",
     "text": [
      "     city category  sales  quantity\n",
      "0  Lahore        A    100         2\n",
      "1  Lahore        A    200         4\n",
      "2  Lahore        B    300         3\n",
      "3     Isl        C    400         6\n"
     ]
    }
   ],
   "source": [
    "data = pd.DataFrame({\n",
    "    'city': ['Lahore', 'Lahore', 'Lahore', 'Isl'],\n",
    "    'category': ['A', 'A', 'B', 'C'],\n",
    "    'sales': [100, 200, 300, 400],\n",
    "    'quantity': [2, 4, 3, 6]\n",
    "})\n",
    "print(data)"
   ]
  },
  {
   "cell_type": "code",
   "execution_count": 15,
   "id": "7c680dc6-c633-4fb8-8cdc-89603193f708",
   "metadata": {},
   "outputs": [
    {
     "name": "stdout",
     "output_type": "stream",
     "text": [
      "This is multilndex\n",
      "                 sales  quantity\n",
      "city   category                 \n",
      "Isl    C           400         6\n",
      "Lahore A           300         6\n",
      "       B           300         3\n"
     ]
    }
   ],
   "source": [
    "result = data.groupby(['city', 'category']).agg({\n",
    "    'sales': 'sum',\n",
    "    'quantity': 'sum'\n",
    "})\n",
    "print('This is multilndex')\n",
    "print(result)"
   ]
  },
  {
   "cell_type": "markdown",
   "id": "b4e48909-d267-4f8f-8378-fbad1c846cbb",
   "metadata": {},
   "source": [
    "- How do you create a multilndex Dataframe, and how do you select data from it."
   ]
  },
  {
   "cell_type": "code",
   "execution_count": 16,
   "id": "a2d82f10-20f9-45fc-838d-66818cf9362e",
   "metadata": {},
   "outputs": [
    {
     "name": "stdout",
     "output_type": "stream",
     "text": [
      "sales       300\n",
      "quantity      6\n",
      "Name: (Lahore, A), dtype: int64\n"
     ]
    }
   ],
   "source": [
    "print(result.loc['Lahore', 'A'])"
   ]
  },
  {
   "cell_type": "markdown",
   "id": "5ef5f3e6-2f45-446f-adf3-a99e3bde646a",
   "metadata": {},
   "source": [
    "- How do you stack and unstack a dataframe with a multilndex."
   ]
  },
  {
   "cell_type": "code",
   "execution_count": 17,
   "id": "70db4b20-65ab-4452-a05c-58a4ec575a57",
   "metadata": {},
   "outputs": [
    {
     "data": {
      "text/html": [
       "<div>\n",
       "<style scoped>\n",
       "    .dataframe tbody tr th:only-of-type {\n",
       "        vertical-align: middle;\n",
       "    }\n",
       "\n",
       "    .dataframe tbody tr th {\n",
       "        vertical-align: top;\n",
       "    }\n",
       "\n",
       "    .dataframe thead tr th {\n",
       "        text-align: left;\n",
       "    }\n",
       "</style>\n",
       "<table border=\"1\" class=\"dataframe\">\n",
       "  <thead>\n",
       "    <tr>\n",
       "      <th></th>\n",
       "      <th colspan=\"2\" halign=\"left\">sales</th>\n",
       "      <th colspan=\"2\" halign=\"left\">profit</th>\n",
       "    </tr>\n",
       "    <tr>\n",
       "      <th></th>\n",
       "      <th>Q1</th>\n",
       "      <th>Q2</th>\n",
       "      <th>Q1</th>\n",
       "      <th>Q2</th>\n",
       "    </tr>\n",
       "  </thead>\n",
       "  <tbody>\n",
       "    <tr>\n",
       "      <th>store A</th>\n",
       "      <td>100</td>\n",
       "      <td>500</td>\n",
       "      <td>1000</td>\n",
       "      <td>5000</td>\n",
       "    </tr>\n",
       "    <tr>\n",
       "      <th>store B</th>\n",
       "      <td>200</td>\n",
       "      <td>600</td>\n",
       "      <td>2000</td>\n",
       "      <td>6000</td>\n",
       "    </tr>\n",
       "    <tr>\n",
       "      <th>store C</th>\n",
       "      <td>300</td>\n",
       "      <td>700</td>\n",
       "      <td>3000</td>\n",
       "      <td>7000</td>\n",
       "    </tr>\n",
       "  </tbody>\n",
       "</table>\n",
       "</div>"
      ],
      "text/plain": [
       "        sales      profit      \n",
       "           Q1   Q2     Q1    Q2\n",
       "store A   100  500   1000  5000\n",
       "store B   200  600   2000  6000\n",
       "store C   300  700   3000  7000"
      ]
     },
     "execution_count": 17,
     "metadata": {},
     "output_type": "execute_result"
    }
   ],
   "source": [
    "data = pd.DataFrame({\n",
    "    ('sales', 'Q1'): [100,200,300],\n",
    "    ('sales', 'Q2'): [500,600,700],\n",
    "    ('profit', 'Q1'): [1000,2000,3000],\n",
    "    ('profit', 'Q2'): [5000,6000,7000],\n",
    "}, index = ['store A', 'store B', 'store C'])\n",
    "data"
   ]
  },
  {
   "cell_type": "code",
   "execution_count": 18,
   "id": "86a7b7da-65c1-4b8d-b8b6-ccde2cc3259f",
   "metadata": {},
   "outputs": [
    {
     "name": "stdout",
     "output_type": "stream",
     "text": [
      "            sales  profit\n",
      "store A Q1    100    1000\n",
      "        Q2    500    5000\n",
      "store B Q1    200    2000\n",
      "        Q2    600    6000\n",
      "store C Q1    300    3000\n",
      "        Q2    700    7000\n"
     ]
    }
   ],
   "source": [
    "result = data.stack(future_stack=True)\n",
    "print(result)"
   ]
  },
  {
   "cell_type": "code",
   "execution_count": 19,
   "id": "2d93fd66-6d32-4bb1-a443-c23cde820fba",
   "metadata": {},
   "outputs": [
    {
     "name": "stdout",
     "output_type": "stream",
     "text": [
      "        sales      profit      \n",
      "           Q1   Q2     Q1    Q2\n",
      "store A   100  500   1000  5000\n",
      "store B   200  600   2000  6000\n",
      "store C   300  700   3000  7000\n"
     ]
    }
   ],
   "source": [
    "result_1 = result.unstack()\n",
    "print(result_1)"
   ]
  },
  {
   "cell_type": "markdown",
   "id": "36ba80a0-b357-4a21-a822-e8876518d110",
   "metadata": {},
   "source": [
    "- How do you use cut to bin numerical data into discrete interval."
   ]
  },
  {
   "cell_type": "code",
   "execution_count": 20,
   "id": "8775bda9-afdf-4041-932c-073906322009",
   "metadata": {},
   "outputs": [
    {
     "name": "stdout",
     "output_type": "stream",
     "text": [
      "['Fail', 'Average', 'Good', 'Excellent', 'Fail', 'Excellent', 'Average']\n",
      "Categories (4, object): ['Fail' < 'Average' < 'Good' < 'Excellent']\n"
     ]
    }
   ],
   "source": [
    "marks = [35, 57, 79, 91, 10,95,59]\n",
    "bins = [0,40,60,80,100]\n",
    "labels = ['Fail', 'Average', 'Good', 'Excellent']\n",
    "result = pd.cut(marks, bins=bins, labels=labels)\n",
    "print(result)"
   ]
  },
  {
   "cell_type": "markdown",
   "id": "24beae90-25c2-4ecd-ac81-e2fef6865b4a",
   "metadata": {},
   "source": [
    "- How do you use qcut to create quantile-based bins for a column."
   ]
  },
  {
   "cell_type": "code",
   "execution_count": 21,
   "id": "0060a326-b7b6-43b8-b8ae-788422f8d05a",
   "metadata": {},
   "outputs": [
    {
     "name": "stdout",
     "output_type": "stream",
     "text": [
      "[(34.999, 48.0], (34.999, 48.0], (34.999, 48.0], (48.0, 62.5], (48.0, 62.5], ..., (62.5, 76.25], (62.5, 76.25], (76.25, 95.0], (76.25, 95.0], (76.25, 95.0]]\n",
      "Length: 12\n",
      "Categories (4, interval[float64, right]): [(34.999, 48.0] < (48.0, 62.5] < (62.5, 76.25] < (76.25, 95.0]]\n"
     ]
    }
   ],
   "source": [
    "\n",
    "# Exam scores of 12 students\n",
    "scores = [35, 40, 42, 50, 55, 60, 65, 70, 75, 80, 85, 95]\n",
    "\n",
    "# Split into 4 equal groups (quartiles)\n",
    "result = pd.qcut(scores, q=4)\n",
    "\n",
    "print(result)\n"
   ]
  },
  {
   "cell_type": "markdown",
   "id": "754d4c80-d6e0-4d80-be6a-84ca2f1edb7f",
   "metadata": {},
   "source": [
    "- How do you handle duplicate rows in a Dataframe, including finding and removing them. "
   ]
  },
  {
   "cell_type": "code",
   "execution_count": 22,
   "id": "b3582aea-12e0-44fd-9d17-e5a315158771",
   "metadata": {},
   "outputs": [
    {
     "data": {
      "text/html": [
       "<div>\n",
       "<style scoped>\n",
       "    .dataframe tbody tr th:only-of-type {\n",
       "        vertical-align: middle;\n",
       "    }\n",
       "\n",
       "    .dataframe tbody tr th {\n",
       "        vertical-align: top;\n",
       "    }\n",
       "\n",
       "    .dataframe thead th {\n",
       "        text-align: right;\n",
       "    }\n",
       "</style>\n",
       "<table border=\"1\" class=\"dataframe\">\n",
       "  <thead>\n",
       "    <tr style=\"text-align: right;\">\n",
       "      <th></th>\n",
       "      <th>name</th>\n",
       "      <th>age</th>\n",
       "      <th>city</th>\n",
       "    </tr>\n",
       "  </thead>\n",
       "  <tbody>\n",
       "    <tr>\n",
       "      <th>0</th>\n",
       "      <td>Talha</td>\n",
       "      <td>20</td>\n",
       "      <td>Lahore</td>\n",
       "    </tr>\n",
       "    <tr>\n",
       "      <th>1</th>\n",
       "      <td>Talha</td>\n",
       "      <td>30</td>\n",
       "      <td>Lahore</td>\n",
       "    </tr>\n",
       "    <tr>\n",
       "      <th>2</th>\n",
       "      <td>Talha</td>\n",
       "      <td>40</td>\n",
       "      <td>Lahore</td>\n",
       "    </tr>\n",
       "    <tr>\n",
       "      <th>3</th>\n",
       "      <td>Qasim</td>\n",
       "      <td>18</td>\n",
       "      <td>isl</td>\n",
       "    </tr>\n",
       "    <tr>\n",
       "      <th>4</th>\n",
       "      <td>Hammad</td>\n",
       "      <td>19</td>\n",
       "      <td>Karachi</td>\n",
       "    </tr>\n",
       "  </tbody>\n",
       "</table>\n",
       "</div>"
      ],
      "text/plain": [
       "     name  age     city\n",
       "0   Talha   20   Lahore\n",
       "1   Talha   30   Lahore\n",
       "2   Talha   40   Lahore\n",
       "3   Qasim   18      isl\n",
       "4  Hammad   19  Karachi"
      ]
     },
     "execution_count": 22,
     "metadata": {},
     "output_type": "execute_result"
    }
   ],
   "source": [
    "data = pd.DataFrame({\n",
    "    'name': ['Talha', 'Talha', 'Talha', 'Qasim', 'Hammad'],\n",
    "    'age': [20, 30,40,18,19],\n",
    "    'city': ['Lahore', 'Lahore', 'Lahore', 'isl', 'Karachi']\n",
    "})\n",
    "\n",
    "data"
   ]
  },
  {
   "cell_type": "code",
   "execution_count": 23,
   "id": "6fff01bc-022a-4974-b89c-194b5bbc2d48",
   "metadata": {},
   "outputs": [
    {
     "data": {
      "text/plain": [
       "0    False\n",
       "1    False\n",
       "2    False\n",
       "3    False\n",
       "4    False\n",
       "dtype: bool"
      ]
     },
     "execution_count": 23,
     "metadata": {},
     "output_type": "execute_result"
    }
   ],
   "source": [
    "result = data.duplicated()\n",
    "result"
   ]
  },
  {
   "cell_type": "code",
   "execution_count": 24,
   "id": "66b6dab2-d3e1-41f0-9df6-67536c3639a2",
   "metadata": {},
   "outputs": [
    {
     "data": {
      "text/html": [
       "<div>\n",
       "<style scoped>\n",
       "    .dataframe tbody tr th:only-of-type {\n",
       "        vertical-align: middle;\n",
       "    }\n",
       "\n",
       "    .dataframe tbody tr th {\n",
       "        vertical-align: top;\n",
       "    }\n",
       "\n",
       "    .dataframe thead th {\n",
       "        text-align: right;\n",
       "    }\n",
       "</style>\n",
       "<table border=\"1\" class=\"dataframe\">\n",
       "  <thead>\n",
       "    <tr style=\"text-align: right;\">\n",
       "      <th></th>\n",
       "      <th>name</th>\n",
       "      <th>age</th>\n",
       "      <th>city</th>\n",
       "    </tr>\n",
       "  </thead>\n",
       "  <tbody>\n",
       "    <tr>\n",
       "      <th>0</th>\n",
       "      <td>Talha</td>\n",
       "      <td>20</td>\n",
       "      <td>Lahore</td>\n",
       "    </tr>\n",
       "    <tr>\n",
       "      <th>1</th>\n",
       "      <td>Talha</td>\n",
       "      <td>30</td>\n",
       "      <td>Lahore</td>\n",
       "    </tr>\n",
       "    <tr>\n",
       "      <th>2</th>\n",
       "      <td>Talha</td>\n",
       "      <td>40</td>\n",
       "      <td>Lahore</td>\n",
       "    </tr>\n",
       "    <tr>\n",
       "      <th>3</th>\n",
       "      <td>Qasim</td>\n",
       "      <td>18</td>\n",
       "      <td>isl</td>\n",
       "    </tr>\n",
       "    <tr>\n",
       "      <th>4</th>\n",
       "      <td>Hammad</td>\n",
       "      <td>19</td>\n",
       "      <td>Karachi</td>\n",
       "    </tr>\n",
       "  </tbody>\n",
       "</table>\n",
       "</div>"
      ],
      "text/plain": [
       "     name  age     city\n",
       "0   Talha   20   Lahore\n",
       "1   Talha   30   Lahore\n",
       "2   Talha   40   Lahore\n",
       "3   Qasim   18      isl\n",
       "4  Hammad   19  Karachi"
      ]
     },
     "execution_count": 24,
     "metadata": {},
     "output_type": "execute_result"
    }
   ],
   "source": [
    "remove_duplicate = data.drop_duplicates()\n",
    "remove_duplicate"
   ]
  },
  {
   "cell_type": "code",
   "execution_count": 25,
   "id": "62ccf3ff-9ca7-4c91-9f25-a9157e881c30",
   "metadata": {},
   "outputs": [
    {
     "data": {
      "text/html": [
       "<div>\n",
       "<style scoped>\n",
       "    .dataframe tbody tr th:only-of-type {\n",
       "        vertical-align: middle;\n",
       "    }\n",
       "\n",
       "    .dataframe tbody tr th {\n",
       "        vertical-align: top;\n",
       "    }\n",
       "\n",
       "    .dataframe thead th {\n",
       "        text-align: right;\n",
       "    }\n",
       "</style>\n",
       "<table border=\"1\" class=\"dataframe\">\n",
       "  <thead>\n",
       "    <tr style=\"text-align: right;\">\n",
       "      <th></th>\n",
       "      <th>name</th>\n",
       "      <th>age</th>\n",
       "      <th>city</th>\n",
       "    </tr>\n",
       "  </thead>\n",
       "  <tbody>\n",
       "    <tr>\n",
       "      <th>0</th>\n",
       "      <td>Talha</td>\n",
       "      <td>20</td>\n",
       "      <td>Lahore</td>\n",
       "    </tr>\n",
       "    <tr>\n",
       "      <th>1</th>\n",
       "      <td>Talha</td>\n",
       "      <td>30</td>\n",
       "      <td>Lahore</td>\n",
       "    </tr>\n",
       "    <tr>\n",
       "      <th>2</th>\n",
       "      <td>Talha</td>\n",
       "      <td>40</td>\n",
       "      <td>Lahore</td>\n",
       "    </tr>\n",
       "    <tr>\n",
       "      <th>3</th>\n",
       "      <td>Qasim</td>\n",
       "      <td>18</td>\n",
       "      <td>isl</td>\n",
       "    </tr>\n",
       "    <tr>\n",
       "      <th>4</th>\n",
       "      <td>Hammad</td>\n",
       "      <td>19</td>\n",
       "      <td>Karachi</td>\n",
       "    </tr>\n",
       "  </tbody>\n",
       "</table>\n",
       "</div>"
      ],
      "text/plain": [
       "     name  age     city\n",
       "0   Talha   20   Lahore\n",
       "1   Talha   30   Lahore\n",
       "2   Talha   40   Lahore\n",
       "3   Qasim   18      isl\n",
       "4  Hammad   19  Karachi"
      ]
     },
     "execution_count": 25,
     "metadata": {},
     "output_type": "execute_result"
    }
   ],
   "source": [
    "data.drop_duplicates(keep = 'first')"
   ]
  },
  {
   "cell_type": "code",
   "execution_count": 26,
   "id": "475f950e-cb5b-4f7e-ba49-2492b242738c",
   "metadata": {},
   "outputs": [
    {
     "data": {
      "text/html": [
       "<div>\n",
       "<style scoped>\n",
       "    .dataframe tbody tr th:only-of-type {\n",
       "        vertical-align: middle;\n",
       "    }\n",
       "\n",
       "    .dataframe tbody tr th {\n",
       "        vertical-align: top;\n",
       "    }\n",
       "\n",
       "    .dataframe thead th {\n",
       "        text-align: right;\n",
       "    }\n",
       "</style>\n",
       "<table border=\"1\" class=\"dataframe\">\n",
       "  <thead>\n",
       "    <tr style=\"text-align: right;\">\n",
       "      <th></th>\n",
       "      <th>name</th>\n",
       "      <th>age</th>\n",
       "      <th>city</th>\n",
       "    </tr>\n",
       "  </thead>\n",
       "  <tbody>\n",
       "    <tr>\n",
       "      <th>0</th>\n",
       "      <td>Talha</td>\n",
       "      <td>20</td>\n",
       "      <td>Lahore</td>\n",
       "    </tr>\n",
       "    <tr>\n",
       "      <th>1</th>\n",
       "      <td>Talha</td>\n",
       "      <td>30</td>\n",
       "      <td>Lahore</td>\n",
       "    </tr>\n",
       "    <tr>\n",
       "      <th>2</th>\n",
       "      <td>Talha</td>\n",
       "      <td>40</td>\n",
       "      <td>Lahore</td>\n",
       "    </tr>\n",
       "    <tr>\n",
       "      <th>3</th>\n",
       "      <td>Qasim</td>\n",
       "      <td>18</td>\n",
       "      <td>isl</td>\n",
       "    </tr>\n",
       "    <tr>\n",
       "      <th>4</th>\n",
       "      <td>Hammad</td>\n",
       "      <td>19</td>\n",
       "      <td>Karachi</td>\n",
       "    </tr>\n",
       "  </tbody>\n",
       "</table>\n",
       "</div>"
      ],
      "text/plain": [
       "     name  age     city\n",
       "0   Talha   20   Lahore\n",
       "1   Talha   30   Lahore\n",
       "2   Talha   40   Lahore\n",
       "3   Qasim   18      isl\n",
       "4  Hammad   19  Karachi"
      ]
     },
     "execution_count": 26,
     "metadata": {},
     "output_type": "execute_result"
    }
   ],
   "source": [
    "data.drop_duplicates(keep = 'last')"
   ]
  },
  {
   "cell_type": "code",
   "execution_count": 27,
   "id": "94a10888-83ae-45e3-89e0-7d4c96073613",
   "metadata": {},
   "outputs": [
    {
     "data": {
      "text/html": [
       "<div>\n",
       "<style scoped>\n",
       "    .dataframe tbody tr th:only-of-type {\n",
       "        vertical-align: middle;\n",
       "    }\n",
       "\n",
       "    .dataframe tbody tr th {\n",
       "        vertical-align: top;\n",
       "    }\n",
       "\n",
       "    .dataframe thead th {\n",
       "        text-align: right;\n",
       "    }\n",
       "</style>\n",
       "<table border=\"1\" class=\"dataframe\">\n",
       "  <thead>\n",
       "    <tr style=\"text-align: right;\">\n",
       "      <th></th>\n",
       "      <th>name</th>\n",
       "      <th>age</th>\n",
       "      <th>city</th>\n",
       "    </tr>\n",
       "  </thead>\n",
       "  <tbody>\n",
       "    <tr>\n",
       "      <th>0</th>\n",
       "      <td>Talha</td>\n",
       "      <td>20</td>\n",
       "      <td>Lahore</td>\n",
       "    </tr>\n",
       "    <tr>\n",
       "      <th>1</th>\n",
       "      <td>Talha</td>\n",
       "      <td>30</td>\n",
       "      <td>Lahore</td>\n",
       "    </tr>\n",
       "    <tr>\n",
       "      <th>2</th>\n",
       "      <td>Talha</td>\n",
       "      <td>40</td>\n",
       "      <td>Lahore</td>\n",
       "    </tr>\n",
       "    <tr>\n",
       "      <th>3</th>\n",
       "      <td>Qasim</td>\n",
       "      <td>18</td>\n",
       "      <td>isl</td>\n",
       "    </tr>\n",
       "    <tr>\n",
       "      <th>4</th>\n",
       "      <td>Hammad</td>\n",
       "      <td>19</td>\n",
       "      <td>Karachi</td>\n",
       "    </tr>\n",
       "  </tbody>\n",
       "</table>\n",
       "</div>"
      ],
      "text/plain": [
       "     name  age     city\n",
       "0   Talha   20   Lahore\n",
       "1   Talha   30   Lahore\n",
       "2   Talha   40   Lahore\n",
       "3   Qasim   18      isl\n",
       "4  Hammad   19  Karachi"
      ]
     },
     "execution_count": 27,
     "metadata": {},
     "output_type": "execute_result"
    }
   ],
   "source": [
    "data.drop_duplicates(keep = False)"
   ]
  },
  {
   "cell_type": "markdown",
   "id": "a18c2f1d-61ae-4710-94d8-96fc81a843f6",
   "metadata": {},
   "source": [
    "- How do you replace a specific values in a dataframe with another value and nan."
   ]
  },
  {
   "cell_type": "code",
   "execution_count": 28,
   "id": "fba853e4-90f1-49ee-a087-559b493ebd49",
   "metadata": {},
   "outputs": [
    {
     "data": {
      "text/html": [
       "<div>\n",
       "<style scoped>\n",
       "    .dataframe tbody tr th:only-of-type {\n",
       "        vertical-align: middle;\n",
       "    }\n",
       "\n",
       "    .dataframe tbody tr th {\n",
       "        vertical-align: top;\n",
       "    }\n",
       "\n",
       "    .dataframe thead th {\n",
       "        text-align: right;\n",
       "    }\n",
       "</style>\n",
       "<table border=\"1\" class=\"dataframe\">\n",
       "  <thead>\n",
       "    <tr style=\"text-align: right;\">\n",
       "      <th></th>\n",
       "      <th>name</th>\n",
       "      <th>age</th>\n",
       "    </tr>\n",
       "  </thead>\n",
       "  <tbody>\n",
       "    <tr>\n",
       "      <th>0</th>\n",
       "      <td>Talha</td>\n",
       "      <td>20</td>\n",
       "    </tr>\n",
       "    <tr>\n",
       "      <th>1</th>\n",
       "      <td>Qasim</td>\n",
       "      <td>15</td>\n",
       "    </tr>\n",
       "    <tr>\n",
       "      <th>2</th>\n",
       "      <td>Maryam</td>\n",
       "      <td>20</td>\n",
       "    </tr>\n",
       "  </tbody>\n",
       "</table>\n",
       "</div>"
      ],
      "text/plain": [
       "     name  age\n",
       "0   Talha   20\n",
       "1   Qasim   15\n",
       "2  Maryam   20"
      ]
     },
     "execution_count": 28,
     "metadata": {},
     "output_type": "execute_result"
    }
   ],
   "source": [
    "data = pd.DataFrame({\n",
    "    'name': ['Talha', 'Qasim', 'Maryam'],\n",
    "    'age': [20, 15, 20]\n",
    "})\n",
    "data"
   ]
  },
  {
   "cell_type": "code",
   "execution_count": 29,
   "id": "84456905-8320-49d7-aaa9-2aa298e9d82f",
   "metadata": {},
   "outputs": [
    {
     "data": {
      "text/html": [
       "<div>\n",
       "<style scoped>\n",
       "    .dataframe tbody tr th:only-of-type {\n",
       "        vertical-align: middle;\n",
       "    }\n",
       "\n",
       "    .dataframe tbody tr th {\n",
       "        vertical-align: top;\n",
       "    }\n",
       "\n",
       "    .dataframe thead th {\n",
       "        text-align: right;\n",
       "    }\n",
       "</style>\n",
       "<table border=\"1\" class=\"dataframe\">\n",
       "  <thead>\n",
       "    <tr style=\"text-align: right;\">\n",
       "      <th></th>\n",
       "      <th>name</th>\n",
       "      <th>age</th>\n",
       "    </tr>\n",
       "  </thead>\n",
       "  <tbody>\n",
       "    <tr>\n",
       "      <th>0</th>\n",
       "      <td>Talha</td>\n",
       "      <td>20</td>\n",
       "    </tr>\n",
       "    <tr>\n",
       "      <th>1</th>\n",
       "      <td>Qasim</td>\n",
       "      <td>nan</td>\n",
       "    </tr>\n",
       "    <tr>\n",
       "      <th>2</th>\n",
       "      <td>Maryam</td>\n",
       "      <td>20</td>\n",
       "    </tr>\n",
       "  </tbody>\n",
       "</table>\n",
       "</div>"
      ],
      "text/plain": [
       "     name  age\n",
       "0   Talha   20\n",
       "1   Qasim  nan\n",
       "2  Maryam   20"
      ]
     },
     "execution_count": 29,
     "metadata": {},
     "output_type": "execute_result"
    }
   ],
   "source": [
    "data['age'] = data['age'].replace(15, 'nan')\n",
    "data"
   ]
  },
  {
   "cell_type": "code",
   "execution_count": 30,
   "id": "48756f20-dcfa-4e8d-9054-85325b713681",
   "metadata": {},
   "outputs": [
    {
     "data": {
      "text/html": [
       "<div>\n",
       "<style scoped>\n",
       "    .dataframe tbody tr th:only-of-type {\n",
       "        vertical-align: middle;\n",
       "    }\n",
       "\n",
       "    .dataframe tbody tr th {\n",
       "        vertical-align: top;\n",
       "    }\n",
       "\n",
       "    .dataframe thead th {\n",
       "        text-align: right;\n",
       "    }\n",
       "</style>\n",
       "<table border=\"1\" class=\"dataframe\">\n",
       "  <thead>\n",
       "    <tr style=\"text-align: right;\">\n",
       "      <th></th>\n",
       "      <th>name</th>\n",
       "      <th>age</th>\n",
       "    </tr>\n",
       "  </thead>\n",
       "  <tbody>\n",
       "    <tr>\n",
       "      <th>0</th>\n",
       "      <td>Talha</td>\n",
       "      <td>21</td>\n",
       "    </tr>\n",
       "    <tr>\n",
       "      <th>1</th>\n",
       "      <td>Qasim</td>\n",
       "      <td>nan</td>\n",
       "    </tr>\n",
       "    <tr>\n",
       "      <th>2</th>\n",
       "      <td>Maryam</td>\n",
       "      <td>21</td>\n",
       "    </tr>\n",
       "  </tbody>\n",
       "</table>\n",
       "</div>"
      ],
      "text/plain": [
       "     name  age\n",
       "0   Talha   21\n",
       "1   Qasim  nan\n",
       "2  Maryam   21"
      ]
     },
     "execution_count": 30,
     "metadata": {},
     "output_type": "execute_result"
    }
   ],
   "source": [
    "data['age'] = data['age'].replace({15: 16, 20: 21})\n",
    "data"
   ]
  },
  {
   "cell_type": "code",
   "execution_count": 31,
   "id": "6d0fc712-ee25-4f2e-9c82-8157becdffb4",
   "metadata": {},
   "outputs": [
    {
     "data": {
      "text/html": [
       "<div>\n",
       "<style scoped>\n",
       "    .dataframe tbody tr th:only-of-type {\n",
       "        vertical-align: middle;\n",
       "    }\n",
       "\n",
       "    .dataframe tbody tr th {\n",
       "        vertical-align: top;\n",
       "    }\n",
       "\n",
       "    .dataframe thead th {\n",
       "        text-align: right;\n",
       "    }\n",
       "</style>\n",
       "<table border=\"1\" class=\"dataframe\">\n",
       "  <thead>\n",
       "    <tr style=\"text-align: right;\">\n",
       "      <th></th>\n",
       "      <th>name</th>\n",
       "      <th>age</th>\n",
       "    </tr>\n",
       "  </thead>\n",
       "  <tbody>\n",
       "    <tr>\n",
       "      <th>0</th>\n",
       "      <td>Talha</td>\n",
       "      <td>20</td>\n",
       "    </tr>\n",
       "    <tr>\n",
       "      <th>1</th>\n",
       "      <td>Qasim</td>\n",
       "      <td>nan</td>\n",
       "    </tr>\n",
       "    <tr>\n",
       "      <th>2</th>\n",
       "      <td>Maryam</td>\n",
       "      <td>21</td>\n",
       "    </tr>\n",
       "  </tbody>\n",
       "</table>\n",
       "</div>"
      ],
      "text/plain": [
       "     name  age\n",
       "0   Talha   20\n",
       "1   Qasim  nan\n",
       "2  Maryam   21"
      ]
     },
     "execution_count": 31,
     "metadata": {},
     "output_type": "execute_result"
    }
   ],
   "source": [
    "# conditional replacement with .loc\n",
    "data.loc [data['name'] == 'Talha', 'age'] = 20\n",
    "data"
   ]
  },
  {
   "cell_type": "markdown",
   "id": "83862d29-82cf-4eb3-95bb-b4a43cb9f935",
   "metadata": {},
   "source": [
    "- How do you use str method to manipulate string data in a DataFrame column"
   ]
  },
  {
   "cell_type": "code",
   "execution_count": 32,
   "id": "0a8324e3-b8c9-4ff5-87ce-c3f0fe9dbfb1",
   "metadata": {},
   "outputs": [
    {
     "data": {
      "text/html": [
       "<div>\n",
       "<style scoped>\n",
       "    .dataframe tbody tr th:only-of-type {\n",
       "        vertical-align: middle;\n",
       "    }\n",
       "\n",
       "    .dataframe tbody tr th {\n",
       "        vertical-align: top;\n",
       "    }\n",
       "\n",
       "    .dataframe thead th {\n",
       "        text-align: right;\n",
       "    }\n",
       "</style>\n",
       "<table border=\"1\" class=\"dataframe\">\n",
       "  <thead>\n",
       "    <tr style=\"text-align: right;\">\n",
       "      <th></th>\n",
       "      <th>name</th>\n",
       "    </tr>\n",
       "  </thead>\n",
       "  <tbody>\n",
       "    <tr>\n",
       "      <th>0</th>\n",
       "      <td>Talha</td>\n",
       "    </tr>\n",
       "    <tr>\n",
       "      <th>1</th>\n",
       "      <td>Maryam</td>\n",
       "    </tr>\n",
       "    <tr>\n",
       "      <th>2</th>\n",
       "      <td>Qasim</td>\n",
       "    </tr>\n",
       "  </tbody>\n",
       "</table>\n",
       "</div>"
      ],
      "text/plain": [
       "     name\n",
       "0   Talha\n",
       "1  Maryam\n",
       "2   Qasim"
      ]
     },
     "execution_count": 32,
     "metadata": {},
     "output_type": "execute_result"
    }
   ],
   "source": [
    "data = pd.DataFrame({\n",
    "    'name': ['Talha', 'Maryam', 'Qasim']\n",
    "})\n",
    "data"
   ]
  },
  {
   "cell_type": "code",
   "execution_count": 33,
   "id": "e9abba9f-0642-4135-9891-eebd1611e8ae",
   "metadata": {},
   "outputs": [
    {
     "data": {
      "text/plain": [
       "0     TALHA\n",
       "1    MARYAM\n",
       "2     QASIM\n",
       "Name: name, dtype: object"
      ]
     },
     "execution_count": 33,
     "metadata": {},
     "output_type": "execute_result"
    }
   ],
   "source": [
    "data['name'].str.upper()"
   ]
  },
  {
   "cell_type": "code",
   "execution_count": 34,
   "id": "c9c80147-32ee-4b78-8c4f-47a91df774b0",
   "metadata": {},
   "outputs": [
    {
     "data": {
      "text/plain": [
       "0     talha\n",
       "1    maryam\n",
       "2     qasim\n",
       "Name: name, dtype: object"
      ]
     },
     "execution_count": 34,
     "metadata": {},
     "output_type": "execute_result"
    }
   ],
   "source": [
    "data['name'].str.lower()"
   ]
  },
  {
   "cell_type": "code",
   "execution_count": 35,
   "id": "a5aead98-0742-4586-8b5f-7ddcb5c95188",
   "metadata": {},
   "outputs": [
    {
     "data": {
      "text/plain": [
       "0     Talha\n",
       "1    Maryam\n",
       "2     Qasim\n",
       "Name: name, dtype: object"
      ]
     },
     "execution_count": 35,
     "metadata": {},
     "output_type": "execute_result"
    }
   ],
   "source": [
    "data['name'].str.title()"
   ]
  },
  {
   "cell_type": "code",
   "execution_count": 36,
   "id": "909b51c0-073f-4575-b722-7308a1bf8f27",
   "metadata": {},
   "outputs": [
    {
     "data": {
      "text/plain": [
       "0     Talha\n",
       "1    Maryam\n",
       "2     Qasim\n",
       "Name: name, dtype: object"
      ]
     },
     "execution_count": 36,
     "metadata": {},
     "output_type": "execute_result"
    }
   ],
   "source": [
    "data['name'].str.strip()    # Remove spaces at start & end\n",
    "data['name'].str.lstrip()   # Remove left spaces\n",
    "data['name'].str.rstrip()   # Remove right spaces"
   ]
  },
  {
   "cell_type": "code",
   "execution_count": 37,
   "id": "d52a3125-9ec2-484b-b226-dd0fdd317e3b",
   "metadata": {},
   "outputs": [
    {
     "data": {
      "text/plain": [
       "0     Talha\n",
       "1    Maryam\n",
       "2     Arham\n",
       "Name: name, dtype: object"
      ]
     },
     "execution_count": 37,
     "metadata": {},
     "output_type": "execute_result"
    }
   ],
   "source": [
    "data['name'].str.replace('Qasim', 'Arham')"
   ]
  },
  {
   "cell_type": "code",
   "execution_count": 38,
   "id": "db439698-9149-4120-9331-7f7656913fdf",
   "metadata": {},
   "outputs": [
    {
     "data": {
      "text/plain": [
       "0    Tal\n",
       "1    Mar\n",
       "2    Qas\n",
       "Name: name, dtype: object"
      ]
     },
     "execution_count": 38,
     "metadata": {},
     "output_type": "execute_result"
    }
   ],
   "source": [
    "# Extracting Substrings\n",
    "data['name'].str[:3]"
   ]
  },
  {
   "cell_type": "markdown",
   "id": "53023651-75c9-4100-95ea-8ca991cfee37",
   "metadata": {},
   "source": [
    "- How do you parse dates when reading a CSV file into a DataFrame."
   ]
  },
  {
   "cell_type": "code",
   "execution_count": 39,
   "id": "9ec87615-bd9b-4081-ae37-19ef6dc71350",
   "metadata": {},
   "outputs": [],
   "source": [
    "data = pd.read_csv('data.csv')"
   ]
  },
  {
   "cell_type": "code",
   "execution_count": 40,
   "id": "6e38ed59-5b05-4522-9ede-fbd658f89098",
   "metadata": {},
   "outputs": [
    {
     "name": "stdout",
     "output_type": "stream",
     "text": [
      "Index                 int64\n",
      "Customer Id          object\n",
      "First Name           object\n",
      "Last Name            object\n",
      "Company              object\n",
      "City                 object\n",
      "Country              object\n",
      "Phone 1              object\n",
      "Phone 2              object\n",
      "Email                object\n",
      "Subscription Date    object\n",
      "Website              object\n",
      "Numeric_Column        int64\n",
      "dtype: object\n"
     ]
    }
   ],
   "source": [
    "print(data.dtypes)"
   ]
  },
  {
   "cell_type": "code",
   "execution_count": 41,
   "id": "4bac99a3-038b-4912-bc9e-abe7b957a62d",
   "metadata": {},
   "outputs": [
    {
     "name": "stdout",
     "output_type": "stream",
     "text": [
      "Index                         int64\n",
      "Customer Id                  object\n",
      "First Name                   object\n",
      "Last Name                    object\n",
      "Company                      object\n",
      "City                         object\n",
      "Country                      object\n",
      "Phone 1                      object\n",
      "Phone 2                      object\n",
      "Email                        object\n",
      "Subscription Date    datetime64[ns]\n",
      "Website                      object\n",
      "Numeric_Column                int64\n",
      "dtype: object\n"
     ]
    }
   ],
   "source": [
    "data = pd.read_csv('data.csv', parse_dates = ['Subscription Date'], dayfirst=True)\n",
    "print(data.dtypes)"
   ]
  },
  {
   "cell_type": "markdown",
   "id": "85879eca-21e0-4a8d-803d-1b61bbd1f6e2",
   "metadata": {},
   "source": [
    " - How do you convert a column to a day time type and extract componenets like year or date."
   ]
  },
  {
   "cell_type": "code",
   "execution_count": 42,
   "id": "1dd93124-12f0-44b9-8e40-d1170e8e7ab9",
   "metadata": {},
   "outputs": [
    {
     "data": {
      "text/html": [
       "<div>\n",
       "<style scoped>\n",
       "    .dataframe tbody tr th:only-of-type {\n",
       "        vertical-align: middle;\n",
       "    }\n",
       "\n",
       "    .dataframe tbody tr th {\n",
       "        vertical-align: top;\n",
       "    }\n",
       "\n",
       "    .dataframe thead th {\n",
       "        text-align: right;\n",
       "    }\n",
       "</style>\n",
       "<table border=\"1\" class=\"dataframe\">\n",
       "  <thead>\n",
       "    <tr style=\"text-align: right;\">\n",
       "      <th></th>\n",
       "      <th>Index</th>\n",
       "      <th>Customer Id</th>\n",
       "      <th>First Name</th>\n",
       "      <th>Last Name</th>\n",
       "      <th>Company</th>\n",
       "      <th>City</th>\n",
       "      <th>Country</th>\n",
       "      <th>Phone 1</th>\n",
       "      <th>Phone 2</th>\n",
       "      <th>Email</th>\n",
       "      <th>Subscription Date</th>\n",
       "      <th>Website</th>\n",
       "      <th>Numeric_Column</th>\n",
       "    </tr>\n",
       "  </thead>\n",
       "  <tbody>\n",
       "    <tr>\n",
       "      <th>0</th>\n",
       "      <td>1</td>\n",
       "      <td>DD37Cf93aecA6Dc</td>\n",
       "      <td>Sheryl</td>\n",
       "      <td>Baxter</td>\n",
       "      <td>Rasmussen Group</td>\n",
       "      <td>East Leonard</td>\n",
       "      <td>Chile</td>\n",
       "      <td>229.077.5154</td>\n",
       "      <td>397.884.0519x718</td>\n",
       "      <td>zunigavanessa@smith.info</td>\n",
       "      <td>2020-08-24</td>\n",
       "      <td>http://www.stephenson.com/</td>\n",
       "      <td>58</td>\n",
       "    </tr>\n",
       "    <tr>\n",
       "      <th>1</th>\n",
       "      <td>2</td>\n",
       "      <td>1Ef7b82A4CAAD10</td>\n",
       "      <td>Preston</td>\n",
       "      <td>Lozano</td>\n",
       "      <td>Vega-Gentry</td>\n",
       "      <td>East Jimmychester</td>\n",
       "      <td>Djibouti</td>\n",
       "      <td>5153435776</td>\n",
       "      <td>686-620-1820x944</td>\n",
       "      <td>vmata@colon.com</td>\n",
       "      <td>2021-04-23</td>\n",
       "      <td>http://www.hobbs.com/</td>\n",
       "      <td>62</td>\n",
       "    </tr>\n",
       "    <tr>\n",
       "      <th>2</th>\n",
       "      <td>3</td>\n",
       "      <td>6F94879bDAfE5a6</td>\n",
       "      <td>Roy</td>\n",
       "      <td>Berry</td>\n",
       "      <td>Murillo-Perry</td>\n",
       "      <td>Isabelborough</td>\n",
       "      <td>Antigua and Barbuda</td>\n",
       "      <td>-1199</td>\n",
       "      <td>(496)978-3969x58947</td>\n",
       "      <td>beckycarr@hogan.com</td>\n",
       "      <td>2020-03-25</td>\n",
       "      <td>http://www.lawrence.com/</td>\n",
       "      <td>91</td>\n",
       "    </tr>\n",
       "    <tr>\n",
       "      <th>3</th>\n",
       "      <td>4</td>\n",
       "      <td>5Cef8BFA16c5e3c</td>\n",
       "      <td>Linda</td>\n",
       "      <td>Olsen</td>\n",
       "      <td>Dominguez, Mcmillan and Donovan</td>\n",
       "      <td>Bensonview</td>\n",
       "      <td>Dominican Republic</td>\n",
       "      <td>001-808-617-6467x12895</td>\n",
       "      <td>-9892</td>\n",
       "      <td>stanleyblackwell@benson.org</td>\n",
       "      <td>2020-06-02</td>\n",
       "      <td>http://www.good-lyons.com/</td>\n",
       "      <td>41</td>\n",
       "    </tr>\n",
       "    <tr>\n",
       "      <th>4</th>\n",
       "      <td>5</td>\n",
       "      <td>053d585Ab6b3159</td>\n",
       "      <td>Joanna</td>\n",
       "      <td>Bender</td>\n",
       "      <td>Martin, Lang and Andrade</td>\n",
       "      <td>West Priscilla</td>\n",
       "      <td>Slovakia (Slovak Republic)</td>\n",
       "      <td>001-234-203-0635x76146</td>\n",
       "      <td>001-199-446-3860x3486</td>\n",
       "      <td>colinalvarado@miles.net</td>\n",
       "      <td>2021-04-17</td>\n",
       "      <td>https://goodwin-ingram.com/</td>\n",
       "      <td>50</td>\n",
       "    </tr>\n",
       "    <tr>\n",
       "      <th>...</th>\n",
       "      <td>...</td>\n",
       "      <td>...</td>\n",
       "      <td>...</td>\n",
       "      <td>...</td>\n",
       "      <td>...</td>\n",
       "      <td>...</td>\n",
       "      <td>...</td>\n",
       "      <td>...</td>\n",
       "      <td>...</td>\n",
       "      <td>...</td>\n",
       "      <td>...</td>\n",
       "      <td>...</td>\n",
       "      <td>...</td>\n",
       "    </tr>\n",
       "    <tr>\n",
       "      <th>95</th>\n",
       "      <td>96</td>\n",
       "      <td>cb8E23e48d22Eae</td>\n",
       "      <td>Karl</td>\n",
       "      <td>Greer</td>\n",
       "      <td>Carey LLC</td>\n",
       "      <td>East Richard</td>\n",
       "      <td>Guyana</td>\n",
       "      <td>(188)169-1674x58692</td>\n",
       "      <td>001-841-293-3519x614</td>\n",
       "      <td>hhart@jensen.com</td>\n",
       "      <td>2022-01-30</td>\n",
       "      <td>http://hayes-perez.com/</td>\n",
       "      <td>20</td>\n",
       "    </tr>\n",
       "    <tr>\n",
       "      <th>96</th>\n",
       "      <td>97</td>\n",
       "      <td>CeD220bdAaCfaDf</td>\n",
       "      <td>Lynn</td>\n",
       "      <td>Atkinson</td>\n",
       "      <td>Ware, Burns and Oneal</td>\n",
       "      <td>New Bradview</td>\n",
       "      <td>Sri Lanka</td>\n",
       "      <td>-3769</td>\n",
       "      <td>605.413.3198</td>\n",
       "      <td>vkemp@ferrell.com</td>\n",
       "      <td>2021-07-10</td>\n",
       "      <td>https://novak-allison.com/</td>\n",
       "      <td>64</td>\n",
       "    </tr>\n",
       "    <tr>\n",
       "      <th>97</th>\n",
       "      <td>98</td>\n",
       "      <td>28CDbC0dFe4b1Db</td>\n",
       "      <td>Fred</td>\n",
       "      <td>Guerra</td>\n",
       "      <td>Schmitt-Jones</td>\n",
       "      <td>Ortegaland</td>\n",
       "      <td>Solomon Islands</td>\n",
       "      <td>+1-753-067-8419x7170</td>\n",
       "      <td>+1-632-666-7507x92121</td>\n",
       "      <td>swagner@kane.org</td>\n",
       "      <td>2021-09-18</td>\n",
       "      <td>https://www.ross.com/</td>\n",
       "      <td>83</td>\n",
       "    </tr>\n",
       "    <tr>\n",
       "      <th>98</th>\n",
       "      <td>99</td>\n",
       "      <td>c23d1D9EE8DEB0A</td>\n",
       "      <td>Yvonne</td>\n",
       "      <td>Farmer</td>\n",
       "      <td>Fitzgerald-Harrell</td>\n",
       "      <td>Lake Elijahview</td>\n",
       "      <td>Aruba</td>\n",
       "      <td>(530)311-9786</td>\n",
       "      <td>001-869-452-0943x12424</td>\n",
       "      <td>mccarthystephen@horn-green.biz</td>\n",
       "      <td>2021-08-11</td>\n",
       "      <td>http://watkins.info/</td>\n",
       "      <td>10</td>\n",
       "    </tr>\n",
       "    <tr>\n",
       "      <th>99</th>\n",
       "      <td>100</td>\n",
       "      <td>2354a0E336A91A1</td>\n",
       "      <td>Clarence</td>\n",
       "      <td>Haynes</td>\n",
       "      <td>Le, Nash and Cross</td>\n",
       "      <td>Judymouth</td>\n",
       "      <td>Honduras</td>\n",
       "      <td>(753)813-6941</td>\n",
       "      <td>783.639.1472</td>\n",
       "      <td>colleen91@faulkner.biz</td>\n",
       "      <td>2020-03-11</td>\n",
       "      <td>http://www.hatfield-saunders.net/</td>\n",
       "      <td>98</td>\n",
       "    </tr>\n",
       "  </tbody>\n",
       "</table>\n",
       "<p>100 rows × 13 columns</p>\n",
       "</div>"
      ],
      "text/plain": [
       "    Index      Customer Id First Name Last Name  \\\n",
       "0       1  DD37Cf93aecA6Dc     Sheryl    Baxter   \n",
       "1       2  1Ef7b82A4CAAD10    Preston    Lozano   \n",
       "2       3  6F94879bDAfE5a6        Roy     Berry   \n",
       "3       4  5Cef8BFA16c5e3c      Linda     Olsen   \n",
       "4       5  053d585Ab6b3159     Joanna    Bender   \n",
       "..    ...              ...        ...       ...   \n",
       "95     96  cb8E23e48d22Eae       Karl     Greer   \n",
       "96     97  CeD220bdAaCfaDf       Lynn  Atkinson   \n",
       "97     98  28CDbC0dFe4b1Db       Fred    Guerra   \n",
       "98     99  c23d1D9EE8DEB0A     Yvonne    Farmer   \n",
       "99    100  2354a0E336A91A1   Clarence    Haynes   \n",
       "\n",
       "                            Company               City  \\\n",
       "0                   Rasmussen Group       East Leonard   \n",
       "1                       Vega-Gentry  East Jimmychester   \n",
       "2                     Murillo-Perry      Isabelborough   \n",
       "3   Dominguez, Mcmillan and Donovan         Bensonview   \n",
       "4          Martin, Lang and Andrade     West Priscilla   \n",
       "..                              ...                ...   \n",
       "95                        Carey LLC       East Richard   \n",
       "96            Ware, Burns and Oneal       New Bradview   \n",
       "97                    Schmitt-Jones         Ortegaland   \n",
       "98               Fitzgerald-Harrell    Lake Elijahview   \n",
       "99               Le, Nash and Cross          Judymouth   \n",
       "\n",
       "                       Country                 Phone 1  \\\n",
       "0                        Chile            229.077.5154   \n",
       "1                     Djibouti              5153435776   \n",
       "2          Antigua and Barbuda                   -1199   \n",
       "3           Dominican Republic  001-808-617-6467x12895   \n",
       "4   Slovakia (Slovak Republic)  001-234-203-0635x76146   \n",
       "..                         ...                     ...   \n",
       "95                      Guyana     (188)169-1674x58692   \n",
       "96                   Sri Lanka                   -3769   \n",
       "97             Solomon Islands    +1-753-067-8419x7170   \n",
       "98                       Aruba           (530)311-9786   \n",
       "99                    Honduras           (753)813-6941   \n",
       "\n",
       "                   Phone 2                           Email Subscription Date  \\\n",
       "0         397.884.0519x718        zunigavanessa@smith.info        2020-08-24   \n",
       "1         686-620-1820x944                 vmata@colon.com        2021-04-23   \n",
       "2      (496)978-3969x58947             beckycarr@hogan.com        2020-03-25   \n",
       "3                    -9892     stanleyblackwell@benson.org        2020-06-02   \n",
       "4    001-199-446-3860x3486         colinalvarado@miles.net        2021-04-17   \n",
       "..                     ...                             ...               ...   \n",
       "95    001-841-293-3519x614                hhart@jensen.com        2022-01-30   \n",
       "96            605.413.3198               vkemp@ferrell.com        2021-07-10   \n",
       "97   +1-632-666-7507x92121                swagner@kane.org        2021-09-18   \n",
       "98  001-869-452-0943x12424  mccarthystephen@horn-green.biz        2021-08-11   \n",
       "99            783.639.1472          colleen91@faulkner.biz        2020-03-11   \n",
       "\n",
       "                              Website  Numeric_Column  \n",
       "0          http://www.stephenson.com/              58  \n",
       "1               http://www.hobbs.com/              62  \n",
       "2            http://www.lawrence.com/              91  \n",
       "3          http://www.good-lyons.com/              41  \n",
       "4         https://goodwin-ingram.com/              50  \n",
       "..                                ...             ...  \n",
       "95            http://hayes-perez.com/              20  \n",
       "96         https://novak-allison.com/              64  \n",
       "97              https://www.ross.com/              83  \n",
       "98               http://watkins.info/              10  \n",
       "99  http://www.hatfield-saunders.net/              98  \n",
       "\n",
       "[100 rows x 13 columns]"
      ]
     },
     "execution_count": 42,
     "metadata": {},
     "output_type": "execute_result"
    }
   ],
   "source": [
    "data = pd.read_csv('data.csv', parse_dates = ['Subscription Date'], dayfirst = True)\n",
    "data"
   ]
  },
  {
   "cell_type": "code",
   "execution_count": 43,
   "id": "f9b42687-4bdc-4d33-842f-a0cfe93af57e",
   "metadata": {},
   "outputs": [
    {
     "data": {
      "text/plain": [
       "0     2020\n",
       "1     2021\n",
       "2     2020\n",
       "3     2020\n",
       "4     2021\n",
       "      ... \n",
       "95    2022\n",
       "96    2021\n",
       "97    2021\n",
       "98    2021\n",
       "99    2020\n",
       "Name: Year, Length: 100, dtype: int32"
      ]
     },
     "execution_count": 43,
     "metadata": {},
     "output_type": "execute_result"
    }
   ],
   "source": [
    "# pandas gives you a special accessor .dt → it allows you to extract different components of the datetime.\n",
    "data[\"Year\"] = data[\"Subscription Date\"].dt.year\n",
    "data[\"Year\"]"
   ]
  },
  {
   "cell_type": "code",
   "execution_count": 44,
   "id": "3da78497-498f-48b9-9061-4fbd808ec426",
   "metadata": {},
   "outputs": [
    {
     "name": "stdout",
     "output_type": "stream",
     "text": [
      "0     8\n",
      "1     4\n",
      "2     3\n",
      "3     6\n",
      "4     4\n",
      "     ..\n",
      "95    1\n",
      "96    7\n",
      "97    9\n",
      "98    8\n",
      "99    3\n",
      "Name: Month, Length: 100, dtype: int32\n"
     ]
    }
   ],
   "source": [
    "data[\"Month\"] = data[\"Subscription Date\"].dt.month\n",
    "print(data[\"Month\"])"
   ]
  },
  {
   "cell_type": "markdown",
   "id": "44d83f98-60c8-4609-ac35-3b62cdc486a8",
   "metadata": {},
   "source": [
    " - How do you filter a dataframe based on a date range."
   ]
  },
  {
   "cell_type": "code",
   "execution_count": 45,
   "id": "cf971bba-6c6d-4aa7-9380-3ad673801b4a",
   "metadata": {},
   "outputs": [
    {
     "data": {
      "text/html": [
       "<div>\n",
       "<style scoped>\n",
       "    .dataframe tbody tr th:only-of-type {\n",
       "        vertical-align: middle;\n",
       "    }\n",
       "\n",
       "    .dataframe tbody tr th {\n",
       "        vertical-align: top;\n",
       "    }\n",
       "\n",
       "    .dataframe thead th {\n",
       "        text-align: right;\n",
       "    }\n",
       "</style>\n",
       "<table border=\"1\" class=\"dataframe\">\n",
       "  <thead>\n",
       "    <tr style=\"text-align: right;\">\n",
       "      <th></th>\n",
       "      <th>Index</th>\n",
       "      <th>Customer Id</th>\n",
       "      <th>First Name</th>\n",
       "      <th>Last Name</th>\n",
       "      <th>Company</th>\n",
       "      <th>City</th>\n",
       "      <th>Country</th>\n",
       "      <th>Phone 1</th>\n",
       "      <th>Phone 2</th>\n",
       "      <th>Email</th>\n",
       "      <th>Subscription Date</th>\n",
       "      <th>Website</th>\n",
       "      <th>Numeric_Column</th>\n",
       "    </tr>\n",
       "  </thead>\n",
       "  <tbody>\n",
       "    <tr>\n",
       "      <th>0</th>\n",
       "      <td>1</td>\n",
       "      <td>DD37Cf93aecA6Dc</td>\n",
       "      <td>Sheryl</td>\n",
       "      <td>Baxter</td>\n",
       "      <td>Rasmussen Group</td>\n",
       "      <td>East Leonard</td>\n",
       "      <td>Chile</td>\n",
       "      <td>229.077.5154</td>\n",
       "      <td>397.884.0519x718</td>\n",
       "      <td>zunigavanessa@smith.info</td>\n",
       "      <td>2020-08-24</td>\n",
       "      <td>http://www.stephenson.com/</td>\n",
       "      <td>58</td>\n",
       "    </tr>\n",
       "    <tr>\n",
       "      <th>1</th>\n",
       "      <td>2</td>\n",
       "      <td>1Ef7b82A4CAAD10</td>\n",
       "      <td>Preston</td>\n",
       "      <td>Lozano</td>\n",
       "      <td>Vega-Gentry</td>\n",
       "      <td>East Jimmychester</td>\n",
       "      <td>Djibouti</td>\n",
       "      <td>5153435776</td>\n",
       "      <td>686-620-1820x944</td>\n",
       "      <td>vmata@colon.com</td>\n",
       "      <td>2021-04-23</td>\n",
       "      <td>http://www.hobbs.com/</td>\n",
       "      <td>62</td>\n",
       "    </tr>\n",
       "    <tr>\n",
       "      <th>2</th>\n",
       "      <td>3</td>\n",
       "      <td>6F94879bDAfE5a6</td>\n",
       "      <td>Roy</td>\n",
       "      <td>Berry</td>\n",
       "      <td>Murillo-Perry</td>\n",
       "      <td>Isabelborough</td>\n",
       "      <td>Antigua and Barbuda</td>\n",
       "      <td>-1199</td>\n",
       "      <td>(496)978-3969x58947</td>\n",
       "      <td>beckycarr@hogan.com</td>\n",
       "      <td>2020-03-25</td>\n",
       "      <td>http://www.lawrence.com/</td>\n",
       "      <td>91</td>\n",
       "    </tr>\n",
       "    <tr>\n",
       "      <th>3</th>\n",
       "      <td>4</td>\n",
       "      <td>5Cef8BFA16c5e3c</td>\n",
       "      <td>Linda</td>\n",
       "      <td>Olsen</td>\n",
       "      <td>Dominguez, Mcmillan and Donovan</td>\n",
       "      <td>Bensonview</td>\n",
       "      <td>Dominican Republic</td>\n",
       "      <td>001-808-617-6467x12895</td>\n",
       "      <td>-9892</td>\n",
       "      <td>stanleyblackwell@benson.org</td>\n",
       "      <td>2020-06-02</td>\n",
       "      <td>http://www.good-lyons.com/</td>\n",
       "      <td>41</td>\n",
       "    </tr>\n",
       "    <tr>\n",
       "      <th>4</th>\n",
       "      <td>5</td>\n",
       "      <td>053d585Ab6b3159</td>\n",
       "      <td>Joanna</td>\n",
       "      <td>Bender</td>\n",
       "      <td>Martin, Lang and Andrade</td>\n",
       "      <td>West Priscilla</td>\n",
       "      <td>Slovakia (Slovak Republic)</td>\n",
       "      <td>001-234-203-0635x76146</td>\n",
       "      <td>001-199-446-3860x3486</td>\n",
       "      <td>colinalvarado@miles.net</td>\n",
       "      <td>2021-04-17</td>\n",
       "      <td>https://goodwin-ingram.com/</td>\n",
       "      <td>50</td>\n",
       "    </tr>\n",
       "    <tr>\n",
       "      <th>...</th>\n",
       "      <td>...</td>\n",
       "      <td>...</td>\n",
       "      <td>...</td>\n",
       "      <td>...</td>\n",
       "      <td>...</td>\n",
       "      <td>...</td>\n",
       "      <td>...</td>\n",
       "      <td>...</td>\n",
       "      <td>...</td>\n",
       "      <td>...</td>\n",
       "      <td>...</td>\n",
       "      <td>...</td>\n",
       "      <td>...</td>\n",
       "    </tr>\n",
       "    <tr>\n",
       "      <th>95</th>\n",
       "      <td>96</td>\n",
       "      <td>cb8E23e48d22Eae</td>\n",
       "      <td>Karl</td>\n",
       "      <td>Greer</td>\n",
       "      <td>Carey LLC</td>\n",
       "      <td>East Richard</td>\n",
       "      <td>Guyana</td>\n",
       "      <td>(188)169-1674x58692</td>\n",
       "      <td>001-841-293-3519x614</td>\n",
       "      <td>hhart@jensen.com</td>\n",
       "      <td>2022-01-30</td>\n",
       "      <td>http://hayes-perez.com/</td>\n",
       "      <td>20</td>\n",
       "    </tr>\n",
       "    <tr>\n",
       "      <th>96</th>\n",
       "      <td>97</td>\n",
       "      <td>CeD220bdAaCfaDf</td>\n",
       "      <td>Lynn</td>\n",
       "      <td>Atkinson</td>\n",
       "      <td>Ware, Burns and Oneal</td>\n",
       "      <td>New Bradview</td>\n",
       "      <td>Sri Lanka</td>\n",
       "      <td>-3769</td>\n",
       "      <td>605.413.3198</td>\n",
       "      <td>vkemp@ferrell.com</td>\n",
       "      <td>2021-07-10</td>\n",
       "      <td>https://novak-allison.com/</td>\n",
       "      <td>64</td>\n",
       "    </tr>\n",
       "    <tr>\n",
       "      <th>97</th>\n",
       "      <td>98</td>\n",
       "      <td>28CDbC0dFe4b1Db</td>\n",
       "      <td>Fred</td>\n",
       "      <td>Guerra</td>\n",
       "      <td>Schmitt-Jones</td>\n",
       "      <td>Ortegaland</td>\n",
       "      <td>Solomon Islands</td>\n",
       "      <td>+1-753-067-8419x7170</td>\n",
       "      <td>+1-632-666-7507x92121</td>\n",
       "      <td>swagner@kane.org</td>\n",
       "      <td>2021-09-18</td>\n",
       "      <td>https://www.ross.com/</td>\n",
       "      <td>83</td>\n",
       "    </tr>\n",
       "    <tr>\n",
       "      <th>98</th>\n",
       "      <td>99</td>\n",
       "      <td>c23d1D9EE8DEB0A</td>\n",
       "      <td>Yvonne</td>\n",
       "      <td>Farmer</td>\n",
       "      <td>Fitzgerald-Harrell</td>\n",
       "      <td>Lake Elijahview</td>\n",
       "      <td>Aruba</td>\n",
       "      <td>(530)311-9786</td>\n",
       "      <td>001-869-452-0943x12424</td>\n",
       "      <td>mccarthystephen@horn-green.biz</td>\n",
       "      <td>2021-08-11</td>\n",
       "      <td>http://watkins.info/</td>\n",
       "      <td>10</td>\n",
       "    </tr>\n",
       "    <tr>\n",
       "      <th>99</th>\n",
       "      <td>100</td>\n",
       "      <td>2354a0E336A91A1</td>\n",
       "      <td>Clarence</td>\n",
       "      <td>Haynes</td>\n",
       "      <td>Le, Nash and Cross</td>\n",
       "      <td>Judymouth</td>\n",
       "      <td>Honduras</td>\n",
       "      <td>(753)813-6941</td>\n",
       "      <td>783.639.1472</td>\n",
       "      <td>colleen91@faulkner.biz</td>\n",
       "      <td>2020-03-11</td>\n",
       "      <td>http://www.hatfield-saunders.net/</td>\n",
       "      <td>98</td>\n",
       "    </tr>\n",
       "  </tbody>\n",
       "</table>\n",
       "<p>100 rows × 13 columns</p>\n",
       "</div>"
      ],
      "text/plain": [
       "    Index      Customer Id First Name Last Name  \\\n",
       "0       1  DD37Cf93aecA6Dc     Sheryl    Baxter   \n",
       "1       2  1Ef7b82A4CAAD10    Preston    Lozano   \n",
       "2       3  6F94879bDAfE5a6        Roy     Berry   \n",
       "3       4  5Cef8BFA16c5e3c      Linda     Olsen   \n",
       "4       5  053d585Ab6b3159     Joanna    Bender   \n",
       "..    ...              ...        ...       ...   \n",
       "95     96  cb8E23e48d22Eae       Karl     Greer   \n",
       "96     97  CeD220bdAaCfaDf       Lynn  Atkinson   \n",
       "97     98  28CDbC0dFe4b1Db       Fred    Guerra   \n",
       "98     99  c23d1D9EE8DEB0A     Yvonne    Farmer   \n",
       "99    100  2354a0E336A91A1   Clarence    Haynes   \n",
       "\n",
       "                            Company               City  \\\n",
       "0                   Rasmussen Group       East Leonard   \n",
       "1                       Vega-Gentry  East Jimmychester   \n",
       "2                     Murillo-Perry      Isabelborough   \n",
       "3   Dominguez, Mcmillan and Donovan         Bensonview   \n",
       "4          Martin, Lang and Andrade     West Priscilla   \n",
       "..                              ...                ...   \n",
       "95                        Carey LLC       East Richard   \n",
       "96            Ware, Burns and Oneal       New Bradview   \n",
       "97                    Schmitt-Jones         Ortegaland   \n",
       "98               Fitzgerald-Harrell    Lake Elijahview   \n",
       "99               Le, Nash and Cross          Judymouth   \n",
       "\n",
       "                       Country                 Phone 1  \\\n",
       "0                        Chile            229.077.5154   \n",
       "1                     Djibouti              5153435776   \n",
       "2          Antigua and Barbuda                   -1199   \n",
       "3           Dominican Republic  001-808-617-6467x12895   \n",
       "4   Slovakia (Slovak Republic)  001-234-203-0635x76146   \n",
       "..                         ...                     ...   \n",
       "95                      Guyana     (188)169-1674x58692   \n",
       "96                   Sri Lanka                   -3769   \n",
       "97             Solomon Islands    +1-753-067-8419x7170   \n",
       "98                       Aruba           (530)311-9786   \n",
       "99                    Honduras           (753)813-6941   \n",
       "\n",
       "                   Phone 2                           Email Subscription Date  \\\n",
       "0         397.884.0519x718        zunigavanessa@smith.info        2020-08-24   \n",
       "1         686-620-1820x944                 vmata@colon.com        2021-04-23   \n",
       "2      (496)978-3969x58947             beckycarr@hogan.com        2020-03-25   \n",
       "3                    -9892     stanleyblackwell@benson.org        2020-06-02   \n",
       "4    001-199-446-3860x3486         colinalvarado@miles.net        2021-04-17   \n",
       "..                     ...                             ...               ...   \n",
       "95    001-841-293-3519x614                hhart@jensen.com        2022-01-30   \n",
       "96            605.413.3198               vkemp@ferrell.com        2021-07-10   \n",
       "97   +1-632-666-7507x92121                swagner@kane.org        2021-09-18   \n",
       "98  001-869-452-0943x12424  mccarthystephen@horn-green.biz        2021-08-11   \n",
       "99            783.639.1472          colleen91@faulkner.biz        2020-03-11   \n",
       "\n",
       "                              Website  Numeric_Column  \n",
       "0          http://www.stephenson.com/              58  \n",
       "1               http://www.hobbs.com/              62  \n",
       "2            http://www.lawrence.com/              91  \n",
       "3          http://www.good-lyons.com/              41  \n",
       "4         https://goodwin-ingram.com/              50  \n",
       "..                                ...             ...  \n",
       "95            http://hayes-perez.com/              20  \n",
       "96         https://novak-allison.com/              64  \n",
       "97              https://www.ross.com/              83  \n",
       "98               http://watkins.info/              10  \n",
       "99  http://www.hatfield-saunders.net/              98  \n",
       "\n",
       "[100 rows x 13 columns]"
      ]
     },
     "execution_count": 45,
     "metadata": {},
     "output_type": "execute_result"
    }
   ],
   "source": [
    "data = pd.read_csv('data.csv', parse_dates = ['Subscription Date'], dayfirst = True)\n",
    "data"
   ]
  },
  {
   "cell_type": "code",
   "execution_count": 46,
   "id": "2396b5e0-4fcb-4bad-838d-2f4eca6a9d6c",
   "metadata": {},
   "outputs": [
    {
     "name": "stdout",
     "output_type": "stream",
     "text": [
      "    Index      Customer Id First Name  Last Name  \\\n",
      "1       2  1Ef7b82A4CAAD10    Preston     Lozano   \n",
      "4       5  053d585Ab6b3159     Joanna     Bender   \n",
      "6       7  EA4d384DfDbBf77     Darren       Peck   \n",
      "9      10  8C2811a503C7c5a   Michelle  Gallagher   \n",
      "10     11  216E205d6eBb815       Carl  Schroeder   \n",
      "12     13  e35426EbDEceaFF     Tracey       Mata   \n",
      "14     15  6fEaA1b7cab7B6C      Faith       Lutz   \n",
      "19     20  0F60FF3DdCd7aB0     Joanna       Kirk   \n",
      "20     21  9F9AdB7B8A6f7F2    Maxwell       Frye   \n",
      "30     31  64DCcDFaB9DFd4e       Jack       Tate   \n",
      "31     32  679c6c83DD872d6        Tom   Trujillo   \n",
      "32     33  7Ce381e4Afa4ba9    Gabriel      Mejia   \n",
      "33     34  A09AEc6E3bF70eE    Kaitlyn    Santana   \n",
      "34     35  aA9BAFfBc3710fe      Faith       Moon   \n",
      "35     36  E11dfb2DB8C9f72     Tammie      Haley   \n",
      "36     37  889eCf90f68c5Da   Nicholas       Sosa   \n",
      "38     39  dca4f1D0A0fc5c9      Bruce    Esparza   \n",
      "39     40  17aD8e2dB3df03D     Sherry      Garza   \n",
      "41     42  6e5ad5a5e2bB5Ca      Bryan       Dunn   \n",
      "44     45  30Dfa48fe5Ede78     Rhonda      Frost   \n",
      "49     50  80F33Fd2AcebF05     Latoya     Mccann   \n",
      "54     55  f3BEf3Be028166f      Robin       West   \n",
      "65     66  fF1b6c9E8Fbf1ff   Fernando    Lambert   \n",
      "74     75  D01Af0AF7cBbFeA     Regina      Stein   \n",
      "76     77  BF6a1f9bd1bf8DE   Brittany     Zuniga   \n",
      "80     81  D6CEAfb3BDbaa1A     Leslie   Jennings   \n",
      "81     82  Ebdb6F6F7c90b69   Kathleen      Mckay   \n",
      "83     84  78C06E9b6B3DF20       Chad   Davidson   \n",
      "91     92  98b3aeDcC3B9FF3      Shane      Foley   \n",
      "92     93  aAb6AFc7AfD0fF3     Collin      Ayers   \n",
      "95     96  cb8E23e48d22Eae       Karl      Greer   \n",
      "96     97  CeD220bdAaCfaDf       Lynn   Atkinson   \n",
      "97     98  28CDbC0dFe4b1Db       Fred     Guerra   \n",
      "98     99  c23d1D9EE8DEB0A     Yvonne     Farmer   \n",
      "\n",
      "                            Company               City  \\\n",
      "1                       Vega-Gentry  East Jimmychester   \n",
      "4          Martin, Lang and Andrade     West Priscilla   \n",
      "6      Lester, Woodard and Mitchell           Lake Ana   \n",
      "9                      Beck-Hendrix         Elaineberg   \n",
      "10       Oconnell, Meza and Everett       Shannonville   \n",
      "12                   Graham-Francis  South Joannamouth   \n",
      "14                   Carter-Hancock          Burchbury   \n",
      "19                   Mays-Mccormick         Jamesshire   \n",
      "20                    Patterson Inc         East Carly   \n",
      "30      Acosta, Petersen and Morrow        West Samuel   \n",
      "31                      Mcgee Group  Cunninghamborough   \n",
      "32                   Adkins-Salinas      Port Annatown   \n",
      "33                    Herrera Group        New Kaitlyn   \n",
      "34        Waters, Chase and Aguilar   West Marthaburgh   \n",
      "35       Palmer, Barnes and Houston        East Teresa   \n",
      "36                       Jordan Ltd       South Hunter   \n",
      "38                    Huerta-Mclean          Poolefurt   \n",
      "39                     Anderson Ltd          West John   \n",
      "41                 Kaufman and Sons      North Jimstad   \n",
      "44  Herrera, Shepherd and Underwood    Lake Lindaburgh   \n",
      "49       Hobbs, Garrett and Sanford    Port Sergiofort   \n",
      "54        Nixon, Blackwell and Sosa          Wallstown   \n",
      "65                     Church-Banks         Lake Nancy   \n",
      "74                     Guzman-Brown            Raystad   \n",
      "76                     Mason-Hester      West Reginald   \n",
      "80                Blankenship-Arias          Coreybury   \n",
      "81         Coffey, Lamb and Johnson     Lake Janiceton   \n",
      "83                   Garcia-Jimenez  South Joshuashire   \n",
      "91                       Rocha-Hart   South Dannymouth   \n",
      "92                    Lamb-Peterson       South Lonnie   \n",
      "95                        Carey LLC       East Richard   \n",
      "96            Ware, Burns and Oneal       New Bradview   \n",
      "97                    Schmitt-Jones         Ortegaland   \n",
      "98               Fitzgerald-Harrell    Lake Elijahview   \n",
      "\n",
      "                             Country                 Phone 1  \\\n",
      "1                           Djibouti              5153435776   \n",
      "4         Slovakia (Slovak Republic)  001-234-203-0635x76146   \n",
      "6                   Pitcairn Islands      (496)452-6181x3291   \n",
      "9                        Timor-Leste        739.218.2516x459   \n",
      "10                          Guernsey        637-854-0256x825   \n",
      "12                              Togo        001-949-844-8787   \n",
      "14                         Singapore      (781)861-7180x8306   \n",
      "19                  French Polynesia       (266)131-7001x711   \n",
      "20                             Malta            423.262.3059   \n",
      "30                          Zimbabwe      965-108-4406x20714   \n",
      "31                           Denmark            416-338-3758   \n",
      "32                     Liechtenstein              4077245425   \n",
      "33          United States of America              6303643286   \n",
      "34                           Bahamas    +1-586-217-0359x6317   \n",
      "35                            Belize   001-276-734-4113x6087   \n",
      "36                           Uruguay           (661)425-6042   \n",
      "38                        Montenegro            559-529-4424   \n",
      "39                            Poland    001-067-713-6440x158   \n",
      "41                      Burkina Faso        001-710-802-5565   \n",
      "44                            Monaco           (127)081-9339   \n",
      "49                           Belarus     (530)287-4548x29481   \n",
      "54                           Ecuador            698.303.4267   \n",
      "65                         Lithuania            497.829.9038   \n",
      "74                   Solomon Islands   001-469-848-0724x4407   \n",
      "76                   Kyrgyz Republic           (050)136-9025   \n",
      "80                        Micronesia            629.198.6346   \n",
      "81  Saint Vincent and the Grenadines           (733)910-9968   \n",
      "83                              Oman              8275702958   \n",
      "91                           Hungary                   -1692   \n",
      "92                          Anguilla        404-645-5351x012   \n",
      "95                            Guyana     (188)169-1674x58692   \n",
      "96                         Sri Lanka                   -3769   \n",
      "97                   Solomon Islands    +1-753-067-8419x7170   \n",
      "98                             Aruba           (530)311-9786   \n",
      "\n",
      "                   Phone 2                              Email  \\\n",
      "1         686-620-1820x944                    vmata@colon.com   \n",
      "4    001-199-446-3860x3486            colinalvarado@miles.net   \n",
      "6     +1-247-266-0963x4995                tgates@cantrell.com   \n",
      "9     001-054-401-0347x617                  mdyer@escobar.net   \n",
      "10        114.336.0784x788                 kirksalas@webb.com   \n",
      "12           (855)713-8773                   alex56@walls.org   \n",
      "14            207-185-3665  cassieparrish@blevins-chapman.net   \n",
      "19     (283)312-5579x11543            tuckerangie@salazar.net   \n",
      "20       202-880-0688x7491             fgibson@drake-webb.com   \n",
      "30       046.906.1442x6784         gfigueroa@boone-zavala.com   \n",
      "31           (775)890-7209               tapiagreg@beard.info   \n",
      "32      646.044.0696x66800             coleolson@jennings.net   \n",
      "33      447-710-6202x07313               georgeross@miles.org   \n",
      "34                   -2419     willistonya@randolph-baker.com   \n",
      "35           (430)300-8770           harrisisaiah@jenkins.com   \n",
      "36            975-998-1519                  fwolfe@dorsey.com   \n",
      "38   001-625-000-7132x0367               preese@frye-vega.com   \n",
      "39      (978)289-8785x5766                   ann48@miller.com   \n",
      "41      078.699.8982x13881          woodwardandres@phelps.com   \n",
      "44    +1-431-028-3337x3492           zkrueger@wolf-chavez.net   \n",
      "49      162-234-0249x32790               bobhammond@barry.biz   \n",
      "54    001-683-837-7651x525        greenemiranda@zimmerman.com   \n",
      "65              3863743398           fisherlinda@schaefer.net   \n",
      "74  001-085-360-4426x00357          zrosario@rojas-hardin.net   \n",
      "76   001-480-851-2496x0157       mchandler@cochran-huerta.org   \n",
      "80            075.256.0829                corey75@wiggins.com   \n",
      "81      (691)247-4128x0665  chloelester@higgins-wilkinson.com   \n",
      "83           (804)842-4715          justinwalters@jimenez.com   \n",
      "91  001-626-114-5844x55073                 nsteele@sparks.com   \n",
      "92   001-257-582-8850x8516           dudleyemily@gonzales.biz   \n",
      "95    001-841-293-3519x614                   hhart@jensen.com   \n",
      "96            605.413.3198                  vkemp@ferrell.com   \n",
      "97   +1-632-666-7507x92121                   swagner@kane.org   \n",
      "98  001-869-452-0943x12424     mccarthystephen@horn-green.biz   \n",
      "\n",
      "   Subscription Date                            Website  Numeric_Column  \n",
      "1         2021-04-23              http://www.hobbs.com/              62  \n",
      "4         2021-04-17        https://goodwin-ingram.com/              50  \n",
      "6         2021-08-24                https://www.le.com/              93  \n",
      "9         2021-11-08                 https://arias.com/              29  \n",
      "10        2021-10-20        https://simmons-hurley.com/              29  \n",
      "12        2021-12-02               http://www.beck.com/              72  \n",
      "14        2022-01-26              http://stevenson.org/              47  \n",
      "19        2021-09-24           https://www.camacho.net/              20  \n",
      "20        2022-01-12            http://www.roberts.com/              10  \n",
      "30        2021-09-15     http://www.hawkins-ramsey.com/              34  \n",
      "31        2022-01-13      http://www.daniels-klein.com/              27  \n",
      "32        2021-04-24         https://patel-hanson.info/              84  \n",
      "33        2021-09-21                   http://pham.com/              83  \n",
      "34        2021-11-03      https://spencer-charles.info/              67  \n",
      "35        2022-01-04            http://evans-simon.com/              41  \n",
      "36        2021-08-10  https://www.fleming-richards.com/              80  \n",
      "38        2021-10-22             http://www.farley.org/              42  \n",
      "39        2021-11-01                 http://spence.com/              32  \n",
      "41        2021-09-08             http://www.butler.com/              13  \n",
      "44        2021-12-06               http://www.khan.com/              10  \n",
      "49        2021-12-02            https://www.burton.com/              96  \n",
      "54        2022-01-13              https://www.mora.com/              44  \n",
      "65        2021-04-23              https://www.vang.com/              56  \n",
      "74        2022-01-15          http://www.johnston.info/              35  \n",
      "76        2021-07-24              http://www.boyle.com/              18  \n",
      "80        2021-11-13            https://www.juarez.com/              71  \n",
      "81        2021-09-12       http://www.owens-mooney.com/              85  \n",
      "83        2021-11-15      http://www.garner-oliver.com/              10  \n",
      "91        2021-07-06       https://www.holt-sparks.com/              93  \n",
      "92        2021-06-29               http://www.ruiz.com/              22  \n",
      "95        2022-01-30            http://hayes-perez.com/              20  \n",
      "96        2021-07-10         https://novak-allison.com/              64  \n",
      "97        2021-09-18              https://www.ross.com/              83  \n",
      "98        2021-08-11               http://watkins.info/              10  \n"
     ]
    }
   ],
   "source": [
    "start_data = '2021-04-17'\n",
    "end_date =  '2022-01-30\t'\n",
    "filter_data = data[(data['Subscription Date'] >= start_data) & (data['Subscription Date'] <= end_date)]\n",
    "print(filter_data)"
   ]
  },
  {
   "cell_type": "markdown",
   "id": "ff1434fd-674e-4506-97c3-70dbde22ccf9",
   "metadata": {},
   "source": [
    "-  How do you resample time series data in a timeframe (e.g., from daily to mounthly)."
   ]
  },
  {
   "cell_type": "code",
   "execution_count": 47,
   "id": "641e7741-4814-42f6-8af8-a36932875d96",
   "metadata": {},
   "outputs": [
    {
     "name": "stdout",
     "output_type": "stream",
     "text": [
      "Subscription Date\n",
      "2020-01-31    2\n",
      "2020-02-29    5\n",
      "2020-03-31    3\n",
      "2020-04-30    2\n",
      "2020-05-31    1\n",
      "2020-06-30    2\n",
      "2020-07-31    4\n",
      "2020-08-31    5\n",
      "2020-09-30    4\n",
      "2020-10-31    3\n",
      "2020-11-30    3\n",
      "2020-12-31    4\n",
      "2021-01-31    4\n",
      "2021-02-28    3\n",
      "2021-03-31    5\n",
      "2021-04-30    8\n",
      "2021-05-31    0\n",
      "2021-06-30    1\n",
      "2021-07-31    3\n",
      "2021-08-31    3\n",
      "2021-09-30    6\n",
      "2021-10-31    2\n",
      "2021-11-30    5\n",
      "2021-12-31    3\n",
      "2022-01-31    7\n",
      "2022-02-28    2\n",
      "2022-03-31    4\n",
      "2022-04-30    1\n",
      "2022-05-31    5\n",
      "Freq: ME, Name: Customer Id, dtype: int64\n"
     ]
    },
    {
     "name": "stderr",
     "output_type": "stream",
     "text": [
      "C:\\Users\\Talha\\AppData\\Local\\Temp\\ipykernel_16760\\1339872714.py:3: FutureWarning: 'M' is deprecated and will be removed in a future version, please use 'ME' instead.\n",
      "  monthly_subs = index_1.resample(\"M\")[\"Customer Id\"].count()\n"
     ]
    }
   ],
   "source": [
    "data = pd.read_csv('data.csv', parse_dates = ['Subscription Date'], dayfirst = True)\n",
    "index_1 = data.set_index(\"Subscription Date\")\n",
    "monthly_subs = index_1.resample(\"M\")[\"Customer Id\"].count()\n",
    "\n",
    "print(monthly_subs)"
   ]
  },
  {
   "cell_type": "markdown",
   "id": "f2d4d210-69f8-4755-a350-1ba7fed57c8a",
   "metadata": {},
   "source": [
    "- How do you calculate of a rolling average for a column in a dataframe."
   ]
  },
  {
   "cell_type": "code",
   "execution_count": 48,
   "id": "b6dacb81-2c08-4cd9-afff-934dba8e00d1",
   "metadata": {},
   "outputs": [
    {
     "name": "stdout",
     "output_type": "stream",
     "text": [
      "0     NaN\n",
      "1     NaN\n",
      "2    20.0\n",
      "3    30.0\n",
      "4    40.0\n",
      "5    50.0\n",
      "Name: sales, dtype: float64\n"
     ]
    }
   ],
   "source": [
    "data = pd.DataFrame({\n",
    "    'sales': [10,20,30,40,50,60]\n",
    "})\n",
    "data = data['sales'].rolling(window = 3).mean()\n",
    "print(data)\n",
    "# (10+20+30)/3\n",
    "# (20+30+40)/3\n",
    "# (30+40+50)/3\n",
    "# (40+50+60)/3"
   ]
  },
  {
   "cell_type": "code",
   "execution_count": 49,
   "id": "edaa6099-4c17-4ac2-a7e4-3f958f7b7d13",
   "metadata": {},
   "outputs": [
    {
     "name": "stdout",
     "output_type": "stream",
     "text": [
      "0          NaN\n",
      "1          NaN\n",
      "2    31.000000\n",
      "3    30.666667\n",
      "4    31.666667\n",
      "5    33.333333\n",
      "6    35.000000\n",
      "Name: Temperature, dtype: float64\n"
     ]
    }
   ],
   "source": [
    "#Normal avg: \"What is the one number that represents everything?\"\n",
    "#Rolling avg: \"How is the trend moving step by step?\"\n",
    "data = pd.DataFrame({\n",
    "    'Date': pd.date_range(start = '2025-01-01', periods = 7),\n",
    "    'Temperature': [30, 32, 31, 29, 35, 36, 34]\n",
    "})\n",
    "data = data['Temperature'].rolling(window = 3).mean()\n",
    "print(data)"
   ]
  },
  {
   "cell_type": "markdown",
   "id": "6b6bd5bb-110f-45f2-b038-3eeee95c87ea",
   "metadata": {},
   "source": [
    "- How do you use shift to create lagged or lead columns in a DataFrame?"
   ]
  },
  {
   "cell_type": "code",
   "execution_count": 50,
   "id": "307057d7-e1c6-4d6a-b929-0e5f2bef3dc9",
   "metadata": {},
   "outputs": [
    {
     "name": "stdout",
     "output_type": "stream",
     "text": [
      "You can see clearly how sales are moving compared to yesterday.\n",
      "   day  sales  yesterday_sales  Change\n",
      "0    1    100              NaN     NaN\n",
      "1    2    120            100.0    20.0\n",
      "2    3     90            120.0   -30.0\n",
      "3    4    150             90.0    60.0\n",
      "4    5    130            150.0   -20.0\n"
     ]
    }
   ],
   "source": [
    "# .shift() like moving the column up or down.\n",
    "data = pd.DataFrame({\n",
    "    \"day\": [1, 2, 3, 4, 5],\n",
    "    \"sales\": [100, 120, 90, 150, 130]\n",
    "})\n",
    "data['yesterday_sales'] = data['sales'].shift(1)\n",
    "data['Change'] = data['sales'] - data['yesterday_sales']\n",
    "print('You can see clearly how sales are moving compared to yesterday.')\n",
    "print(data)"
   ]
  },
  {
   "cell_type": "code",
   "execution_count": 51,
   "id": "c4deb4b7-0791-4fae-a7dc-f28b2a7ab0d5",
   "metadata": {},
   "outputs": [
    {
     "name": "stdout",
     "output_type": "stream",
     "text": [
      "You can see clearly how sales are moving compared to yesterday.\n",
      "   day  sales  yesterday_sales  Change     Growth  tomorrow_sales\n",
      "0    1    100              NaN     NaN        NaN           120.0\n",
      "1    2    120            100.0    20.0  20.000000            90.0\n",
      "2    3     90            120.0   -30.0 -25.000000           150.0\n",
      "3    4    150             90.0    60.0  66.666667           130.0\n",
      "4    5    130            150.0   -20.0 -13.333333             NaN\n"
     ]
    }
   ],
   "source": [
    "data = pd.DataFrame({\n",
    "    \"day\": [1, 2, 3, 4, 5],\n",
    "    \"sales\": [100, 120, 90, 150, 130]\n",
    "})\n",
    "data['yesterday_sales'] = data['sales'].shift(1)\n",
    "data['Change'] = data['sales'] - data['yesterday_sales']\n",
    "data['Growth'] = (data['sales'] / data['yesterday_sales'] - 1) * 100\n",
    "data[\"tomorrow_sales\"] = data[\"sales\"].shift(-1)\n",
    "print('You can see clearly how sales are moving compared to yesterday.')\n",
    "print(data)"
   ]
  },
  {
   "cell_type": "code",
   "execution_count": 52,
   "id": "73c970b5-2973-4833-bdbd-18d664d04eb1",
   "metadata": {},
   "outputs": [
    {
     "name": "stdout",
     "output_type": "stream",
     "text": [
      "   Day  Price  Yesterday_price      return\n",
      "0    1    100              NaN         NaN\n",
      "1    2    200            100.0  100.000000\n",
      "2    3    300            200.0   50.000000\n",
      "3    4    400            300.0   33.333333\n",
      "4    5    500            400.0   25.000000\n",
      "5    6    600            500.0   20.000000\n",
      "6    7    700            600.0   16.666667\n",
      "7    8    800            700.0   14.285714\n",
      "8    9    900            800.0   12.500000\n",
      "9   10   1000            900.0   11.111111\n"
     ]
    }
   ],
   "source": [
    "# .shift() helps you build yesterday vs today vs tomorrow comparisons\n",
    "stocks = pd.DataFrame({\n",
    "    'Day': [1,2,3,4,5,6,7,8,9,10],\n",
    "    'Price': [100,200,300,400,500,600,700,800,900,1000]\n",
    "})\n",
    "stocks['Yesterday_price'] = stocks['Price'].shift(1)\n",
    "stocks['return'] = (stocks['Price'] / stocks['Yesterday_price'] - 1) * 100\n",
    "print(stocks)"
   ]
  },
  {
   "cell_type": "markdown",
   "id": "b5a8d291-9f7e-4add-944a-50a91e541afb",
   "metadata": {},
   "source": [
    "- How do you perform a cross-tabulation using crosstab inn pandas."
   ]
  },
  {
   "cell_type": "code",
   "execution_count": 53,
   "id": "297bc543-ff6e-433c-b999-67f46afc58c4",
   "metadata": {},
   "outputs": [
    {
     "name": "stdout",
     "output_type": "stream",
     "text": [
      "Preference  Coffey  Tea\n",
      "Gender                 \n",
      "Female           2    1\n",
      "Male             1    2\n"
     ]
    }
   ],
   "source": [
    "data = pd.DataFrame({\n",
    "    'Gender': ['Male', 'Female', 'Female', 'Female', 'Male', 'Male'],\n",
    "    'Preference': ['Tea', 'Coffey', 'Coffey', 'Tea', 'Tea', 'Coffey']\n",
    "})\n",
    "table = pd.crosstab(data['Gender'], data['Preference'])\n",
    "print(table)"
   ]
  },
  {
   "cell_type": "markdown",
   "id": "d021db83-2e37-4bd3-9471-719d51053d76",
   "metadata": {},
   "source": [
    "- How do you compute the correlation between column in a dataframe."
   ]
  },
  {
   "cell_type": "code",
   "execution_count": 54,
   "id": "72fd6318-39f8-41ae-8b7a-acf6304d1e58",
   "metadata": {},
   "outputs": [
    {
     "name": "stdout",
     "output_type": "stream",
     "text": [
      "           sales    Profit\n",
      "sales   1.000000  0.993238\n",
      "Profit  0.993238  1.000000\n",
      "0.9932380540249528\n"
     ]
    }
   ],
   "source": [
    "# Correlation helps you find relationships between variables.\n",
    "data = pd.DataFrame({\n",
    "    'sales': [100, 120, 90, 150, 130],\n",
    "    'Profit': [20, 25, 18, 35, 30]\n",
    "})\n",
    "print(data.corr())\n",
    "print(data['sales'].corr(data['Profit']))"
   ]
  },
  {
   "cell_type": "markdown",
   "id": "2ee0d576-763a-4664-b81b-ed091d330daa",
   "metadata": {},
   "source": [
    "- How do you style to highlight specific values in a dataframe for visualization?"
   ]
  },
  {
   "cell_type": "code",
   "execution_count": 55,
   "id": "ec2355f2-e279-4fd6-a0d4-7e41400344f2",
   "metadata": {},
   "outputs": [
    {
     "data": {
      "text/html": [
       "<style type=\"text/css\">\n",
       "#T_d64aa_row2_col0, #T_d64aa_row2_col1 {\n",
       "  background-color: darkgreen;\n",
       "}\n",
       "#T_d64aa_row3_col0, #T_d64aa_row3_col1 {\n",
       "  background-color: lightcoral;\n",
       "}\n",
       "</style>\n",
       "<table id=\"T_d64aa\">\n",
       "  <thead>\n",
       "    <tr>\n",
       "      <th class=\"blank level0\" >&nbsp;</th>\n",
       "      <th id=\"T_d64aa_level0_col0\" class=\"col_heading level0 col0\" >sales</th>\n",
       "      <th id=\"T_d64aa_level0_col1\" class=\"col_heading level0 col1\" >Profit</th>\n",
       "    </tr>\n",
       "  </thead>\n",
       "  <tbody>\n",
       "    <tr>\n",
       "      <th id=\"T_d64aa_level0_row0\" class=\"row_heading level0 row0\" >0</th>\n",
       "      <td id=\"T_d64aa_row0_col0\" class=\"data row0 col0\" >100</td>\n",
       "      <td id=\"T_d64aa_row0_col1\" class=\"data row0 col1\" >20</td>\n",
       "    </tr>\n",
       "    <tr>\n",
       "      <th id=\"T_d64aa_level0_row1\" class=\"row_heading level0 row1\" >1</th>\n",
       "      <td id=\"T_d64aa_row1_col0\" class=\"data row1 col0\" >120</td>\n",
       "      <td id=\"T_d64aa_row1_col1\" class=\"data row1 col1\" >25</td>\n",
       "    </tr>\n",
       "    <tr>\n",
       "      <th id=\"T_d64aa_level0_row2\" class=\"row_heading level0 row2\" >2</th>\n",
       "      <td id=\"T_d64aa_row2_col0\" class=\"data row2 col0\" >90</td>\n",
       "      <td id=\"T_d64aa_row2_col1\" class=\"data row2 col1\" >18</td>\n",
       "    </tr>\n",
       "    <tr>\n",
       "      <th id=\"T_d64aa_level0_row3\" class=\"row_heading level0 row3\" >3</th>\n",
       "      <td id=\"T_d64aa_row3_col0\" class=\"data row3 col0\" >150</td>\n",
       "      <td id=\"T_d64aa_row3_col1\" class=\"data row3 col1\" >35</td>\n",
       "    </tr>\n",
       "    <tr>\n",
       "      <th id=\"T_d64aa_level0_row4\" class=\"row_heading level0 row4\" >4</th>\n",
       "      <td id=\"T_d64aa_row4_col0\" class=\"data row4 col0\" >130</td>\n",
       "      <td id=\"T_d64aa_row4_col1\" class=\"data row4 col1\" >30</td>\n",
       "    </tr>\n",
       "  </tbody>\n",
       "</table>\n"
      ],
      "text/plain": [
       "<pandas.io.formats.style.Styler at 0x251baed2830>"
      ]
     },
     "execution_count": 55,
     "metadata": {},
     "output_type": "execute_result"
    }
   ],
   "source": [
    "data = pd.DataFrame({\n",
    "    'sales': [100, 120, 90, 150, 130],\n",
    "    'Profit': [20, 25, 18, 35, 30]\n",
    "})\n",
    "# data.style.highlight_max(color='lightgreen')\n",
    "# data.style.highlight_min(color='darkgreen')\n",
    "data.style.highlight_max(color='lightcoral').highlight_min(color='darkgreen')"
   ]
  },
  {
   "cell_type": "markdown",
   "id": "0851c5a3-268a-49c2-a8d4-7fe10a44c6ec",
   "metadata": {},
   "source": [
    "-  How do you efficiently apply a function to a large dataFrame using vectorized operations instead of apply. "
   ]
  },
  {
   "cell_type": "code",
   "execution_count": 56,
   "id": "9c7392bc-f07c-4cb4-8cb2-a414699e7e31",
   "metadata": {},
   "outputs": [
    {
     "name": "stdout",
     "output_type": "stream",
     "text": [
      "    A  A_squared\n",
      "0   1          1\n",
      "1   2          4\n",
      "2   3          9\n",
      "3   4         16\n",
      "4   5         25\n",
      "5   6         36\n",
      "6   7         49\n",
      "7   8         64\n",
      "8   9         81\n",
      "9  10        100\n"
     ]
    }
   ],
   "source": [
    "# If you want to square each number, you might do:\n",
    "data = pd.DataFrame({\n",
    "    'A': [1,2,3,4,5,6,7,8,9,10]\n",
    "})\n",
    "data['A_squared'] = data['A'].apply(lambda x:  x ** 2)\n",
    "print(data)"
   ]
  },
  {
   "cell_type": "code",
   "execution_count": 57,
   "id": "adf627ec-8d67-47e2-96b7-0d452f72ef27",
   "metadata": {},
   "outputs": [
    {
     "name": "stdout",
     "output_type": "stream",
     "text": [
      "    A  A_squared\n",
      "0   1          1\n",
      "1   2          4\n",
      "2   3          9\n",
      "3   4         16\n",
      "4   5         25\n",
      "5   6         36\n",
      "6   7         49\n",
      "7   8         64\n",
      "8   9         81\n",
      "9  10        100\n"
     ]
    }
   ],
   "source": [
    "# What vectorized operations are\n",
    "# Instead of looping one by one, vectorized operations let you do the calculation on all numbers at once:\n",
    "data['A_squared'] = data['A'] ** 2\n",
    "print(data)\n",
    "# No loop is needed.\n",
    "# The result is exactly the same as apply, but much faster."
   ]
  },
  {
   "cell_type": "code",
   "execution_count": 58,
   "id": "e35fe4eb-2696-4ff6-9ea5-a51c46bb7daa",
   "metadata": {},
   "outputs": [
    {
     "name": "stdout",
     "output_type": "stream",
     "text": [
      "    A  A_plus_5\n",
      "0   1         6\n",
      "1   2         7\n",
      "2   3         8\n",
      "3   4         9\n",
      "4   5        10\n",
      "5   6        11\n",
      "6   7        12\n",
      "7   8        13\n",
      "8   9        14\n",
      "9  10        15\n"
     ]
    }
   ],
   "source": [
    "# More examples\n",
    "data = pd.DataFrame({\n",
    "    'A': [1,2,3,4,5,6,7,8,9,10]\n",
    "})\n",
    "data['A_plus_5'] = data['A'].apply(lambda x: x + 5)\n",
    "print(data)"
   ]
  },
  {
   "cell_type": "code",
   "execution_count": 59,
   "id": "a11743bc-454b-4166-b0db-05b0416b53dd",
   "metadata": {},
   "outputs": [
    {
     "name": "stdout",
     "output_type": "stream",
     "text": [
      "    A  A_plus_5\n",
      "0   1         6\n",
      "1   2         7\n",
      "2   3         8\n",
      "3   4         9\n",
      "4   5        10\n",
      "5   6        11\n",
      "6   7        12\n",
      "7   8        13\n",
      "8   9        14\n",
      "9  10        15\n"
     ]
    }
   ],
   "source": [
    "data = pd.DataFrame({\n",
    "    'A': [1,2,3,4,5,6,7,8,9,10]\n",
    "})\n",
    "data['A_plus_5'] = data['A'] + 5\n",
    "print(data)"
   ]
  },
  {
   "cell_type": "markdown",
   "id": "186b1ff3-25bc-4cbd-8328-7cdf7e47c185",
   "metadata": {},
   "source": [
    "- How do you use memory usuage in a dataframe by downcasting numeric types."
   ]
  },
  {
   "cell_type": "code",
   "execution_count": 62,
   "id": "e6a870a0-4a58-4dc5-a2f1-50e7c21f41b8",
   "metadata": {},
   "outputs": [],
   "source": [
    "df1 = pd.DataFrame({\n",
    "    'emp_id': [1,2,3,4,5],\n",
    "    'name': ['Alice', 'Bob', 'Charlie', 'David', 'Emma'],\n",
    "    'age': [25,34,54,18,32],\n",
    "    'city': ['New York', 'London', 'Paris', 'Tokyo', 'Sydney'],\n",
    "    'dept': ['HR', 'IT', 'Finance', 'HR', 'IT'],\n",
    "    'join_date': ['2020-6-18', '2024-8-12', '2025-5-17', '2020-6-20', '2018-9-30']\n",
    "})\n",
    "df3 = pd.DataFrame({\n",
    "    'date': pd.date_range(start = '2023-01-01', end = '2023-12-31' , freq = 'D'),\n",
    "    'sales': np.random.randint(100,1000,365),\n",
    "    'store_id': np.random.choice(['A', 'B', 'C'], 365)\n",
    "})"
   ]
  },
  {
   "cell_type": "code",
   "execution_count": 63,
   "id": "815744ec-fc40-4021-999a-47cc81a598c1",
   "metadata": {},
   "outputs": [
    {
     "name": "stdout",
     "output_type": "stream",
     "text": [
      "Memory usage of df1 (per column):\n",
      "Index        128\n",
      "emp_id        40\n",
      "name         309\n",
      "age           40\n",
      "city         315\n",
      "dept         300\n",
      "join_date    330\n",
      "dtype: int64\n",
      "\n",
      "Memory usage of df3 (per column):\n",
      "Index         128\n",
      "date         2920\n",
      "sales        1460\n",
      "store_id    21170\n",
      "dtype: int64\n"
     ]
    }
   ],
   "source": [
    "print(\"Memory usage of df1 (per column):\")\n",
    "print(df1.memory_usage(deep=True))\n",
    "\n",
    "print(\"\\nMemory usage of df3 (per column):\")\n",
    "print(df3.memory_usage(deep=True))"
   ]
  },
  {
   "cell_type": "code",
   "execution_count": 64,
   "id": "6c785060-c04f-4323-9ca5-718ef56130e0",
   "metadata": {},
   "outputs": [
    {
     "name": "stdout",
     "output_type": "stream",
     "text": [
      "\n",
      "Total memory of df1: 1462 bytes\n",
      "Total memory of df3: 25678 bytes\n"
     ]
    }
   ],
   "source": [
    "print(\"\\nTotal memory of df1:\", df1.memory_usage(deep=True).sum(), \"bytes\")\n",
    "print(\"Total memory of df3:\", df3.memory_usage(deep=True).sum(), \"bytes\")\n"
   ]
  },
  {
   "cell_type": "markdown",
   "id": "9b726a94-fabe-4251-acda-a7938b41130a",
   "metadata": {},
   "source": [
    "- How do you query to filter a dataframe efficiently."
   ]
  },
  {
   "cell_type": "code",
   "execution_count": 77,
   "id": "14a828ae-3e1b-489d-9881-a4b7989f44db",
   "metadata": {},
   "outputs": [
    {
     "name": "stdout",
     "output_type": "stream",
     "text": [
      "    A   B   C\n",
      "0   1   6  62\n",
      "1  57  46  70\n",
      "2   2  98  63\n",
      "3  93  76  79\n",
      "4  11  52  34\n",
      "5  67  14  79\n",
      "6   9  57  63\n",
      "7  43  25  81\n",
      "8  28  33  66\n",
      "9  98  17  49\n"
     ]
    }
   ],
   "source": [
    "data = pd.DataFrame({\n",
    "    'A': np.random.randint(1, 100, 10),\n",
    "    'B': np.random.randint(1, 100, 10),\n",
    "    'C': np.random.randint(1, 100, 10)\n",
    "})\n",
    "print(data)"
   ]
  },
  {
   "cell_type": "code",
   "execution_count": 78,
   "id": "2ee35be9-e940-4d1b-9bf4-439dc9b180da",
   "metadata": {},
   "outputs": [
    {
     "name": "stdout",
     "output_type": "stream",
     "text": [
      "    A   B   C\n",
      "5  67  14  79\n",
      "9  98  17  49\n"
     ]
    }
   ],
   "source": [
    "print(data.query(\"A > 50 and B < 30\"))\n"
   ]
  },
  {
   "cell_type": "code",
   "execution_count": null,
   "id": "afacf527-5e17-452b-8f2f-859fa952f085",
   "metadata": {},
   "outputs": [],
   "source": []
  }
 ],
 "metadata": {
  "kernelspec": {
   "display_name": "Python 3 (ipykernel)",
   "language": "python",
   "name": "python3"
  },
  "language_info": {
   "codemirror_mode": {
    "name": "ipython",
    "version": 3
   },
   "file_extension": ".py",
   "mimetype": "text/x-python",
   "name": "python",
   "nbconvert_exporter": "python",
   "pygments_lexer": "ipython3",
   "version": "3.10.18"
  }
 },
 "nbformat": 4,
 "nbformat_minor": 5
}
